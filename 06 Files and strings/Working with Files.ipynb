{
 "cells": [
  {
   "cell_type": "markdown",
   "metadata": {},
   "source": [
    "<h2> Working with Files </h2>\n",
    "\n",
    "<h3>Openning a File</h3>\n",
    "\n",
    "For a complete understanding of accessing files, please follow the textbook and textbook slide. In this note, I am only introducing working with plain text files in Python.\n",
    "\n",
    "To begin working with a file, we need to use the <b>open()</b> function to create a file object first. Note that this is true even if you want to write to the file - you can open an empty file in such cases. The syntax is\n",
    "\n",
    "<b>\n",
    "file_variable = open(filename, mode)\n",
    "</b>\n",
    "\n",
    "- file_variable is the name of the variable that will reference your file object.\n",
    "- filename is a string specifying the name of the file\n",
    "- mode is a string specifying how you will use this file in your program:\n",
    "    - \"r\" -- open a file for reading only (input) - the file CANNOT be changed to written to\n",
    "    - \"w\" -- open a file for writing (output) - if the file already exists, erase its contents.  If it does not exist, create it (this is used to create a new file as stated above\n",
    "    - \"a\" -- open a file to be written to the file will be appended to its end\n",
    "\n",
    "For example (you need to have file1.txt in the same folder as this code file):"
   ]
  },
  {
   "cell_type": "code",
   "execution_count": 8,
   "metadata": {},
   "outputs": [
    {
     "name": "stdout",
     "output_type": "stream",
     "text": [
      "<_io.TextIOWrapper name='file1.txt' mode='r' encoding='cp1252'>\n"
     ]
    }
   ],
   "source": [
    "#open file1.txt to read\n",
    "file_1 = open('file1.txt','r')\n",
    "\n",
    "#note that openning a file will not yield any outputs. If you want to see the result, you need to print the file object\n",
    "print(file_1)"
   ]
  },
  {
   "cell_type": "markdown",
   "metadata": {},
   "source": [
    "If the file is in a different folder than the program, you need to include the full path. If you are using Windows, note that all the slashes become double slashes. Below is an example of reading a file from a location in <b>my</b> computer"
   ]
  },
  {
   "cell_type": "code",
   "execution_count": 10,
   "metadata": {},
   "outputs": [],
   "source": [
    "file_1 = open('C:\\\\Users\\\\linhl\\\\Desktop\\\\IT5413\\\\Files\\\\file1.txt', 'r')"
   ]
  },
  {
   "cell_type": "markdown",
   "metadata": {},
   "source": [
    "Similarly, if you want to write, the mode is 'w'. Note that you don't need to have a file with the specified name existed in the path; the file will be automatically created if it is not there already. A file name without any path results in the file being created in the same folder as your program"
   ]
  },
  {
   "cell_type": "code",
   "execution_count": 23,
   "metadata": {},
   "outputs": [],
   "source": [
    "#you can check the program folder after running this line\n",
    "#you should see file2.txt appear in the folder\n",
    "file_2 = open('file2.txt','w')"
   ]
  },
  {
   "cell_type": "code",
   "execution_count": 12,
   "metadata": {},
   "outputs": [],
   "source": [
    "file_3 = open('file1.txt','a')"
   ]
  },
  {
   "cell_type": "markdown",
   "metadata": {},
   "source": [
    "<h3> Writing to a File</h3>\n",
    "\n",
    "To write to a file, we use the <b>write()</b> method from the file object. The syntax is\n",
    "\n",
    "<b>file_variable.write(string)</b>\n",
    "\n",
    "Note that number <b>must</b> be converted to string with the <b>str()</b> function before being able to be written to a file. Also, you <b>must</b> close the file with the <b>close()</b> method for the changes to take effects.\n",
    "\n",
    "For example:"
   ]
  },
  {
   "cell_type": "code",
   "execution_count": 18,
   "metadata": {},
   "outputs": [],
   "source": [
    "file_2 = open('file2.txt','w')\n",
    "file_2.write('Hello World')\n",
    "file_2.close()"
   ]
  },
  {
   "cell_type": "markdown",
   "metadata": {},
   "source": [
    "Note that multiple calls to write() will not separate the strings into different lines. In fact, they will not be separated at all."
   ]
  },
  {
   "cell_type": "code",
   "execution_count": 26,
   "metadata": {},
   "outputs": [],
   "source": [
    "file_2 = open('file2.txt','w')\n",
    "file_2.write('Hello World')\n",
    "file_2.write('Hello World')\n",
    "file_2.write('Hello World')\n",
    "file_2.close()"
   ]
  },
  {
   "cell_type": "markdown",
   "metadata": {},
   "source": [
    "If you want to write multilple lines, you can use the triple quotes \"\"\"...\"\"\""
   ]
  },
  {
   "cell_type": "code",
   "execution_count": null,
   "metadata": {},
   "outputs": [],
   "source": [
    "file_2 = open('file2.txt','w')\n",
    "file_2.write(\"\"\"Hello World!\n",
    "I am learning programming\n",
    "And I do not like it\"\"\")\n",
    "file_2.close()"
   ]
  },
  {
   "cell_type": "markdown",
   "metadata": {},
   "source": [
    "Or we can import os.linesep to format the string"
   ]
  },
  {
   "cell_type": "code",
   "execution_count": 25,
   "metadata": {},
   "outputs": [],
   "source": [
    "from os import linesep\n",
    "\n",
    "#to_file is a string that stores everything I want to write to a file\n",
    "to_file = 'Hello world' + linesep\n",
    "to_file += 'I am learning programming' + linesep\n",
    "to_file += 'I am at the file module' + linesep\n",
    "to_file += 'After we worked with classes and objects last week'\n",
    "\n",
    "file_2 = open('file2.txt','w')\n",
    "file_2.write(to_file)\n",
    "file_2.close()"
   ]
  },
  {
   "cell_type": "markdown",
   "metadata": {},
   "source": [
    "We can surely add more logic to the writing, for example, if we have a list, we can use a loop to write all items into a file"
   ]
  },
  {
   "cell_type": "code",
   "execution_count": 29,
   "metadata": {},
   "outputs": [],
   "source": [
    "name_list = ['Alice','Bob','Carol','Daniel','Emma','Fiona','George','Helena']\n",
    "\n",
    "#we need to open the file before the loop\n",
    "file_2 = open('file2.txt','w')\n",
    "\n",
    "#now add a loop to write each item to the file\n",
    "for name in name_list:\n",
    "    file_2.write(name + linesep)\n",
    "    \n",
    "file_2.close()"
   ]
  },
  {
   "cell_type": "markdown",
   "metadata": {},
   "source": [
    "<h3>Appending to Files</h3>\n",
    "\n",
    "As you can see, everytime we open file2.txt to write something with write(), the old content got overwritten. If you want to <b>add</b> instead of overwrite, you need to use appending mode 'a' when open the file. For example"
   ]
  },
  {
   "cell_type": "code",
   "execution_count": 30,
   "metadata": {},
   "outputs": [],
   "source": [
    "more_names = ['Ian','Jacob','Kaitlyn','Lee','Mark','Nora']\n",
    "\n",
    "#we need to open the file before the loop, now in 'a' mode\n",
    "file_2 = open('file2.txt','a')\n",
    "\n",
    "for name in more_names:\n",
    "    file_2.write(name + linesep)\n",
    "    \n",
    "file_2.close()"
   ]
  },
  {
   "cell_type": "markdown",
   "metadata": {},
   "source": [
    "<h3>Reading from Files</h3>\n",
    "\n",
    "Besides writing, reading from files is surely just as important. There are two methods from the file object that you can use:\n",
    "\n",
    "- read() -- read the whole file \n",
    "- readline() -- read the current line and move on to the next line\n",
    "\n",
    "For example"
   ]
  },
  {
   "cell_type": "code",
   "execution_count": 32,
   "metadata": {},
   "outputs": [
    {
     "name": "stdout",
     "output_type": "stream",
     "text": [
      "hello\n",
      "this\n",
      "is\n",
      "a\n",
      "file\n",
      "with\n",
      "some\n",
      "strings\n"
     ]
    }
   ],
   "source": [
    "file_1 = open('file1.txt','r')\n",
    "\n",
    "from_file_1 = file_1.read()\n",
    "\n",
    "#we still need to close the file after using\n",
    "file_1.close()\n",
    "\n",
    "#what is in the file?\n",
    "print(from_file_1)"
   ]
  },
  {
   "cell_type": "markdown",
   "metadata": {},
   "source": [
    "In general, we prefer reading a file line-by-line, since data is usually stored in a format where different lines represent different instances. In such cases, we use readline()"
   ]
  },
  {
   "cell_type": "code",
   "execution_count": 33,
   "metadata": {},
   "outputs": [
    {
     "name": "stdout",
     "output_type": "stream",
     "text": [
      "hello\n",
      "\n",
      "this\n",
      "\n",
      "is\n",
      "\n"
     ]
    }
   ],
   "source": [
    "file_1 = open('file1.txt','r')\n",
    "\n",
    "#read first line\n",
    "line_1 = file_1.readline()\n",
    "print(line_1)\n",
    "\n",
    "#read second line\n",
    "line_2 = file_1.readline()\n",
    "print(line_2)\n",
    "\n",
    "#read third line\n",
    "line_3 = file_1.readline()\n",
    "print(line_3)\n",
    "\n",
    "file_1.close()"
   ]
  },
  {
   "cell_type": "markdown",
   "metadata": {},
   "source": [
    "You can see, the lines got a new line character added after being read in. We can remove them with the rstrip() method from string, for example"
   ]
  },
  {
   "cell_type": "code",
   "execution_count": 39,
   "metadata": {},
   "outputs": [
    {
     "name": "stdout",
     "output_type": "stream",
     "text": [
      "hello\n",
      "this\n",
      "is\n"
     ]
    }
   ],
   "source": [
    "file_1 = open('file1.txt','r')\n",
    "\n",
    "#read first line\n",
    "line_1 = file_1.readline()\n",
    "print(line_1.rstrip(linesep))\n",
    "\n",
    "#read second line\n",
    "line_2 = file_1.readline()\n",
    "print(line_2.rstrip(linesep))\n",
    "\n",
    "#read third line\n",
    "line_3 = file_1.readline()\n",
    "print(line_3.rstrip(linesep))\n",
    "\n",
    "file_1.close()"
   ]
  },
  {
   "cell_type": "markdown",
   "metadata": {},
   "source": [
    "Data files are usually longer than three lines, and we won't be able to manually read them line-by-line like above. Instead, we can write a loop. The file end when the current line is read as an empty string ''. You can guess, we will use a while loop in this case"
   ]
  },
  {
   "cell_type": "code",
   "execution_count": 38,
   "metadata": {},
   "outputs": [
    {
     "name": "stdout",
     "output_type": "stream",
     "text": [
      "hello\n",
      "this\n",
      "is\n",
      "a\n",
      "file\n",
      "with\n",
      "some\n",
      "strings\n",
      "\n"
     ]
    }
   ],
   "source": [
    "file_1 = open('file1.txt','r')\n",
    "\n",
    "#initialize a string variable different from '' \n",
    "#so we can use it in the while condition\n",
    "line = ' '\n",
    "\n",
    "while (line != ''):\n",
    "    #note that readline() automatically move the \"pointer\" to the next line\n",
    "    #so we don't have to manually do that\n",
    "    line = file_1.readline()\n",
    "    print(line.rstrip(linesep))\n",
    "    \n",
    "file_1.close()"
   ]
  },
  {
   "cell_type": "markdown",
   "metadata": {},
   "source": [
    "Reading from file then print the lines to console is not too useful. Fortunately, now that we know about list, we can store our data in a list, each item represent a line from the file"
   ]
  },
  {
   "cell_type": "code",
   "execution_count": 40,
   "metadata": {},
   "outputs": [],
   "source": [
    "#empty list to stores the lines in the file\n",
    "lines = []\n",
    "\n",
    "file_1 = open('file1.txt','r')\n",
    "\n",
    "line = ' '\n",
    "\n",
    "while (line != ''):\n",
    "    line = file_1.readline()\n",
    "    lines.append(line.rstrip(linesep))\n",
    "    \n",
    "file_1.close()"
   ]
  },
  {
   "cell_type": "code",
   "execution_count": 42,
   "metadata": {},
   "outputs": [
    {
     "data": {
      "text/plain": [
       "['hello', 'this', 'is', 'a', 'file', 'with', 'some', 'strings', '']"
      ]
     },
     "execution_count": 42,
     "metadata": {},
     "output_type": "execute_result"
    }
   ],
   "source": [
    "#the lines list now has all the items from the file\n",
    "lines"
   ]
  },
  {
   "cell_type": "markdown",
   "metadata": {},
   "source": [
    "Alternatively, we can use a for loop, as the file object is also an iterable (list-like) object. Using a for loop is a bit simpler:"
   ]
  },
  {
   "cell_type": "code",
   "execution_count": 43,
   "metadata": {},
   "outputs": [],
   "source": [
    "lines = []\n",
    "\n",
    "file_1 = open('file1.txt','r')\n",
    "\n",
    "#in this case, line is the current lines in the file\n",
    "#and we don't need to use readline() anymore\n",
    "for line in file_1:\n",
    "    lines.append(line.rstrip(linesep))\n",
    "    \n",
    "file_1.close()"
   ]
  },
  {
   "cell_type": "code",
   "execution_count": 44,
   "metadata": {},
   "outputs": [
    {
     "data": {
      "text/plain": [
       "['hello', 'this', 'is', 'a', 'file', 'with', 'some', 'strings']"
      ]
     },
     "execution_count": 44,
     "metadata": {},
     "output_type": "execute_result"
    }
   ],
   "source": [
    "lines"
   ]
  }
 ],
 "metadata": {
  "kernelspec": {
   "display_name": "Python 3 (ipykernel)",
   "language": "python",
   "name": "python3"
  },
  "language_info": {
   "codemirror_mode": {
    "name": "ipython",
    "version": 3
   },
   "file_extension": ".py",
   "mimetype": "text/x-python",
   "name": "python",
   "nbconvert_exporter": "python",
   "pygments_lexer": "ipython3",
   "version": "3.9.12"
  }
 },
 "nbformat": 4,
 "nbformat_minor": 2
}
