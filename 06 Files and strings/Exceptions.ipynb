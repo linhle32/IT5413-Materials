{
 "cells": [
  {
   "cell_type": "markdown",
   "metadata": {},
   "source": [
    "<h2> Exceptions and Try-Except </h2>\n",
    "\n",
    "Exceptions are errors that occur <b>while a program is running</b>. They are different from the errors that prevent your code from running (like syntax error).\n",
    "\n",
    "For example, a syntax error prevents your program from starting"
   ]
  },
  {
   "cell_type": "code",
   "execution_count": 3,
   "metadata": {},
   "outputs": [
    {
     "ename": "SyntaxError",
     "evalue": "Missing parentheses in call to 'print'. Did you mean print(i)? (<ipython-input-3-4ad8f23a1de0>, line 2)",
     "output_type": "error",
     "traceback": [
      "\u001b[1;36m  File \u001b[1;32m\"<ipython-input-3-4ad8f23a1de0>\"\u001b[1;36m, line \u001b[1;32m2\u001b[0m\n\u001b[1;33m    print i\u001b[0m\n\u001b[1;37m          ^\u001b[0m\n\u001b[1;31mSyntaxError\u001b[0m\u001b[1;31m:\u001b[0m Missing parentheses in call to 'print'. Did you mean print(i)?\n"
     ]
    }
   ],
   "source": [
    "for i in range(10):\n",
    "    print i"
   ]
  },
  {
   "cell_type": "code",
   "execution_count": 11,
   "metadata": {},
   "outputs": [
    {
     "name": "stdout",
     "output_type": "stream",
     "text": [
      "please enter a number: 0\n"
     ]
    },
    {
     "ename": "ZeroDivisionError",
     "evalue": "division by zero",
     "output_type": "error",
     "traceback": [
      "\u001b[1;31m---------------------------------------------------------------------------\u001b[0m",
      "\u001b[1;31mZeroDivisionError\u001b[0m                         Traceback (most recent call last)",
      "\u001b[1;32m<ipython-input-11-a2c263c49153>\u001b[0m in \u001b[0;36m<module>\u001b[1;34m\u001b[0m\n\u001b[0;32m      1\u001b[0m \u001b[0mnum\u001b[0m \u001b[1;33m=\u001b[0m \u001b[0mint\u001b[0m\u001b[1;33m(\u001b[0m\u001b[0minput\u001b[0m\u001b[1;33m(\u001b[0m\u001b[1;34m'please enter a number: '\u001b[0m\u001b[1;33m)\u001b[0m\u001b[1;33m)\u001b[0m\u001b[1;33m\u001b[0m\u001b[1;33m\u001b[0m\u001b[0m\n\u001b[1;32m----> 2\u001b[1;33m \u001b[0mprint\u001b[0m\u001b[1;33m(\u001b[0m\u001b[1;36m1\u001b[0m\u001b[1;33m/\u001b[0m\u001b[0mnum\u001b[0m\u001b[1;33m)\u001b[0m\u001b[1;33m\u001b[0m\u001b[1;33m\u001b[0m\u001b[0m\n\u001b[0m\u001b[0;32m      3\u001b[0m \u001b[1;33m\u001b[0m\u001b[0m\n\u001b[0;32m      4\u001b[0m \u001b[1;31m##\u001b[0m\u001b[1;33m\u001b[0m\u001b[1;33m\u001b[0m\u001b[1;33m\u001b[0m\u001b[0m\n\u001b[0;32m      5\u001b[0m \u001b[1;31m##\u001b[0m\u001b[1;33m\u001b[0m\u001b[1;33m\u001b[0m\u001b[1;33m\u001b[0m\u001b[0m\n",
      "\u001b[1;31mZeroDivisionError\u001b[0m: division by zero"
     ]
    }
   ],
   "source": [
    "num = int(input('please enter a number: '))\n",
    "print(1/num)\n",
    "\n",
    "##\n",
    "##\n",
    "\n",
    "##\n",
    "#\n",
    "print('something')"
   ]
  },
  {
   "cell_type": "markdown",
   "metadata": {},
   "source": [
    "An exception occurs some time after the program has started, and halts the execution. In the cell below, the code was executing when a division by 0 occurs and stops the program"
   ]
  },
  {
   "cell_type": "code",
   "execution_count": 12,
   "metadata": {},
   "outputs": [
    {
     "name": "stdout",
     "output_type": "stream",
     "text": [
      "0.3333333333333333\n",
      "0.5\n",
      "1.0\n"
     ]
    },
    {
     "ename": "ZeroDivisionError",
     "evalue": "division by zero",
     "output_type": "error",
     "traceback": [
      "\u001b[1;31m---------------------------------------------------------------------------\u001b[0m",
      "\u001b[1;31mZeroDivisionError\u001b[0m                         Traceback (most recent call last)",
      "\u001b[1;32m<ipython-input-12-5ceac0c4829b>\u001b[0m in \u001b[0;36m<module>\u001b[1;34m\u001b[0m\n\u001b[0;32m      1\u001b[0m \u001b[1;32mfor\u001b[0m \u001b[0mi\u001b[0m \u001b[1;32min\u001b[0m \u001b[0mrange\u001b[0m\u001b[1;33m(\u001b[0m\u001b[1;36m3\u001b[0m\u001b[1;33m,\u001b[0m\u001b[1;33m-\u001b[0m\u001b[1;36m3\u001b[0m\u001b[1;33m,\u001b[0m\u001b[1;33m-\u001b[0m\u001b[1;36m1\u001b[0m\u001b[1;33m)\u001b[0m\u001b[1;33m:\u001b[0m\u001b[1;33m\u001b[0m\u001b[1;33m\u001b[0m\u001b[0m\n\u001b[1;32m----> 2\u001b[1;33m     \u001b[0mprint\u001b[0m\u001b[1;33m(\u001b[0m\u001b[1;36m1\u001b[0m\u001b[1;33m/\u001b[0m\u001b[0mi\u001b[0m\u001b[1;33m)\u001b[0m\u001b[1;33m\u001b[0m\u001b[1;33m\u001b[0m\u001b[0m\n\u001b[0m",
      "\u001b[1;31mZeroDivisionError\u001b[0m: division by zero"
     ]
    }
   ],
   "source": [
    "for i in range(3,-3,-1):\n",
    "    print(1/i)"
   ]
  },
  {
   "cell_type": "markdown",
   "metadata": {},
   "source": [
    "Sometimes you can avoid these errors by carefully writing the code, for example, try to validate user input, add statements to control invalid math operations (divided by 0, log(0)...)"
   ]
  },
  {
   "cell_type": "code",
   "execution_count": 13,
   "metadata": {},
   "outputs": [
    {
     "name": "stdout",
     "output_type": "stream",
     "text": [
      "0.3333333333333333\n",
      "0.5\n",
      "1.0\n",
      "-1.0\n",
      "-0.5\n"
     ]
    }
   ],
   "source": [
    "for i in range(3,-3,-1):\n",
    "    #add a check for i=0, skip the iteration if i=0\n",
    "    if (i==0):\n",
    "        continue\n",
    "    print(1/i)"
   ]
  },
  {
   "cell_type": "markdown",
   "metadata": {},
   "source": [
    "But sometimes we cannot avoid them no matter how carefully you write the code. In such cases, we use a <b>try - except</b> structure. The syntax is\n",
    "\n",
    "<b>\n",
    "    try: <br>\n",
    "    &emsp;#code that may cause exceptions <br>\n",
    "    except Exception_Name: <br>\n",
    "    &emsp;#code to run when the exception occurs <br>\n",
    "</b>\n",
    "\n",
    "When an exception occurs in the try block, if the exception type match the one in the except statement, the code in the except statement will be executed while the rest of the code in the try block is skipped. \n",
    "\n",
    "After the except block finishes executing, the program returns to the code after the try-except block\n",
    "\n",
    "For example, in the cell below, the exception occurs in the iteration "
   ]
  },
  {
   "cell_type": "code",
   "execution_count": 13,
   "metadata": {},
   "outputs": [
    {
     "ename": "IndexError",
     "evalue": "list index out of range",
     "output_type": "error",
     "traceback": [
      "\u001b[1;31m---------------------------------------------------------------------------\u001b[0m",
      "\u001b[1;31mIndexError\u001b[0m                                Traceback (most recent call last)",
      "\u001b[1;32m<ipython-input-13-9453cbd50619>\u001b[0m in \u001b[0;36m<module>\u001b[1;34m\u001b[0m\n\u001b[0;32m      1\u001b[0m \u001b[0mlist1\u001b[0m \u001b[1;33m=\u001b[0m \u001b[1;33m[\u001b[0m\u001b[1;33m]\u001b[0m\u001b[1;33m\u001b[0m\u001b[1;33m\u001b[0m\u001b[0m\n\u001b[1;32m----> 2\u001b[1;33m \u001b[0mlist1\u001b[0m\u001b[1;33m[\u001b[0m\u001b[1;36m0\u001b[0m\u001b[1;33m]\u001b[0m\u001b[1;33m\u001b[0m\u001b[1;33m\u001b[0m\u001b[0m\n\u001b[0m",
      "\u001b[1;31mIndexError\u001b[0m: list index out of range"
     ]
    }
   ],
   "source": [
    "list1 = []\n",
    "list1[0]"
   ]
  },
  {
   "cell_type": "code",
   "execution_count": 17,
   "metadata": {},
   "outputs": [
    {
     "name": "stdout",
     "output_type": "stream",
     "text": [
      "some codes before the exception...\n",
      "Warning: exception encountered!\n",
      "more codes after the try-except block...\n"
     ]
    }
   ],
   "source": [
    "i = 0\n",
    "list1 = []\n",
    "\n",
    "try:\n",
    "    print('some codes before the exception...')\n",
    "    print(list1[0])\n",
    "    print(1/i)\n",
    "    print('some codes after the exception...')\n",
    "except:\n",
    "    print('Warning: exception encountered!')\n",
    "    \n",
    "print('more codes after the try-except block...')"
   ]
  },
  {
   "cell_type": "markdown",
   "metadata": {},
   "source": [
    "In a loop, it means the rest of the iteration with exception is skipped, the program jumps to the next iteration (with respect to the iteration where an exeption occurs)"
   ]
  },
  {
   "cell_type": "code",
   "execution_count": 16,
   "metadata": {},
   "outputs": [
    {
     "name": "stdout",
     "output_type": "stream",
     "text": [
      "begin iteration, i = 3\n",
      "0.3333333333333333\n",
      "end iteration\n",
      "begin iteration, i = 2\n",
      "0.5\n",
      "end iteration\n",
      "begin iteration, i = 1\n",
      "1.0\n",
      "end iteration\n",
      "begin iteration, i = 0\n",
      "Warning: encounter dividing by 0\n",
      "begin iteration, i = -1\n",
      "-1.0\n",
      "end iteration\n",
      "begin iteration, i = -2\n",
      "-0.5\n",
      "end iteration\n"
     ]
    }
   ],
   "source": [
    "for i in range(3,-3,-1):\n",
    "    try:\n",
    "        print('begin iteration, i =',i)\n",
    "        print(1/i)\n",
    "        print('end iteration')\n",
    "    except ZeroDivisionError:\n",
    "        print('Warning: encounter dividing by 0')"
   ]
  },
  {
   "cell_type": "markdown",
   "metadata": {},
   "source": [
    "In general, you still need to know the potential errors that your code can cause when using try-except structures. In some cases, the problem can be solved with if/else, for example, the code above. However, some situations can be solved much better with try-except, for example, validate input to be numeric (int or integer):"
   ]
  },
  {
   "cell_type": "code",
   "execution_count": 5,
   "metadata": {},
   "outputs": [
    {
     "name": "stdout",
     "output_type": "stream",
     "text": [
      "Please enter a number: asdf\n"
     ]
    },
    {
     "ename": "ValueError",
     "evalue": "invalid literal for int() with base 10: 'asdf'",
     "output_type": "error",
     "traceback": [
      "\u001b[1;31m---------------------------------------------------------------------------\u001b[0m",
      "\u001b[1;31mValueError\u001b[0m                                Traceback (most recent call last)",
      "\u001b[1;32m<ipython-input-5-a67d8d5278e4>\u001b[0m in \u001b[0;36m<module>\u001b[1;34m\u001b[0m\n\u001b[0;32m      1\u001b[0m \u001b[1;31m#when asking for numeric input from keyboard, you will encounter a ValueError if the input cannot be converted to numbers\u001b[0m\u001b[1;33m\u001b[0m\u001b[1;33m\u001b[0m\u001b[1;33m\u001b[0m\u001b[0m\n\u001b[1;32m----> 2\u001b[1;33m \u001b[0ma_number\u001b[0m \u001b[1;33m=\u001b[0m \u001b[0mint\u001b[0m\u001b[1;33m(\u001b[0m\u001b[0minput\u001b[0m\u001b[1;33m(\u001b[0m\u001b[1;34m'Please enter a number: '\u001b[0m\u001b[1;33m)\u001b[0m\u001b[1;33m)\u001b[0m\u001b[1;33m\u001b[0m\u001b[1;33m\u001b[0m\u001b[0m\n\u001b[0m",
      "\u001b[1;31mValueError\u001b[0m: invalid literal for int() with base 10: 'asdf'"
     ]
    }
   ],
   "source": [
    "#when asking for numeric input from keyboard, you will encounter a ValueError if the input cannot be converted to numbers\n",
    "a_number = int(input('Please enter a number: '))"
   ]
  },
  {
   "cell_type": "markdown",
   "metadata": {},
   "source": [
    "Without try-except, validating the input to be number is pretty complicated. With try-except, it is quite simple:"
   ]
  },
  {
   "cell_type": "code",
   "execution_count": 20,
   "metadata": {},
   "outputs": [
    {
     "name": "stdout",
     "output_type": "stream",
     "text": [
      "Please enter an integer number: asdfasdg\n"
     ]
    },
    {
     "ename": "ValueError",
     "evalue": "invalid literal for int() with base 10: 'asdfasdg'",
     "output_type": "error",
     "traceback": [
      "\u001b[1;31m---------------------------------------------------------------------------\u001b[0m",
      "\u001b[1;31mValueError\u001b[0m                                Traceback (most recent call last)",
      "\u001b[1;32m<ipython-input-20-8a3e4d209564>\u001b[0m in \u001b[0;36m<module>\u001b[1;34m\u001b[0m\n\u001b[1;32m----> 1\u001b[1;33m \u001b[0ma_number\u001b[0m \u001b[1;33m=\u001b[0m \u001b[0mint\u001b[0m\u001b[1;33m(\u001b[0m\u001b[0minput\u001b[0m\u001b[1;33m(\u001b[0m\u001b[1;34m\"Please enter an integer number: \"\u001b[0m\u001b[1;33m)\u001b[0m\u001b[1;33m)\u001b[0m\u001b[1;33m\u001b[0m\u001b[1;33m\u001b[0m\u001b[0m\n\u001b[0m",
      "\u001b[1;31mValueError\u001b[0m: invalid literal for int() with base 10: 'asdfasdg'"
     ]
    }
   ],
   "source": [
    "a_number = int(input(\"Please enter an integer number: \"))"
   ]
  },
  {
   "cell_type": "code",
   "execution_count": 21,
   "metadata": {},
   "outputs": [
    {
     "name": "stdout",
     "output_type": "stream",
     "text": [
      "Please enter an integer number: asdf\n",
      "Please enter a valid integer number: \n",
      "Please enter an integer number: asdf\n",
      "Please enter a valid integer number: \n",
      "Please enter an integer number: ndvcx\n",
      "Please enter a valid integer number: \n",
      "Please enter an integer number: 6hgdf\n",
      "Please enter a valid integer number: \n",
      "Please enter an integer number: sadf\n",
      "Please enter a valid integer number: \n",
      "Please enter an integer number: 10\n"
     ]
    }
   ],
   "source": [
    "#we create a loop that repeats infinitely until the user enter the correct value\n",
    "while True:\n",
    "    try:\n",
    "        a_number = int(input(\"Please enter an integer number: \"))\n",
    "        break\n",
    "    except ValueError:\n",
    "        print(\"Please enter a valid integer number: \")"
   ]
  },
  {
   "cell_type": "markdown",
   "metadata": {},
   "source": [
    "Working with files has many potential exceptions. For example, when trying to read from a non-existing file, or when encounter a line with invalid data in a files."
   ]
  },
  {
   "cell_type": "code",
   "execution_count": 22,
   "metadata": {},
   "outputs": [
    {
     "ename": "FileNotFoundError",
     "evalue": "[Errno 2] No such file or directory: 'some_file.txt'",
     "output_type": "error",
     "traceback": [
      "\u001b[1;31m---------------------------------------------------------------------------\u001b[0m",
      "\u001b[1;31mFileNotFoundError\u001b[0m                         Traceback (most recent call last)",
      "\u001b[1;32m<ipython-input-22-06e6967b57bd>\u001b[0m in \u001b[0;36m<module>\u001b[1;34m\u001b[0m\n\u001b[0;32m      1\u001b[0m \u001b[1;31m#reading non-existing files will raise FileNotFoundError\u001b[0m\u001b[1;33m\u001b[0m\u001b[1;33m\u001b[0m\u001b[1;33m\u001b[0m\u001b[0m\n\u001b[1;32m----> 2\u001b[1;33m \u001b[0min_file\u001b[0m \u001b[1;33m=\u001b[0m \u001b[0mopen\u001b[0m\u001b[1;33m(\u001b[0m\u001b[1;34m'some_file.txt'\u001b[0m\u001b[1;33m,\u001b[0m \u001b[1;34m'r'\u001b[0m\u001b[1;33m)\u001b[0m\u001b[1;33m\u001b[0m\u001b[1;33m\u001b[0m\u001b[0m\n\u001b[0m",
      "\u001b[1;31mFileNotFoundError\u001b[0m: [Errno 2] No such file or directory: 'some_file.txt'"
     ]
    }
   ],
   "source": [
    "#reading non-existing files will raise FileNotFoundError\n",
    "in_file = open('some_file.txt', 'r')"
   ]
  },
  {
   "cell_type": "code",
   "execution_count": 23,
   "metadata": {},
   "outputs": [
    {
     "name": "stdout",
     "output_type": "stream",
     "text": [
      "Please enter the file name: somefile.txt\n",
      "File not found, please try again!\n",
      "Please enter the file name: anotherfile.txt\n",
      "File not found, please try again!\n",
      "Please enter the file name: file1.txt\n"
     ]
    }
   ],
   "source": [
    "while True:\n",
    "    try:\n",
    "        filename = input(\"Please enter the file name: \")\n",
    "        file1 = open(filename, 'r')\n",
    "        break\n",
    "    except FileNotFoundError:\n",
    "        print(\"File not found, please try again!\")"
   ]
  },
  {
   "cell_type": "code",
   "execution_count": 21,
   "metadata": {},
   "outputs": [
    {
     "name": "stdout",
     "output_type": "stream",
     "text": [
      "Alice,80000\n",
      "Bob,75000\n",
      "Carol,90000\n",
      "Daniel,95000\n",
      "Emma,???\n",
      "Fiona,100000\n",
      "George,95000\n"
     ]
    }
   ],
   "source": [
    "#reading file with invalid data field\n",
    "#in this example, the file contains employees' name and salary which is a number\n",
    "#but one line has ??? in place of the salary\n",
    "from os import linesep\n",
    "\n",
    "in_file = open('file_with_errors.txt','r')\n",
    "\n",
    "for line in in_file:\n",
    "    print(line.rstrip(linesep))\n",
    "    \n",
    "in_file.close()"
   ]
  },
  {
   "cell_type": "code",
   "execution_count": 22,
   "metadata": {},
   "outputs": [
    {
     "ename": "ValueError",
     "evalue": "invalid literal for int() with base 10: '???'",
     "output_type": "error",
     "traceback": [
      "\u001b[1;31m---------------------------------------------------------------------------\u001b[0m",
      "\u001b[1;31mValueError\u001b[0m                                Traceback (most recent call last)",
      "\u001b[1;32m<ipython-input-22-ef253888fd5d>\u001b[0m in \u001b[0;36m<module>\u001b[1;34m\u001b[0m\n\u001b[0;32m      9\u001b[0m     \u001b[0mline_strp\u001b[0m \u001b[1;33m=\u001b[0m \u001b[0mline\u001b[0m\u001b[1;33m.\u001b[0m\u001b[0mrstrip\u001b[0m\u001b[1;33m(\u001b[0m\u001b[0mlinesep\u001b[0m\u001b[1;33m)\u001b[0m\u001b[1;33m\u001b[0m\u001b[1;33m\u001b[0m\u001b[0m\n\u001b[0;32m     10\u001b[0m     \u001b[0minfos\u001b[0m \u001b[1;33m=\u001b[0m \u001b[0mline_strp\u001b[0m\u001b[1;33m.\u001b[0m\u001b[0msplit\u001b[0m\u001b[1;33m(\u001b[0m\u001b[1;34m','\u001b[0m\u001b[1;33m)\u001b[0m\u001b[1;33m\u001b[0m\u001b[1;33m\u001b[0m\u001b[0m\n\u001b[1;32m---> 11\u001b[1;33m     \u001b[0mdata\u001b[0m\u001b[1;33m.\u001b[0m\u001b[0mappend\u001b[0m\u001b[1;33m(\u001b[0m\u001b[1;33m[\u001b[0m\u001b[0minfos\u001b[0m\u001b[1;33m[\u001b[0m\u001b[1;36m0\u001b[0m\u001b[1;33m]\u001b[0m\u001b[1;33m,\u001b[0m\u001b[0mint\u001b[0m\u001b[1;33m(\u001b[0m\u001b[0minfos\u001b[0m\u001b[1;33m[\u001b[0m\u001b[1;36m1\u001b[0m\u001b[1;33m]\u001b[0m\u001b[1;33m)\u001b[0m\u001b[1;33m]\u001b[0m\u001b[1;33m)\u001b[0m\u001b[1;33m\u001b[0m\u001b[1;33m\u001b[0m\u001b[0m\n\u001b[0m\u001b[0;32m     12\u001b[0m \u001b[1;33m\u001b[0m\u001b[0m\n\u001b[0;32m     13\u001b[0m \u001b[0min_file\u001b[0m\u001b[1;33m.\u001b[0m\u001b[0mclose\u001b[0m\u001b[1;33m(\u001b[0m\u001b[1;33m)\u001b[0m\u001b[1;33m\u001b[0m\u001b[1;33m\u001b[0m\u001b[0m\n",
      "\u001b[1;31mValueError\u001b[0m: invalid literal for int() with base 10: '???'"
     ]
    }
   ],
   "source": [
    "#so, if you try to convert the salary into numeric values\n",
    "#you will encounter ValueError\n",
    "in_file = open('file_with_errors.txt','r')\n",
    "\n",
    "#empty list to store the items\n",
    "data = []\n",
    "\n",
    "for line in in_file:\n",
    "    line_strp = line.rstrip(linesep)\n",
    "    infos = line_strp.split(',')\n",
    "    data.append([infos[0],int(infos[1])])\n",
    "    \n",
    "in_file.close()"
   ]
  },
  {
   "cell_type": "markdown",
   "metadata": {},
   "source": [
    "How to write a program that handles both exceptions? It is very simple, actually, one try block can goes with multiple except blocks of which each handles a different exception type. Similar to the if-elif structure, only the except block with the matched exception type is invoked."
   ]
  },
  {
   "cell_type": "code",
   "execution_count": 24,
   "metadata": {},
   "outputs": [
    {
     "name": "stdout",
     "output_type": "stream",
     "text": [
      "Invalid data field encountered in the file\n"
     ]
    },
    {
     "data": {
      "text/plain": [
       "[['Alice', 80000], ['Bob', 75000], ['Carol', 90000], ['Daniel', 95000]]"
      ]
     },
     "execution_count": 24,
     "metadata": {},
     "output_type": "execute_result"
    }
   ],
   "source": [
    "try:\n",
    "    in_file = open('file_with_errors.txt','r')\n",
    "\n",
    "    #empty list to store the items\n",
    "    data = []\n",
    "\n",
    "    for line in in_file:\n",
    "        line_strp = line.rstrip(linesep)\n",
    "        infos = line_strp.split(',')\n",
    "        data.append([infos[0],int(infos[1])])\n",
    "\n",
    "except FileNotFoundError:\n",
    "    print('Please use the correct file')\n",
    "\n",
    "except ValueError:\n",
    "    print('Invalid data field encountered in the file')\n",
    "\n",
    "in_file.close()\n",
    "\n",
    "data"
   ]
  },
  {
   "cell_type": "markdown",
   "metadata": {},
   "source": [
    "Can you modify the above code so that after encounter the exception, the rest of the file is read into memory?"
   ]
  },
  {
   "cell_type": "markdown",
   "metadata": {},
   "source": [
    "you can catch a general Exception type in case you don't know what may happen. This block, if you want to use it, should appear after all other more specific except blocks, since it is the most general, and will prevent the other from being caught if put first"
   ]
  },
  {
   "cell_type": "code",
   "execution_count": 30,
   "metadata": {},
   "outputs": [
    {
     "name": "stdout",
     "output_type": "stream",
     "text": [
      "Invalid data field encountered in the file\n"
     ]
    }
   ],
   "source": [
    "try:\n",
    "    in_file = open('file_with_errors.txt','r')\n",
    "\n",
    "    #empty list to store the items\n",
    "    data = []\n",
    "\n",
    "    for line in in_file:\n",
    "        line_strp = line.rstrip(linesep)\n",
    "        infos = line_strp.split(',')\n",
    "        data.append([infos[0],int(infos[1])])\n",
    "\n",
    "except FileNotFoundError:\n",
    "    print('Please use the correct file')\n",
    "\n",
    "except ValueError:\n",
    "    print('Invalid data field encountered in the file')\n",
    "    \n",
    "except Exception:\n",
    "    print('Some unknown exception occured')    "
   ]
  },
  {
   "cell_type": "code",
   "execution_count": 29,
   "metadata": {},
   "outputs": [
    {
     "name": "stdout",
     "output_type": "stream",
     "text": [
      "Some unknown exception occured\n"
     ]
    }
   ],
   "source": [
    "try:\n",
    "    in_file = open('file_with_errors.txt','r')\n",
    "\n",
    "    #empty list to store the items\n",
    "    data = []\n",
    "\n",
    "    for line in in_file:\n",
    "        line_strp = line.rstrip(linesep)\n",
    "        infos = line_strp.split(',')\n",
    "        data.append([infos[0],int(infos[1])])\n",
    "        \n",
    "except Exception:\n",
    "    print('Some unknown exception occured')   \n",
    "    \n",
    "except FileNotFoundError:\n",
    "    print('Please use the correct file')\n",
    "\n",
    "except ValueError:\n",
    "    print('Invalid data field encountered in the file')"
   ]
  },
  {
   "cell_type": "markdown",
   "metadata": {},
   "source": [
    "The else block can be added at the end of the structure. The else block is invoked after the try block only if there are no exceptions during running the try block"
   ]
  },
  {
   "cell_type": "code",
   "execution_count": 33,
   "metadata": {},
   "outputs": [
    {
     "name": "stdout",
     "output_type": "stream",
     "text": [
      "File loading completed with no errors\n"
     ]
    }
   ],
   "source": [
    "try:\n",
    "    in_file = open('file1.txt','r')\n",
    "\n",
    "    #empty list to store the items\n",
    "    data = []\n",
    "\n",
    "    for line in in_file:\n",
    "        data.append(line.rstrip(linesep))\n",
    "    \n",
    "except FileNotFoundError:\n",
    "    print('Please use the correct file')\n",
    "    \n",
    "except ValueError:\n",
    "    print('Invalid data field encountered in the file')   \n",
    "    \n",
    "else:\n",
    "    print('File loading completed with no errors')"
   ]
  },
  {
   "cell_type": "markdown",
   "metadata": {},
   "source": [
    "The finally block can be added at the end of the structure. It is invoked after all other blocks finish running. We can put codes to clean up (like closing file) in the finally block."
   ]
  },
  {
   "cell_type": "code",
   "execution_count": 38,
   "metadata": {},
   "outputs": [
    {
     "name": "stdout",
     "output_type": "stream",
     "text": [
      "File loading completed with no errors\n",
      "File closed\n"
     ]
    }
   ],
   "source": [
    "try:\n",
    "    in_file = open('file1.txt','r')\n",
    "\n",
    "    #empty list to store the items\n",
    "    data = []\n",
    "\n",
    "    for line in in_file:\n",
    "        data.append(line.rstrip(linesep))\n",
    "    \n",
    "except FileNotFoundError:\n",
    "    print('Please use the correct file')\n",
    "    \n",
    "except ValueError:\n",
    "    print('Invalid data field encountered in the file') \n",
    "    \n",
    "else:\n",
    "    print('File loading completed with no errors')\n",
    "    \n",
    "finally:\n",
    "    in_file.close()\n",
    "    print('File closed')"
   ]
  },
  {
   "cell_type": "code",
   "execution_count": 41,
   "metadata": {},
   "outputs": [
    {
     "name": "stdout",
     "output_type": "stream",
     "text": [
      "Invalid data field encountered in the file\n",
      "File closed\n"
     ]
    }
   ],
   "source": [
    "try:\n",
    "    in_file = open('file_with_errors.txt','r')\n",
    "\n",
    "    #empty list to store the items\n",
    "    data = []\n",
    "\n",
    "    for line in in_file:\n",
    "        line_strp = line.rstrip(linesep)\n",
    "        infos = line_strp.split(',')\n",
    "        data.append([infos[0],int(infos[1])])\n",
    "    \n",
    "except FileNotFoundError:\n",
    "    print('Please use the correct file')\n",
    "    \n",
    "except ValueError:\n",
    "    print('Invalid data field encountered in the file')\n",
    "    \n",
    "else:\n",
    "    print('File loading completed with no errors')\n",
    "    \n",
    "finally:\n",
    "    in_file.close()\n",
    "    print('File closed')"
   ]
  }
 ],
 "metadata": {
  "kernelspec": {
   "display_name": "Python 3 (ipykernel)",
   "language": "python",
   "name": "python3"
  },
  "language_info": {
   "codemirror_mode": {
    "name": "ipython",
    "version": 3
   },
   "file_extension": ".py",
   "mimetype": "text/x-python",
   "name": "python",
   "nbconvert_exporter": "python",
   "pygments_lexer": "ipython3",
   "version": "3.9.12"
  }
 },
 "nbformat": 4,
 "nbformat_minor": 2
}
