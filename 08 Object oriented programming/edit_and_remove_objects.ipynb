{
 "cells": [
  {
   "cell_type": "markdown",
   "metadata": {},
   "source": [
    "<h3>Editing Objects</h3>\n",
    "\n",
    "Editing a single object can be done by calling the setters - that is why we write setters anyway. For example, for a class Item"
   ]
  },
  {
   "cell_type": "code",
   "execution_count": 1,
   "metadata": {},
   "outputs": [],
   "source": [
    "class Item:\n",
    "    def __init__(self,iname='',iprice=0):\n",
    "        self.__name = iname\n",
    "        self.__price = iprice\n",
    "        \n",
    "    def get_name(self):\n",
    "        return self.__name\n",
    "    \n",
    "    def get_price(self):\n",
    "        return self.__price\n",
    "    \n",
    "    def set_name(self, iname):\n",
    "        self.__name = iname\n",
    "        \n",
    "    def set_price(self, iprice):\n",
    "        self.__price = iprice\n",
    "        \n",
    "    def __str__(self):\n",
    "        return '%-15s %6.2f' % (self.__name, self.__price)"
   ]
  },
  {
   "cell_type": "code",
   "execution_count": 2,
   "metadata": {},
   "outputs": [
    {
     "name": "stdout",
     "output_type": "stream",
     "text": [
      "Chair           100.00\n",
      "Black Chair     120.00\n"
     ]
    }
   ],
   "source": [
    "chair = Item('Chair',100)\n",
    "print(chair)\n",
    "\n",
    "#now we can change all attributes with setters\n",
    "chair.set_name('Black Chair')\n",
    "chair.set_price(120)\n",
    "\n",
    "print(chair)"
   ]
  },
  {
   "cell_type": "markdown",
   "metadata": {},
   "source": [
    "It becomes more complicated when we have a collection of objects - we need to navigate to the one we want to edit first. For example, if we have a list of Item objects"
   ]
  },
  {
   "cell_type": "code",
   "execution_count": 6,
   "metadata": {},
   "outputs": [
    {
     "name": "stdout",
     "output_type": "stream",
     "text": [
      "Cherry Desk     100.00\n",
      "Oak Desk        120.00\n",
      "Glass Desk      150.00\n",
      "Cherry Chair     80.00\n",
      "Armchair         90.00\n",
      "Oak Chair       100.00\n",
      "Cherry Table    120.00\n"
     ]
    }
   ],
   "source": [
    "item_list = [\n",
    "    Item('Cherry Desk',100),\n",
    "    Item('Oak Desk',120),\n",
    "    Item('Glass Desk',150),\n",
    "    Item('Cherry Chair',80),\n",
    "    Item('Armchair',90),\n",
    "    Item('Oak Chair',100),\n",
    "    Item('Cherry Table',120)\n",
    "]\n",
    "\n",
    "for item in item_list:\n",
    "    print(item)"
   ]
  },
  {
   "cell_type": "markdown",
   "metadata": {},
   "source": [
    "And want to change 'Oak Desk' to 'Oak Desk White' and raise its price to 125. The simplest way is"
   ]
  },
  {
   "cell_type": "code",
   "execution_count": 7,
   "metadata": {},
   "outputs": [
    {
     "name": "stdout",
     "output_type": "stream",
     "text": [
      "Cherry Desk     100.00\n",
      "Oak Desk White  125.00\n",
      "Glass Desk      150.00\n",
      "Cherry Chair     80.00\n",
      "Armchair         90.00\n",
      "Oak Chair       100.00\n",
      "Cherry Table    120.00\n"
     ]
    }
   ],
   "source": [
    "temp_item = item_list[1]\n",
    "temp_item.set_name('Oak Desk White')\n",
    "temp_item.set_price(125)\n",
    "\n",
    "for item in item_list:\n",
    "    print(item)"
   ]
  },
  {
   "cell_type": "markdown",
   "metadata": {},
   "source": [
    "Unfortunately, the simplest way is also the most infeasible way. When the list gets bigger, to some thousand of items, for example, we won't be able to remember all items' indices. We need to search for them first. So, editing always goes with searching. This is the search function from the last module:"
   ]
  },
  {
   "cell_type": "code",
   "execution_count": 8,
   "metadata": {},
   "outputs": [],
   "source": [
    "def search_item_by_name(the_list, pattern):\n",
    "        result = []                         \n",
    "    \n",
    "        for item in the_list:\n",
    "            if pattern.lower() in item.get_name().lower():\n",
    "                result.append(item)                     \n",
    "                                                  \n",
    "        return result              "
   ]
  },
  {
   "cell_type": "markdown",
   "metadata": {},
   "source": [
    "The function returns a list of objects - which may be useful if you want to do some mass editing. When we want to edit a single specific item, we need to make sure the search returns only one result by finding the exact match. For example, if we want to modify 'Oak Chair', we need to find the exact one. But in that case, the result is still a list:"
   ]
  },
  {
   "cell_type": "code",
   "execution_count": 11,
   "metadata": {},
   "outputs": [
    {
     "data": {
      "text/plain": [
       "[<__main__.Item at 0x20c38bf7ec8>]"
      ]
     },
     "execution_count": 11,
     "metadata": {},
     "output_type": "execute_result"
    }
   ],
   "source": [
    "search_item_by_name(item_list,'oak chair')"
   ]
  },
  {
   "cell_type": "markdown",
   "metadata": {},
   "source": [
    "Since the assumption is the result only has one item, we can always use index 0 to access the item"
   ]
  },
  {
   "cell_type": "code",
   "execution_count": 12,
   "metadata": {},
   "outputs": [
    {
     "name": "stdout",
     "output_type": "stream",
     "text": [
      "Oak Chair       100.00\n"
     ]
    }
   ],
   "source": [
    "temp_item = search_item_by_name(item_list, 'oak chair')[0]\n",
    "\n",
    "print(temp_item)"
   ]
  },
  {
   "cell_type": "markdown",
   "metadata": {},
   "source": [
    "And now we can edit the item:"
   ]
  },
  {
   "cell_type": "code",
   "execution_count": 13,
   "metadata": {},
   "outputs": [
    {
     "name": "stdout",
     "output_type": "stream",
     "text": [
      "Oak Chair White 105.00\n"
     ]
    }
   ],
   "source": [
    "temp_item.set_name('Oak Chair White')\n",
    "temp_item.set_price(105)\n",
    "print(temp_item)"
   ]
  },
  {
   "cell_type": "code",
   "execution_count": 14,
   "metadata": {},
   "outputs": [
    {
     "name": "stdout",
     "output_type": "stream",
     "text": [
      "Cherry Desk     100.00\n",
      "Oak Desk White  125.00\n",
      "Glass Desk      150.00\n",
      "Cherry Chair     80.00\n",
      "Armchair         90.00\n",
      "Oak Chair White 105.00\n",
      "Cherry Table    120.00\n"
     ]
    }
   ],
   "source": [
    "for item in item_list:\n",
    "    print(item)"
   ]
  },
  {
   "cell_type": "markdown",
   "metadata": {},
   "source": [
    "To put all into a function, we will need to provide the item that we want to modify, and the new information. Because we don't always want to change all information of the item, a workaround is to give the new information default value, and ignore them if they are default:"
   ]
  },
  {
   "cell_type": "code",
   "execution_count": 15,
   "metadata": {},
   "outputs": [],
   "source": [
    "def edit_item(the_list, item_name, new_name='', new_price=0):\n",
    "    #search for the specific item first\n",
    "    found_item = search_item_by_name(the_list, item_name)[0]\n",
    "    \n",
    "    #then edit. We don't necessarily want to edit everything, \n",
    "    #so if an argument is still having the default value\n",
    "    #we ignore it, i.e. we only update if the new information is provided\n",
    "    if (new_name != ''):\n",
    "        found_item.set_name(new_name)\n",
    "    if (new_price != 0):\n",
    "        found_item.set_price(new_price)"
   ]
  },
  {
   "cell_type": "code",
   "execution_count": 17,
   "metadata": {},
   "outputs": [
    {
     "name": "stdout",
     "output_type": "stream",
     "text": [
      "Cherry Desk     100.00\n",
      "Oak Desk White  125.00\n",
      "Glass Desk      150.00\n",
      "Cherry Chair     80.00\n",
      "Armchair XL     120.00\n",
      "Oak Chair White 105.00\n",
      "Cherry Table    120.00\n"
     ]
    }
   ],
   "source": [
    "edit_item(item_list, 'armchair', 'Armchair XL', 120)\n",
    "\n",
    "for item in item_list:\n",
    "    print(item)"
   ]
  },
  {
   "cell_type": "code",
   "execution_count": 18,
   "metadata": {},
   "outputs": [
    {
     "name": "stdout",
     "output_type": "stream",
     "text": [
      "Cherry Desk     100.00\n",
      "Oak Desk White  125.00\n",
      "Glass Desk      125.00\n",
      "Cherry Chair     80.00\n",
      "Armchair XL     120.00\n",
      "Oak Chair White 105.00\n",
      "Cherry Table    120.00\n"
     ]
    }
   ],
   "source": [
    "#when changing only one attribute, we may want to provide the attribute name\n",
    "edit_item(item_list, 'Glass Desk', new_price = 125)\n",
    "\n",
    "for item in item_list:\n",
    "    print(item)"
   ]
  },
  {
   "cell_type": "markdown",
   "metadata": {},
   "source": [
    "<h3>Removing Objects</h3>\n",
    "\n",
    "Removing is very similar to editing in which we have to find the specific item first. After that, it becomes quite simpler - we can use list.remove()."
   ]
  },
  {
   "cell_type": "code",
   "execution_count": 25,
   "metadata": {},
   "outputs": [],
   "source": [
    "def remove_item(the_list, item_name, new_name='', new_price=0):\n",
    "    #search for the specific item first\n",
    "    found_item = search_item_by_name(the_list, item_name)[0]\n",
    "    \n",
    "    #then remove it\n",
    "    the_list.remove(found_item)"
   ]
  },
  {
   "cell_type": "code",
   "execution_count": 27,
   "metadata": {},
   "outputs": [
    {
     "name": "stdout",
     "output_type": "stream",
     "text": [
      "Cherry Desk     100.00\n",
      "Oak Desk White  125.00\n",
      "Cherry Chair     80.00\n",
      "Armchair XL     120.00\n",
      "Oak Chair White 105.00\n",
      "Cherry Table    120.00\n"
     ]
    }
   ],
   "source": [
    "remove_item(item_list, 'Glass Desk')\n",
    "\n",
    "for item in item_list:\n",
    "    print(item)"
   ]
  },
  {
   "cell_type": "markdown",
   "metadata": {},
   "source": [
    "<h3>Writing the Methods in a Class </h3>\n",
    "\n",
    "Now let put everything in the Store class"
   ]
  },
  {
   "cell_type": "code",
   "execution_count": 20,
   "metadata": {},
   "outputs": [],
   "source": [
    "class Store:\n",
    "    def __init__(self):\n",
    "        self.__item_list = []\n",
    "        \n",
    "    def add_item(self, new_item):\n",
    "        self.__item_list.append(new_item)\n",
    "        \n",
    "    def get_all_items(self):\n",
    "        return self.__item_list.copy()     \n",
    "    \n",
    "    def search_item_by_name(self,pattern):  #method to search by name, just similar like before\n",
    "        result = []                         #but is modified to work with Item objects\n",
    "    \n",
    "        for item in self.__item_list:\n",
    "            if pattern.lower() in item.get_name().lower():          #we find patterns in each item's name\n",
    "                result.append(item)                                 #since this is not inside the Item class \n",
    "                                                                    #we need to use get_name() getter\n",
    "        return result\n",
    "    \n",
    "    #this method is very similar to before, we just remove the_list and use self.__item_list instead\n",
    "    #and we also use self.search_item_by_name() instead of the general function we wrote\n",
    "    def edit_item(self, item_name, new_name='', new_price=0):\n",
    "        found_item = self.search_item_by_name(item_name)[0]\n",
    "\n",
    "        if (new_name != ''):\n",
    "            found_item.set_name(new_name)\n",
    "        if (new_price != 0):\n",
    "            found_item.set_price(new_price)\n",
    "            \n",
    "    #we can also write a method to remove an item\n",
    "    #we can just use list.remove() after finding the specific item\n",
    "    def remove_item(self, item_name):\n",
    "        found_item = self.search_item_by_name(item_name)[0]\n",
    "\n",
    "        self.__item_list.remove(found_item)"
   ]
  },
  {
   "cell_type": "markdown",
   "metadata": {},
   "source": [
    "Now some testing"
   ]
  },
  {
   "cell_type": "code",
   "execution_count": 21,
   "metadata": {},
   "outputs": [
    {
     "name": "stdout",
     "output_type": "stream",
     "text": [
      "Cherry Desk     100.00\n",
      "Oak Desk        120.00\n",
      "Glass Desk      150.00\n",
      "Cherry Chair     80.00\n",
      "Armchair         90.00\n",
      "Oak Chair       100.00\n",
      "Cherry Table    120.00\n"
     ]
    }
   ],
   "source": [
    "store = Store()\n",
    "store.add_item(Item('Cherry Desk',100))\n",
    "store.add_item(Item('Oak Desk',120))\n",
    "store.add_item(Item('Glass Desk',150))\n",
    "store.add_item(Item('Cherry Chair',80))\n",
    "store.add_item(Item('Armchair',90))\n",
    "store.add_item(Item('Oak Chair',100))\n",
    "store.add_item(Item('Cherry Table',120))\n",
    "\n",
    "#print all items in the store=\n",
    "for item in store.get_all_items():\n",
    "    print(item)"
   ]
  },
  {
   "cell_type": "code",
   "execution_count": 22,
   "metadata": {},
   "outputs": [
    {
     "name": "stdout",
     "output_type": "stream",
     "text": [
      "Cherry Desk     100.00\n",
      "Oak Desk XL     150.00\n",
      "Glass Desk      150.00\n",
      "Cherry Chair L   80.00\n",
      "Armchair        105.00\n",
      "Oak Chair       100.00\n",
      "Cherry Table    120.00\n"
     ]
    }
   ],
   "source": [
    "store.edit_item('Oak Desk','Oak Desk XL', 150)\n",
    "store.edit_item('Cherry Chair', new_name='Cherry Chair L')\n",
    "store.edit_item('Armchair', new_price=105)\n",
    "\n",
    "for item in store.get_all_items():\n",
    "    print(item)"
   ]
  },
  {
   "cell_type": "code",
   "execution_count": 23,
   "metadata": {},
   "outputs": [
    {
     "name": "stdout",
     "output_type": "stream",
     "text": [
      "Cherry Desk     100.00\n",
      "Oak Desk XL     150.00\n",
      "Cherry Chair L   80.00\n",
      "Armchair        105.00\n",
      "Oak Chair       100.00\n",
      "Cherry Table    120.00\n"
     ]
    }
   ],
   "source": [
    "store.remove_item('Glass Desk')\n",
    "\n",
    "for item in store.get_all_items():\n",
    "    print(item)"
   ]
  },
  {
   "cell_type": "markdown",
   "metadata": {},
   "source": [
    "<h3> The More Complicated Case </h3>\n",
    "    \n",
    "In the case where one attribute is not unique enough to identify the specific object, we may want to have a more complex search. For example, in the project, either first name or last name won't be unique individually, but the combination is, so we can attempt a search by both attributes.\n",
    "\n",
    "Return to this example, let's assume Item objects also have supplier which may provide the same products. But the (item_name, supplier) pair is unique in the store. We will need to modify the search for edit and remove methods.\n",
    "\n",
    "First, we add the new attribute and getter/setter to the Item class"
   ]
  },
  {
   "cell_type": "code",
   "execution_count": 30,
   "metadata": {},
   "outputs": [],
   "source": [
    "class Item:\n",
    "    def __init__(self,iname='',isupplier='',iprice=0):\n",
    "        self.__name = iname\n",
    "        self.__supplier = isupplier\n",
    "        self.__price = iprice\n",
    "        \n",
    "    def get_name(self):\n",
    "        return self.__name\n",
    "    \n",
    "    def get_supplier(self):\n",
    "        return self.__supplier\n",
    "    \n",
    "    def get_price(self):\n",
    "        return self.__price\n",
    "    \n",
    "    def set_name(self, iname):\n",
    "        self.__name = iname\n",
    "\n",
    "    def set_supplier(self, isupplier):\n",
    "        self.__supplier = isupplier\n",
    "        \n",
    "    def set_price(self, iprice):\n",
    "        self.__price = iprice\n",
    "        \n",
    "    def __str__(self):\n",
    "        return '%-15s %-15s %6.2f' % (self.__name, self.__supplier, self.__price)"
   ]
  },
  {
   "cell_type": "markdown",
   "metadata": {},
   "source": [
    "Now the Store class. We can have two search methods - one by item name and one by supplier. We need another search method to find item for editing and removing"
   ]
  },
  {
   "cell_type": "code",
   "execution_count": 44,
   "metadata": {},
   "outputs": [],
   "source": [
    "class Store:\n",
    "    def __init__(self):\n",
    "        self.__item_list = []\n",
    "        \n",
    "    def add_item(self, new_item):\n",
    "        self.__item_list.append(new_item)\n",
    "        \n",
    "    def get_all_items(self):\n",
    "        return self.__item_list.copy()     \n",
    "    \n",
    "    #search by item names\n",
    "    #returns a list\n",
    "    def search_item_by_name(self,pattern):\n",
    "        result = []                         \n",
    "    \n",
    "        for item in self.__item_list:\n",
    "            if pattern.lower() in item.get_name().lower():         \n",
    "                result.append(item)                                \n",
    "                                                                   \n",
    "        return result\n",
    "\n",
    "    #search by item supplier\n",
    "    #return a list\n",
    "    def search_item_by_supplier(self,pattern):\n",
    "        result = []                         \n",
    "    \n",
    "        for item in self.__item_list:\n",
    "            if pattern.lower() in item.get_supplier().lower():         \n",
    "                result.append(item)                                \n",
    "                                                                   \n",
    "        return result\n",
    "    \n",
    "    #search the specific item using both name and supplier\n",
    "    #return an item object\n",
    "    def search_specific_item(self,iname,isupplier):\n",
    "        found_item = None #we no longer want a list, so just set the result to None at the beginning\n",
    "        \n",
    "        for item in self.__item_list:\n",
    "            #note this below search\n",
    "            #we search for both name and supplier\n",
    "            if (iname.lower() in item.get_name().lower()) and isupplier.lower() in item.get_supplier().lower():         \n",
    "                found_item = item\n",
    "                break #optional, but will save resources\n",
    "        \n",
    "        return found_item\n",
    "    \n",
    "    #now we use the new search_specific_item method to search for item to edit\n",
    "    #and thus we need to provide both item name and its supplier\n",
    "    #and we can also provide new supplier\n",
    "    def edit_item(self, iname, isupplier, new_name='', new_supplier='', new_price=0):\n",
    "        found_item = self.search_specific_item(iname,isupplier)\n",
    "\n",
    "        if (new_name != ''):\n",
    "            found_item.set_name(new_name)\n",
    "        if (new_supplier != ''):\n",
    "            found_item.set_supplier(new_supplier)\n",
    "        if (new_price != 0):\n",
    "            found_item.set_price(new_price)\n",
    "            \n",
    "    #and removing\n",
    "    def remove_item(self, iname, isupplier):\n",
    "        found_item = self.search_specific_item(iname,isupplier)\n",
    "\n",
    "        self.__item_list.remove(found_item)"
   ]
  },
  {
   "cell_type": "markdown",
   "metadata": {},
   "source": [
    "Now let's test our classes"
   ]
  },
  {
   "cell_type": "code",
   "execution_count": 45,
   "metadata": {},
   "outputs": [
    {
     "name": "stdout",
     "output_type": "stream",
     "text": [
      "Cherry Desk     WoodWork        100.00\n",
      "Oak Desk        WoodWork        120.00\n",
      "Cherry Chair    WoodWork         80.00\n",
      "Armchair        WoodWork         90.00\n",
      "Oak Chair       WoodWork        100.00\n",
      "Cherry Table    WoodWork        120.00\n",
      "Armchair        GeneralStuffs    80.00\n",
      "Oak Chair       GeneralStuffs    80.00\n",
      "Cherry Table    GeneralStuffs   100.00\n",
      "Glass Desk      GeneralStuffs   140.00\n",
      "Metal Desk      GeneralStuffs   150.00\n",
      "Folding Chair   GeneralStuffs    60.00\n"
     ]
    }
   ],
   "source": [
    "store = Store()\n",
    "store.add_item(Item('Cherry Desk','WoodWork',100))\n",
    "store.add_item(Item('Oak Desk','WoodWork',120))\n",
    "store.add_item(Item('Cherry Chair','WoodWork',80))\n",
    "store.add_item(Item('Armchair','WoodWork',90))\n",
    "store.add_item(Item('Oak Chair','WoodWork',100))\n",
    "store.add_item(Item('Cherry Table','WoodWork',120))\n",
    "store.add_item(Item('Armchair','GeneralStuffs',80))\n",
    "store.add_item(Item('Oak Chair','GeneralStuffs',80))\n",
    "store.add_item(Item('Cherry Table','GeneralStuffs',100))\n",
    "store.add_item(Item('Glass Desk','GeneralStuffs',140))\n",
    "store.add_item(Item('Metal Desk','GeneralStuffs',150))\n",
    "store.add_item(Item('Folding Chair','GeneralStuffs',60))\n",
    "\n",
    "for item in store.get_all_items():\n",
    "    print(item)"
   ]
  },
  {
   "cell_type": "markdown",
   "metadata": {},
   "source": [
    "The two search methods will return different results"
   ]
  },
  {
   "cell_type": "code",
   "execution_count": 46,
   "metadata": {},
   "outputs": [
    {
     "name": "stdout",
     "output_type": "stream",
     "text": [
      "Cherry Chair    WoodWork         80.00\n",
      "Armchair        WoodWork         90.00\n",
      "Oak Chair       WoodWork        100.00\n",
      "Armchair        GeneralStuffs    80.00\n",
      "Oak Chair       GeneralStuffs    80.00\n",
      "Folding Chair   GeneralStuffs    60.00\n"
     ]
    }
   ],
   "source": [
    "for item in store.search_item_by_name('chair'):\n",
    "    print(item)"
   ]
  },
  {
   "cell_type": "code",
   "execution_count": 47,
   "metadata": {},
   "outputs": [
    {
     "name": "stdout",
     "output_type": "stream",
     "text": [
      "Cherry Desk     WoodWork        100.00\n",
      "Oak Desk        WoodWork        120.00\n",
      "Cherry Chair    WoodWork         80.00\n",
      "Armchair        WoodWork         90.00\n",
      "Oak Chair       WoodWork        100.00\n",
      "Cherry Table    WoodWork        120.00\n"
     ]
    }
   ],
   "source": [
    "for item in store.search_item_by_supplier('woodwork'):\n",
    "    print(item)"
   ]
  },
  {
   "cell_type": "markdown",
   "metadata": {},
   "source": [
    "Notice how we can edit the same items from different suppliers now"
   ]
  },
  {
   "cell_type": "code",
   "execution_count": 48,
   "metadata": {},
   "outputs": [
    {
     "name": "stdout",
     "output_type": "stream",
     "text": [
      "Cherry Desk     WoodWork        100.00\n",
      "Oak Desk        WoodWork        120.00\n",
      "Cherry Chair    WoodWork         80.00\n",
      "Armchair        WoodWork         90.00\n",
      "Oak Chair XL    WoodWork        110.00\n",
      "Cherry Table    WoodWork        120.00\n",
      "Armchair        GeneralStuffs    80.00\n",
      "Oak Chair S     GeneralStuffs    80.00\n",
      "Cherry Table    GeneralStuffs   100.00\n",
      "Glass Desk      GeneralStuffs   140.00\n",
      "Metal Desk      GeneralStuffs   150.00\n",
      "Folding Chair   GeneralStuffs    60.00\n"
     ]
    }
   ],
   "source": [
    "store.edit_item('oak chair','woodwork',new_name='Oak Chair XL', new_price=110)\n",
    "store.edit_item('oak chair','generalstuffs',new_name='Oak Chair S', new_price=80)\n",
    "\n",
    "for item in store.get_all_items():\n",
    "    print(item)"
   ]
  },
  {
   "cell_type": "code",
   "execution_count": 49,
   "metadata": {},
   "outputs": [
    {
     "name": "stdout",
     "output_type": "stream",
     "text": [
      "Cherry Desk     WoodWork        100.00\n",
      "Oak Desk        WoodWork        120.00\n",
      "Cherry Chair    WoodWork         80.00\n",
      "Armchair        WoodWork         90.00\n",
      "Oak Chair XL    WoodWork        110.00\n",
      "Cherry Table    WoodWork        120.00\n",
      "Armchair        GeneralStuffs    80.00\n",
      "Oak Chair S     GeneralStuffs    80.00\n",
      "Cherry Table    GeneralStuffs   100.00\n",
      "Metal Desk      GeneralStuffs   150.00\n",
      "Folding Chair   GeneralStuffs    60.00\n"
     ]
    }
   ],
   "source": [
    "store.remove_item('Glass Desk','GeneralStuffs')\n",
    "\n",
    "for item in store.get_all_items():\n",
    "    print(item)"
   ]
  },
  {
   "cell_type": "markdown",
   "metadata": {},
   "source": [
    "Hopefully this is enough for you to work on the core classes of your project. The last piece you need is how to write the interface for the program, which will come later."
   ]
  }
 ],
 "metadata": {
  "kernelspec": {
   "display_name": "Python 3",
   "language": "python",
   "name": "python3"
  },
  "language_info": {
   "codemirror_mode": {
    "name": "ipython",
    "version": 3
   },
   "file_extension": ".py",
   "mimetype": "text/x-python",
   "name": "python",
   "nbconvert_exporter": "python",
   "pygments_lexer": "ipython3",
   "version": "3.7.6"
  }
 },
 "nbformat": 4,
 "nbformat_minor": 2
}
