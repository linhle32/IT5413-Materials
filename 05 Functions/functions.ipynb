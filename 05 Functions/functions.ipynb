{
 "cells": [
  {
   "cell_type": "markdown",
   "metadata": {},
   "source": [
    "<h2> Module 5 - Functions </h2>\n",
    "\n",
    "In module 2, we initially discussed functions, which are named prewritten codes that can be <b>call</b> to do certain tasks. So far, we have been working with several functions like print(), type(), input(), int(), float().\n",
    "\n",
    "Writing functions allows wrapping codes into modules and reusing them as necessary. This is also called <b>modular programming</b>\n",
    "\n",
    "For example, in the last module, we learned to compute the sum of a sequence of integer numbers. Let's say we need to write a program that needs to redo that process many times with different values, e.g. sum of 1-10, 20-50, 25-75... the version that uses only loops:"
   ]
  },
  {
   "cell_type": "code",
   "execution_count": 7,
   "metadata": {},
   "outputs": [
    {
     "name": "stdout",
     "output_type": "stream",
     "text": [
      "55 1085 2185\n"
     ]
    }
   ],
   "source": [
    "sum1 = 0\n",
    "for num in range(1,11):\n",
    "    sum1 += num\n",
    "    \n",
    "#some codes\n",
    "#...\n",
    "sum2 = 0\n",
    "for num in range(20,51):\n",
    "    sum2 += num\n",
    "    \n",
    "#some more codes\n",
    "#...\n",
    "sum3 = 0\n",
    "for num in range(25,71):\n",
    "    sum3 += num\n",
    "\n",
    "#and repeat the for loop as many times as we need\n",
    "print(sum1, sum2, sum3)"
   ]
  },
  {
   "cell_type": "markdown",
   "metadata": {},
   "source": [
    "The problem is similar to repeat something without a loop - the code is large and ugly, and is difficult to maintain. We can instead wrap the process of computing the sum into a function"
   ]
  },
  {
   "cell_type": "code",
   "execution_count": 5,
   "metadata": {},
   "outputs": [],
   "source": [
    "def my_sum(start, stop):\n",
    "    sum_ = 0\n",
    "    for num in range(start, stop+1):\n",
    "        sum_ += num\n",
    "    return sum_"
   ]
  },
  {
   "cell_type": "markdown",
   "metadata": {},
   "source": [
    "Then call the function when we need. The code looks a lot nicer, and is a lot easier to maintain"
   ]
  },
  {
   "cell_type": "code",
   "execution_count": 8,
   "metadata": {},
   "outputs": [
    {
     "name": "stdout",
     "output_type": "stream",
     "text": [
      "55 1085 2550 5050\n"
     ]
    }
   ],
   "source": [
    "sum1 = my_sum(1,10)\n",
    "sum2 = my_sum(20,50)\n",
    "sum3 = my_sum(25,75)\n",
    "sum4 = my_sum(0,100)\n",
    "\n",
    "print(sum1,sum2,sum3,sum4)"
   ]
  },
  {
   "cell_type": "markdown",
   "metadata": {},
   "source": [
    "Now that we know how useful functions are, let's discuss them in more details\n",
    "\n",
    "<h3>Void Functions and Value-Returning Functions</h3>\n",
    "\n",
    "Functions can be divided into two types: void and value-returning\n",
    "- Void functions perform some codes and do not return anything\n",
    "    - One example is the print() function\n",
    "- Value-returning functions perform some codes and return certain values\n",
    "    - Examples are functions like input(), int(), float()..."
   ]
  },
  {
   "cell_type": "code",
   "execution_count": 11,
   "metadata": {},
   "outputs": [
    {
     "name": "stdout",
     "output_type": "stream",
     "text": [
      "is this function returning anything?\n",
      "None\n"
     ]
    }
   ],
   "source": [
    "#if we try to assign the value of a void function to a variable\n",
    "#the variable carries the None value\n",
    "x = print('is this function returning anything?')\n",
    "print(x)"
   ]
  },
  {
   "cell_type": "code",
   "execution_count": 12,
   "metadata": {},
   "outputs": [
    {
     "name": "stdout",
     "output_type": "stream",
     "text": [
      "1\n"
     ]
    }
   ],
   "source": [
    "#a value-returning function returns a value after it is executed\n",
    "#and that value can be assigned to other variables\n",
    "#or use in operations\n",
    "an_integer = int(1.000001)\n",
    "print(an_integer)"
   ]
  },
  {
   "cell_type": "markdown",
   "metadata": {},
   "source": [
    "<h3> Defining a Function </h3>\n",
    "\n",
    "As in the sum example, we begin writing a function with the keyword <b>def</b>:\n",
    "\n",
    "<b>def &lt;function name&gt;(): <br>\n",
    "&emsp;#codes to be executed\n",
    "</b>\n",
    "\n",
    "- Naming functions follows the same convention with naming variables\n",
    "- <b>def</b> is the required key word\n",
    "- The parentheses <b>()</b> are required\n",
    "\n",
    "For example, a function that will execute a few print statements"
   ]
  },
  {
   "cell_type": "code",
   "execution_count": 14,
   "metadata": {},
   "outputs": [],
   "source": [
    "def greeting():\n",
    "    print('Hello')\n",
    "    print(\"It's a nice day\")\n",
    "    print('How are you')"
   ]
  },
  {
   "cell_type": "markdown",
   "metadata": {},
   "source": [
    "Note that the def statement <b>only defines</b> the function (associates the codes to the function name) <b>without executing</b> the codes in the function body which are only executed when the function is called"
   ]
  },
  {
   "cell_type": "code",
   "execution_count": 16,
   "metadata": {},
   "outputs": [
    {
     "name": "stdout",
     "output_type": "stream",
     "text": [
      "Hello\n",
      "It's a nice day\n",
      "How are you\n",
      "\n",
      "program is running...\n",
      "keep running...\n",
      "\n",
      "Hello\n",
      "It's a nice day\n",
      "How are you\n"
     ]
    }
   ],
   "source": [
    "#after defining the function, we can call it anywhere in our code\n",
    "#just like calling other built-in functions\n",
    "#we call the function name and ()\n",
    "#function call\n",
    "greeting()\n",
    "\n",
    "#some code\n",
    "print()\n",
    "print('program is running...')\n",
    "print('keep running...')\n",
    "print()\n",
    "\n",
    "#another function call\n",
    "greeting()"
   ]
  },
  {
   "cell_type": "markdown",
   "metadata": {},
   "source": [
    "Of course, we can use any structures like if or loops in a function"
   ]
  },
  {
   "cell_type": "code",
   "execution_count": 17,
   "metadata": {},
   "outputs": [],
   "source": [
    "def greeting_5_times():\n",
    "    for num in range(5):\n",
    "        print('Hello')"
   ]
  },
  {
   "cell_type": "code",
   "execution_count": 19,
   "metadata": {},
   "outputs": [
    {
     "name": "stdout",
     "output_type": "stream",
     "text": [
      "Hello\n",
      "Hello\n",
      "Hello\n",
      "Hello\n",
      "Hello\n"
     ]
    }
   ],
   "source": [
    "greeting_5_times()"
   ]
  },
  {
   "cell_type": "markdown",
   "metadata": {},
   "source": [
    "A body with regular codes makes the function void. Both the greeting() and greeting_5_times() functions are void:"
   ]
  },
  {
   "cell_type": "code",
   "execution_count": 20,
   "metadata": {},
   "outputs": [
    {
     "name": "stdout",
     "output_type": "stream",
     "text": [
      "Hello\n",
      "It's a nice day\n",
      "How are you\n",
      "Hello\n",
      "Hello\n",
      "Hello\n",
      "Hello\n",
      "Hello\n",
      "None\n",
      "None\n"
     ]
    }
   ],
   "source": [
    "x = greeting()\n",
    "y = greeting_5_times()\n",
    "print(x)\n",
    "print(y)"
   ]
  },
  {
   "cell_type": "markdown",
   "metadata": {},
   "source": [
    "We also see that calling a function anywhere, even in assignment operations, will execute the function.\n",
    "\n",
    "To define a value-returning function, we need to add a <b>return</b> statement. Defining a function with a return statement:\n",
    "\n",
    "<b>def &lt;function name&gt;(): <br>\n",
    "&emsp;#codes to be executed <br>\n",
    "&emsp;return &lt;value to return&gt;\n",
    "</b>\n",
    "\n",
    "For example, we can write a function that compute the sum of integers from 1 to 100"
   ]
  },
  {
   "cell_type": "code",
   "execution_count": 1,
   "metadata": {},
   "outputs": [],
   "source": [
    "def sum_100_ints():\n",
    "    sum_ = 0                 #regular for loop and accumulator to compute sum\n",
    "    for num in range(101):\n",
    "        sum_ += num\n",
    "        \n",
    "    return sum_              #after the computation, we set the final value, or the return value\n",
    "                             #in the return statement\n",
    "                             #the function will have the value of sum_ whenever it is called"
   ]
  },
  {
   "cell_type": "code",
   "execution_count": 2,
   "metadata": {},
   "outputs": [
    {
     "name": "stdout",
     "output_type": "stream",
     "text": [
      "5050\n",
      "5050\n"
     ]
    }
   ],
   "source": [
    "#we can assigned the function to a variable now\n",
    "#and it no longer becomes None\n",
    "s = sum_100_ints()\n",
    "print(s)\n",
    "\n",
    "#similarly\n",
    "print(sum_100_ints())"
   ]
  },
  {
   "cell_type": "markdown",
   "metadata": {},
   "source": [
    "It is very important to remember that executing the return statement terminates a function regardless of having more codes or not after it. For example"
   ]
  },
  {
   "cell_type": "code",
   "execution_count": 35,
   "metadata": {},
   "outputs": [],
   "source": [
    "def sum_100_ints():\n",
    "    sum_ = 0                 \n",
    "    for num in range(101):\n",
    "        sum_ += num\n",
    "        \n",
    "    return sum_  \n",
    "    print('print something')          #notice how these statements still have the same indentation with the block\n",
    "    print('print something else')     #but they will never be executed when calling the function\n",
    "    print('more print')               #because they come after the return statement is executed"
   ]
  },
  {
   "cell_type": "code",
   "execution_count": 36,
   "metadata": {},
   "outputs": [
    {
     "data": {
      "text/plain": [
       "5050"
      ]
     },
     "execution_count": 36,
     "metadata": {},
     "output_type": "execute_result"
    }
   ],
   "source": [
    "sum_100_ints()"
   ]
  },
  {
   "cell_type": "markdown",
   "metadata": {},
   "source": [
    "A function can return multiple values, in such cases we use commas to separate the returning values"
   ]
  },
  {
   "cell_type": "code",
   "execution_count": 39,
   "metadata": {},
   "outputs": [],
   "source": [
    "def op_10_ints():\n",
    "    sum_ = 0\n",
    "    prod_ = 1\n",
    "    for num in range(1,11):\n",
    "        sum_ += num\n",
    "        prod_ *= num\n",
    "    return sum_, prod_"
   ]
  },
  {
   "cell_type": "code",
   "execution_count": 40,
   "metadata": {},
   "outputs": [
    {
     "name": "stdout",
     "output_type": "stream",
     "text": [
      "(55, 3628800)\n"
     ]
    }
   ],
   "source": [
    "print(op_10_ints())"
   ]
  },
  {
   "cell_type": "markdown",
   "metadata": {},
   "source": [
    "We can then assign the function to one or multiple variables. In the multiple variable case, the number of variables must match the number of returning values"
   ]
  },
  {
   "cell_type": "code",
   "execution_count": 43,
   "metadata": {},
   "outputs": [
    {
     "name": "stdout",
     "output_type": "stream",
     "text": [
      "(55, 3628800)\n",
      "55\n",
      "3628800\n"
     ]
    }
   ],
   "source": [
    "var_1 = op_10_ints()\n",
    "\n",
    "sum_1_10, prod_1_10 = op_10_ints()\n",
    "\n",
    "print(var_1)\n",
    "print(sum_1_10)\n",
    "print(prod_1_10)"
   ]
  },
  {
   "cell_type": "markdown",
   "metadata": {},
   "source": [
    "<h3> Local Variables </h3>\n",
    "\n",
    "Local variables are variables that are <b>initialized/created</b> inside a function. They are only available <b>inside</b> the function and <b>cannot be accessed from outside</b>\n",
    "\n",
    "For example, let's look at the sum_100_ints() function again. We create a variable sum_ inside the function. sum_ is only accessible to the Python interpreter inside the function. We can not access the variable from outside, even after defining the functions or after executing it."
   ]
  },
  {
   "cell_type": "code",
   "execution_count": 25,
   "metadata": {},
   "outputs": [],
   "source": [
    "def sum_100_ints():\n",
    "    sum_ = 0\n",
    "    for num in range(101):\n",
    "        sum_ += num\n",
    "        \n",
    "    return sum_  "
   ]
  },
  {
   "cell_type": "code",
   "execution_count": 26,
   "metadata": {},
   "outputs": [
    {
     "ename": "NameError",
     "evalue": "name 'sum_' is not defined",
     "output_type": "error",
     "traceback": [
      "\u001b[1;31m---------------------------------------------------------------------------\u001b[0m",
      "\u001b[1;31mNameError\u001b[0m                                 Traceback (most recent call last)",
      "\u001b[1;32m<ipython-input-26-2dcc936a843c>\u001b[0m in \u001b[0;36m<module>\u001b[1;34m\u001b[0m\n\u001b[0;32m      1\u001b[0m \u001b[1;31m#we will get errors when try to access sum_\u001b[0m\u001b[1;33m\u001b[0m\u001b[1;33m\u001b[0m\u001b[1;33m\u001b[0m\u001b[0m\n\u001b[1;32m----> 2\u001b[1;33m \u001b[0mprint\u001b[0m\u001b[1;33m(\u001b[0m\u001b[0msum_\u001b[0m\u001b[1;33m)\u001b[0m\u001b[1;33m\u001b[0m\u001b[1;33m\u001b[0m\u001b[0m\n\u001b[0m",
      "\u001b[1;31mNameError\u001b[0m: name 'sum_' is not defined"
     ]
    }
   ],
   "source": [
    "#we will get a name error when try to access sum_\n",
    "print(sum_)"
   ]
  },
  {
   "cell_type": "code",
   "execution_count": 28,
   "metadata": {},
   "outputs": [
    {
     "ename": "NameError",
     "evalue": "name 'sum_' is not defined",
     "output_type": "error",
     "traceback": [
      "\u001b[1;31m---------------------------------------------------------------------------\u001b[0m",
      "\u001b[1;31mNameError\u001b[0m                                 Traceback (most recent call last)",
      "\u001b[1;32m<ipython-input-28-93052849638c>\u001b[0m in \u001b[0;36m<module>\u001b[1;34m\u001b[0m\n\u001b[0;32m      2\u001b[0m \u001b[0ms\u001b[0m \u001b[1;33m=\u001b[0m \u001b[0msum_100_ints\u001b[0m\u001b[1;33m(\u001b[0m\u001b[1;33m)\u001b[0m\u001b[1;33m\u001b[0m\u001b[1;33m\u001b[0m\u001b[0m\n\u001b[0;32m      3\u001b[0m \u001b[1;33m\u001b[0m\u001b[0m\n\u001b[1;32m----> 4\u001b[1;33m \u001b[0mprint\u001b[0m\u001b[1;33m(\u001b[0m\u001b[0msum_\u001b[0m\u001b[1;33m)\u001b[0m\u001b[1;33m\u001b[0m\u001b[1;33m\u001b[0m\u001b[0m\n\u001b[0m",
      "\u001b[1;31mNameError\u001b[0m: name 'sum_' is not defined"
     ]
    }
   ],
   "source": [
    "#even after calling the function\n",
    "s = sum_100_ints()\n",
    "\n",
    "print(sum_)"
   ]
  },
  {
   "cell_type": "markdown",
   "metadata": {},
   "source": [
    "if you want to, for example, print the value of a local variable, you need to do that from <b>inside</b> the function"
   ]
  },
  {
   "cell_type": "code",
   "execution_count": 29,
   "metadata": {},
   "outputs": [],
   "source": [
    "def sum_100_ints():\n",
    "    sum_ = 0\n",
    "    for num in range(101):\n",
    "        sum_ += num\n",
    "        \n",
    "    print(sum_)                 #this print is ok to have, because sum_ is accessible inside the function\n",
    "    \n",
    "    return sum_  "
   ]
  },
  {
   "cell_type": "code",
   "execution_count": 31,
   "metadata": {},
   "outputs": [
    {
     "name": "stdout",
     "output_type": "stream",
     "text": [
      "5050\n",
      "5050\n",
      "5050\n"
     ]
    }
   ],
   "source": [
    "#but the print will be executed any time we call the function\n",
    "#the statements below still generate output\n",
    "#while in general, assignment operations do not\n",
    "s1 = sum_100_ints()\n",
    "\n",
    "s2 = sum_100_ints()\n",
    "\n",
    "s3 = sum_100_ints()"
   ]
  },
  {
   "cell_type": "markdown",
   "metadata": {},
   "source": [
    "<h3>Passing Arguments to Function</h3>\n",
    "\n",
    "As you may have seen, a function that constantly does the exact same thing is not too useful. Sometimes we need them, but most of the time, we want more \"interactive\" functions which are functions with input arguments. The syntax:\n",
    "\n",
    "<b>def &lt;function name&gt;(&lt;input list&gt;): <br>\n",
    "&emsp;#codes to be executed <br>\n",
    "&emsp;#return &lt;value to return&gt;  #return is optional\n",
    "</b>\n",
    "\n",
    "- the input list includes <b>symbolic variables</b> only. Literal values will lead to errors"
   ]
  },
  {
   "cell_type": "code",
   "execution_count": null,
   "metadata": {},
   "outputs": [],
   "source": [
    "def <function name>(<input list>):\n",
    "    codes to run\n",
    "    return <value> #optional"
   ]
  },
  {
   "cell_type": "code",
   "execution_count": 33,
   "metadata": {},
   "outputs": [
    {
     "ename": "SyntaxError",
     "evalue": "invalid syntax (<ipython-input-33-cfd0f44b9877>, line 2)",
     "output_type": "error",
     "traceback": [
      "\u001b[1;36m  File \u001b[1;32m\"<ipython-input-33-cfd0f44b9877>\"\u001b[1;36m, line \u001b[1;32m2\u001b[0m\n\u001b[1;33m    def f(1):\u001b[0m\n\u001b[1;37m          ^\u001b[0m\n\u001b[1;31mSyntaxError\u001b[0m\u001b[1;31m:\u001b[0m invalid syntax\n"
     ]
    }
   ],
   "source": [
    "#you cannot use literal values like integer/float/string values\n",
    "def a_function(1):\n",
    "    x = 1"
   ]
  },
  {
   "cell_type": "code",
   "execution_count": 36,
   "metadata": {},
   "outputs": [],
   "source": [
    "#input argument are symbolic, we use them as if they are already defined\n",
    "def sum_1_to_n(n):               #n is an input argument\n",
    "    sum_ = 0\n",
    "    for num in range(n+1):       #so we can use it inside the function without defining it before hand\n",
    "        sum_ += num\n",
    "    return sum_"
   ]
  },
  {
   "cell_type": "markdown",
   "metadata": {},
   "source": [
    "Again, the def statement will not execute any codes inside the function. And the input parameters are also not given any value. We provide values when calling the functions. This is call <b>passing</b> a parameter. We pass a parameter by providing the values inside the functions' ()"
   ]
  },
  {
   "cell_type": "code",
   "execution_count": 39,
   "metadata": {},
   "outputs": [
    {
     "name": "stdout",
     "output_type": "stream",
     "text": [
      "55\n",
      "210\n",
      "1275\n"
     ]
    }
   ],
   "source": [
    "print(sum_1_to_n(10))\n",
    "print(sum_1_to_n(20))\n",
    "print(sum_1_to_n(50))"
   ]
  },
  {
   "cell_type": "markdown",
   "metadata": {},
   "source": [
    "The number of passed values <b>must be equal</b> to the number of input parameters when defining the function. Either more or less will result in errors"
   ]
  },
  {
   "cell_type": "code",
   "execution_count": 40,
   "metadata": {},
   "outputs": [
    {
     "ename": "TypeError",
     "evalue": "sum_1_to_n() takes 1 positional argument but 2 were given",
     "output_type": "error",
     "traceback": [
      "\u001b[1;31m---------------------------------------------------------------------------\u001b[0m",
      "\u001b[1;31mTypeError\u001b[0m                                 Traceback (most recent call last)",
      "\u001b[1;32m<ipython-input-40-22b7a34a95f1>\u001b[0m in \u001b[0;36m<module>\u001b[1;34m\u001b[0m\n\u001b[1;32m----> 1\u001b[1;33m \u001b[0msum_1_to_n\u001b[0m\u001b[1;33m(\u001b[0m\u001b[1;36m10\u001b[0m\u001b[1;33m,\u001b[0m\u001b[1;36m20\u001b[0m\u001b[1;33m)\u001b[0m\u001b[1;33m\u001b[0m\u001b[1;33m\u001b[0m\u001b[0m\n\u001b[0m",
      "\u001b[1;31mTypeError\u001b[0m: sum_1_to_n() takes 1 positional argument but 2 were given"
     ]
    }
   ],
   "source": [
    "sum_1_to_n(10,20)        #passing two inputs "
   ]
  },
  {
   "cell_type": "code",
   "execution_count": 41,
   "metadata": {},
   "outputs": [
    {
     "ename": "TypeError",
     "evalue": "sum_1_to_n() missing 1 required positional argument: 'n'",
     "output_type": "error",
     "traceback": [
      "\u001b[1;31m---------------------------------------------------------------------------\u001b[0m",
      "\u001b[1;31mTypeError\u001b[0m                                 Traceback (most recent call last)",
      "\u001b[1;32m<ipython-input-41-ccaa03eb8aff>\u001b[0m in \u001b[0;36m<module>\u001b[1;34m\u001b[0m\n\u001b[1;32m----> 1\u001b[1;33m \u001b[0msum_1_to_n\u001b[0m\u001b[1;33m(\u001b[0m\u001b[1;33m)\u001b[0m\u001b[1;33m\u001b[0m\u001b[1;33m\u001b[0m\u001b[0m\n\u001b[0m",
      "\u001b[1;31mTypeError\u001b[0m: sum_1_to_n() missing 1 required positional argument: 'n'"
     ]
    }
   ],
   "source": [
    "sum_1_to_n()             #passing no inputs"
   ]
  },
  {
   "cell_type": "markdown",
   "metadata": {},
   "source": [
    "The input list may have any number of parameters. Multiple parameters are separeted by commas"
   ]
  },
  {
   "cell_type": "code",
   "execution_count": 7,
   "metadata": {},
   "outputs": [],
   "source": [
    "def sum_of_squares(num1, num2, num3):\n",
    "    return num1**2 + num2**2 + num3**2"
   ]
  },
  {
   "cell_type": "markdown",
   "metadata": {},
   "source": [
    "And again, we must pass an equal number of values when calling the function"
   ]
  },
  {
   "cell_type": "code",
   "execution_count": 8,
   "metadata": {},
   "outputs": [
    {
     "name": "stdout",
     "output_type": "stream",
     "text": [
      "1400\n"
     ]
    }
   ],
   "source": [
    "print(sum_of_squares(10,20,30))"
   ]
  },
  {
   "cell_type": "markdown",
   "metadata": {},
   "source": [
    "We can pass variables or expressions to functions, as long as they are defined and have the appropriate types"
   ]
  },
  {
   "cell_type": "code",
   "execution_count": 9,
   "metadata": {},
   "outputs": [
    {
     "name": "stdout",
     "output_type": "stream",
     "text": [
      "900\n"
     ]
    }
   ],
   "source": [
    "x = 10\n",
    "y = 20\n",
    "print(sum_of_squares(x,y,5*4))"
   ]
  },
  {
   "cell_type": "code",
   "execution_count": 10,
   "metadata": {},
   "outputs": [
    {
     "ename": "TypeError",
     "evalue": "unsupported operand type(s) for ** or pow(): 'str' and 'int'",
     "output_type": "error",
     "traceback": [
      "\u001b[1;31m---------------------------------------------------------------------------\u001b[0m",
      "\u001b[1;31mTypeError\u001b[0m                                 Traceback (most recent call last)",
      "\u001b[1;32m<ipython-input-10-8050e371e0b8>\u001b[0m in \u001b[0;36m<module>\u001b[1;34m\u001b[0m\n\u001b[0;32m      1\u001b[0m \u001b[1;31m#however, passing a string in place of a number will result in error or unexpected results\u001b[0m\u001b[1;33m\u001b[0m\u001b[1;33m\u001b[0m\u001b[1;33m\u001b[0m\u001b[0m\n\u001b[1;32m----> 2\u001b[1;33m \u001b[0mprint\u001b[0m\u001b[1;33m(\u001b[0m\u001b[0msum_of_squares\u001b[0m\u001b[1;33m(\u001b[0m\u001b[1;34m'a'\u001b[0m\u001b[1;33m,\u001b[0m\u001b[1;36m5\u001b[0m\u001b[1;33m,\u001b[0m\u001b[1;36m10\u001b[0m\u001b[1;33m)\u001b[0m\u001b[1;33m)\u001b[0m\u001b[1;33m\u001b[0m\u001b[1;33m\u001b[0m\u001b[0m\n\u001b[0m",
      "\u001b[1;32m<ipython-input-7-92940955c160>\u001b[0m in \u001b[0;36msum_of_squares\u001b[1;34m(num1, num2, num3)\u001b[0m\n\u001b[0;32m      1\u001b[0m \u001b[1;32mdef\u001b[0m \u001b[0msum_of_squares\u001b[0m\u001b[1;33m(\u001b[0m\u001b[0mnum1\u001b[0m\u001b[1;33m,\u001b[0m \u001b[0mnum2\u001b[0m\u001b[1;33m,\u001b[0m \u001b[0mnum3\u001b[0m\u001b[1;33m)\u001b[0m\u001b[1;33m:\u001b[0m\u001b[1;33m\u001b[0m\u001b[1;33m\u001b[0m\u001b[0m\n\u001b[1;32m----> 2\u001b[1;33m     \u001b[1;32mreturn\u001b[0m \u001b[0mnum1\u001b[0m\u001b[1;33m**\u001b[0m\u001b[1;36m2\u001b[0m \u001b[1;33m+\u001b[0m \u001b[0mnum2\u001b[0m\u001b[1;33m**\u001b[0m\u001b[1;36m2\u001b[0m \u001b[1;33m+\u001b[0m \u001b[0mnum3\u001b[0m\u001b[1;33m**\u001b[0m\u001b[1;36m2\u001b[0m\u001b[1;33m\u001b[0m\u001b[1;33m\u001b[0m\u001b[0m\n\u001b[0m",
      "\u001b[1;31mTypeError\u001b[0m: unsupported operand type(s) for ** or pow(): 'str' and 'int'"
     ]
    }
   ],
   "source": [
    "#however, passing a string in place of a number will result in error or unexpected results\n",
    "print(sum_of_squares('a',5,10))"
   ]
  },
  {
   "cell_type": "markdown",
   "metadata": {},
   "source": [
    "In most multiple-input functions, the positions of arguments when define the function, and when calling the function must match so that the function does what it's expected to"
   ]
  },
  {
   "cell_type": "code",
   "execution_count": 11,
   "metadata": {},
   "outputs": [],
   "source": [
    "def print_string_n(number, string):\n",
    "    for iteration in range(number):\n",
    "        print(string + ', ', iteration + 1, 'time(s)')"
   ]
  },
  {
   "cell_type": "code",
   "execution_count": 12,
   "metadata": {},
   "outputs": [
    {
     "name": "stdout",
     "output_type": "stream",
     "text": [
      "hello,  1 time(s)\n",
      "hello,  2 time(s)\n",
      "hello,  3 time(s)\n",
      "hello,  4 time(s)\n",
      "hello,  5 time(s)\n"
     ]
    }
   ],
   "source": [
    "print_string_n(5, 'hello')"
   ]
  },
  {
   "cell_type": "code",
   "execution_count": 13,
   "metadata": {},
   "outputs": [
    {
     "ename": "TypeError",
     "evalue": "'str' object cannot be interpreted as an integer",
     "output_type": "error",
     "traceback": [
      "\u001b[1;31m---------------------------------------------------------------------------\u001b[0m",
      "\u001b[1;31mTypeError\u001b[0m                                 Traceback (most recent call last)",
      "\u001b[1;32m<ipython-input-13-2f246f862e6c>\u001b[0m in \u001b[0;36m<module>\u001b[1;34m\u001b[0m\n\u001b[1;32m----> 1\u001b[1;33m \u001b[0mprint_string_n\u001b[0m\u001b[1;33m(\u001b[0m\u001b[1;34m'hello'\u001b[0m\u001b[1;33m,\u001b[0m \u001b[1;36m5\u001b[0m\u001b[1;33m)\u001b[0m\u001b[1;33m\u001b[0m\u001b[1;33m\u001b[0m\u001b[0m\n\u001b[0m",
      "\u001b[1;32m<ipython-input-11-f89ba9716109>\u001b[0m in \u001b[0;36mprint_string_n\u001b[1;34m(number, string)\u001b[0m\n\u001b[0;32m      1\u001b[0m \u001b[1;32mdef\u001b[0m \u001b[0mprint_string_n\u001b[0m\u001b[1;33m(\u001b[0m\u001b[0mnumber\u001b[0m\u001b[1;33m,\u001b[0m \u001b[0mstring\u001b[0m\u001b[1;33m)\u001b[0m\u001b[1;33m:\u001b[0m\u001b[1;33m\u001b[0m\u001b[1;33m\u001b[0m\u001b[0m\n\u001b[1;32m----> 2\u001b[1;33m     \u001b[1;32mfor\u001b[0m \u001b[0miteration\u001b[0m \u001b[1;32min\u001b[0m \u001b[0mrange\u001b[0m\u001b[1;33m(\u001b[0m\u001b[0mnumber\u001b[0m\u001b[1;33m)\u001b[0m\u001b[1;33m:\u001b[0m\u001b[1;33m\u001b[0m\u001b[1;33m\u001b[0m\u001b[0m\n\u001b[0m\u001b[0;32m      3\u001b[0m         \u001b[0mprint\u001b[0m\u001b[1;33m(\u001b[0m\u001b[0mstring\u001b[0m \u001b[1;33m+\u001b[0m \u001b[1;34m', '\u001b[0m\u001b[1;33m,\u001b[0m \u001b[0miteration\u001b[0m \u001b[1;33m+\u001b[0m \u001b[1;36m1\u001b[0m\u001b[1;33m,\u001b[0m \u001b[1;34m'time(s)'\u001b[0m\u001b[1;33m)\u001b[0m\u001b[1;33m\u001b[0m\u001b[1;33m\u001b[0m\u001b[0m\n",
      "\u001b[1;31mTypeError\u001b[0m: 'str' object cannot be interpreted as an integer"
     ]
    }
   ],
   "source": [
    "print_string_n('hello', 5)"
   ]
  },
  {
   "cell_type": "markdown",
   "metadata": {},
   "source": [
    "We can set default values (or keyword argument) for arguments with the syntax <b>argument = value </b>\n",
    "\n",
    "For example"
   ]
  },
  {
   "cell_type": "code",
   "execution_count": 3,
   "metadata": {},
   "outputs": [],
   "source": [
    "def sum_1_to_n(n=50):\n",
    "    sum_ = 0\n",
    "    for num in range(n+1):\n",
    "        sum_ += num\n",
    "    return sum_"
   ]
  },
  {
   "cell_type": "markdown",
   "metadata": {},
   "source": [
    "Then you can use the function without arguments; the default value will be used in such cases"
   ]
  },
  {
   "cell_type": "code",
   "execution_count": 4,
   "metadata": {},
   "outputs": [
    {
     "name": "stdout",
     "output_type": "stream",
     "text": [
      "1275\n",
      "5050\n"
     ]
    }
   ],
   "source": [
    "print(sum_1_to_n())\n",
    "print(sum_1_to_n(100))"
   ]
  },
  {
   "cell_type": "markdown",
   "metadata": {},
   "source": [
    "Like positional arguments, you can have as many keyword arguments as you want"
   ]
  },
  {
   "cell_type": "code",
   "execution_count": 14,
   "metadata": {},
   "outputs": [],
   "source": [
    "def sum_range(start=1,stop=50,step=1):\n",
    "    sum_ = 0\n",
    "    for num in range(start,stop+1,step):\n",
    "        sum_ += num\n",
    "        \n",
    "    return sum_"
   ]
  },
  {
   "cell_type": "markdown",
   "metadata": {},
   "source": [
    "then we can pass arguments with their keywords, in such cases, positions won't matter anymore"
   ]
  },
  {
   "cell_type": "code",
   "execution_count": 15,
   "metadata": {},
   "outputs": [
    {
     "name": "stdout",
     "output_type": "stream",
     "text": [
      "550\n",
      "1035\n"
     ]
    }
   ],
   "source": [
    "print(sum_range(start=10,stop=100,step=10))\n",
    "print(sum_range(step=-5,start=100,stop=10))"
   ]
  },
  {
   "cell_type": "markdown",
   "metadata": {},
   "source": [
    "Writing keywords when calling functions is not mandatory. If we don't specify the keywords, the arguments will be taken as their positions in the function's definition"
   ]
  },
  {
   "cell_type": "code",
   "execution_count": 20,
   "metadata": {},
   "outputs": [
    {
     "name": "stdout",
     "output_type": "stream",
     "text": [
      "550\n"
     ]
    }
   ],
   "source": [
    "print(sum_range(10,100,10))"
   ]
  },
  {
   "cell_type": "markdown",
   "metadata": {},
   "source": [
    "and any arguments not provided will be using the default values"
   ]
  },
  {
   "cell_type": "code",
   "execution_count": 16,
   "metadata": {},
   "outputs": [
    {
     "name": "stdout",
     "output_type": "stream",
     "text": [
      "5050\n"
     ]
    }
   ],
   "source": [
    "print(sum_range(start=1,stop=100))"
   ]
  },
  {
   "cell_type": "markdown",
   "metadata": {},
   "source": [
    "We can further mix keyword and positional arguments. In such cases, keyword arguments <b>must</b> come after positional argument"
   ]
  },
  {
   "cell_type": "code",
   "execution_count": 19,
   "metadata": {},
   "outputs": [],
   "source": [
    "def sum_range_2(start,stop,step=1):\n",
    "    sum_ = 0\n",
    "    for num in range(start,stop+1,step):\n",
    "        sum_ += num\n",
    "        \n",
    "    return sum_"
   ]
  },
  {
   "cell_type": "markdown",
   "metadata": {},
   "source": [
    "Using these functions are like before, positional arguments must be in their exact positions; keyword argument can be omitted which triggers the use of their default values"
   ]
  },
  {
   "cell_type": "code",
   "execution_count": 21,
   "metadata": {},
   "outputs": [
    {
     "name": "stdout",
     "output_type": "stream",
     "text": [
      "55\n",
      "25\n"
     ]
    }
   ],
   "source": [
    "print(sum_range_2(1,10))\n",
    "print(sum_range_2(1,10,2))"
   ]
  },
  {
   "cell_type": "markdown",
   "metadata": {},
   "source": [
    "<h3> Global Variables </h3>\n",
    "\n",
    "Global variables are those created <b>outside</b> any functions. They are accessible to all functions"
   ]
  },
  {
   "cell_type": "code",
   "execution_count": 22,
   "metadata": {},
   "outputs": [],
   "source": [
    "name = 'Alice'"
   ]
  },
  {
   "cell_type": "code",
   "execution_count": 23,
   "metadata": {},
   "outputs": [],
   "source": [
    "def greeting_name(message):\n",
    "    print('Hello, ' + name)\n",
    "    print(message)"
   ]
  },
  {
   "cell_type": "code",
   "execution_count": 24,
   "metadata": {},
   "outputs": [
    {
     "name": "stdout",
     "output_type": "stream",
     "text": [
      "Hello, Alice\n",
      "How are you today?\n"
     ]
    }
   ],
   "source": [
    "greeting_name('How are you today?')"
   ]
  },
  {
   "cell_type": "code",
   "execution_count": 25,
   "metadata": {},
   "outputs": [
    {
     "name": "stdout",
     "output_type": "stream",
     "text": [
      "Hello, Alice\n",
      "Have a nice day!\n"
     ]
    }
   ],
   "source": [
    "greeting_name('Have a nice day!')"
   ]
  },
  {
   "cell_type": "markdown",
   "metadata": {},
   "source": [
    "Using global variables have potential problems. It is confusing when global and local variables are having the same names (which is legal in Python!) "
   ]
  },
  {
   "cell_type": "code",
   "execution_count": 26,
   "metadata": {},
   "outputs": [],
   "source": [
    "def greeting_name_2(message):\n",
    "    name = 'Bob'\n",
    "    print('Hello, ' + name)\n",
    "    print(message)"
   ]
  },
  {
   "cell_type": "code",
   "execution_count": 27,
   "metadata": {},
   "outputs": [
    {
     "name": "stdout",
     "output_type": "stream",
     "text": [
      "Hello, Bob\n",
      "Have a nice weekend!\n"
     ]
    }
   ],
   "source": [
    "greeting_name_2('Have a nice weekend!') #this function use the local version of name\n",
    "                                        #which is not related to the global version"
   ]
  },
  {
   "cell_type": "code",
   "execution_count": 28,
   "metadata": {},
   "outputs": [
    {
     "name": "stdout",
     "output_type": "stream",
     "text": [
      "Alice\n"
     ]
    }
   ],
   "source": [
    "print(name)                             #the global version still has its original value"
   ]
  },
  {
   "cell_type": "markdown",
   "metadata": {},
   "source": [
    "if you need to change the values of a global variable inside a function, you need to define it with <b>global</b>"
   ]
  },
  {
   "cell_type": "code",
   "execution_count": 31,
   "metadata": {},
   "outputs": [],
   "source": [
    "def greeting_name_3(message):\n",
    "    global name\n",
    "    name = 'Bob'\n",
    "    print('Hello, ' + name)\n",
    "    print(message)"
   ]
  },
  {
   "cell_type": "code",
   "execution_count": 32,
   "metadata": {},
   "outputs": [
    {
     "name": "stdout",
     "output_type": "stream",
     "text": [
      "Hello, Bob\n",
      "Have a nice weekend!\n"
     ]
    }
   ],
   "source": [
    "greeting_name_3('Have a nice weekend!')"
   ]
  },
  {
   "cell_type": "code",
   "execution_count": 33,
   "metadata": {},
   "outputs": [
    {
     "name": "stdout",
     "output_type": "stream",
     "text": [
      "Bob\n"
     ]
    }
   ],
   "source": [
    "print(name)"
   ]
  },
  {
   "cell_type": "markdown",
   "metadata": {},
   "source": [
    "In general, we should not use global variables in functions\n",
    "- Global variables making debugging difficult\n",
    "    - Many locations in the code could be causing a wrong variable value\n",
    "- Functions that use global variables are usually dependent on those variables\n",
    "    - Makes function hard to transfer to another program\n",
    "- Global variables make a program hard to understand"
   ]
  },
  {
   "cell_type": "markdown",
   "metadata": {},
   "source": [
    "<h3> Modules and the math Module</h3>\n",
    "\n",
    "Modules are prewritten libraries/packagies that serve specific tasks. You can load them and use their functions using <b>import</b>. A common library in Python is the <b>math</b> library which consists of mathematicall functions and constant"
   ]
  },
  {
   "cell_type": "code",
   "execution_count": 45,
   "metadata": {},
   "outputs": [],
   "source": [
    "import math"
   ]
  },
  {
   "cell_type": "code",
   "execution_count": 46,
   "metadata": {},
   "outputs": [
    {
     "data": {
      "text/plain": [
       "10.0"
      ]
     },
     "execution_count": 46,
     "metadata": {},
     "output_type": "execute_result"
    }
   ],
   "source": [
    "#square root\n",
    "math.sqrt(100)"
   ]
  },
  {
   "cell_type": "code",
   "execution_count": 47,
   "metadata": {},
   "outputs": [
    {
     "data": {
      "text/plain": [
       "100.0"
      ]
     },
     "execution_count": 47,
     "metadata": {},
     "output_type": "execute_result"
    }
   ],
   "source": [
    "#power\n",
    "math.pow(10,2)"
   ]
  },
  {
   "cell_type": "code",
   "execution_count": 49,
   "metadata": {},
   "outputs": [
    {
     "data": {
      "text/plain": [
       "3.141592653589793"
      ]
     },
     "execution_count": 49,
     "metadata": {},
     "output_type": "execute_result"
    }
   ],
   "source": [
    "#the constant pi\n",
    "math.pi"
   ]
  },
  {
   "cell_type": "code",
   "execution_count": 48,
   "metadata": {},
   "outputs": [
    {
     "data": {
      "text/plain": [
       "1.0"
      ]
     },
     "execution_count": 48,
     "metadata": {},
     "output_type": "execute_result"
    }
   ],
   "source": [
    "#sine function\n",
    "math.sin(math.pi/2)"
   ]
  },
  {
   "cell_type": "code",
   "execution_count": 50,
   "metadata": {},
   "outputs": [
    {
     "data": {
      "text/plain": [
       "0.5000000000000001"
      ]
     },
     "execution_count": 50,
     "metadata": {},
     "output_type": "execute_result"
    }
   ],
   "source": [
    "#cosine function\n",
    "math.cos(math.pi/3)"
   ]
  },
  {
   "cell_type": "code",
   "execution_count": 51,
   "metadata": {},
   "outputs": [
    {
     "data": {
      "text/plain": [
       "2.718281828459045"
      ]
     },
     "execution_count": 51,
     "metadata": {},
     "output_type": "execute_result"
    }
   ],
   "source": [
    "#the constant e\n",
    "math.e"
   ]
  },
  {
   "cell_type": "code",
   "execution_count": 53,
   "metadata": {},
   "outputs": [
    {
     "data": {
      "text/plain": [
       "4.0"
      ]
     },
     "execution_count": 53,
     "metadata": {},
     "output_type": "execute_result"
    }
   ],
   "source": [
    "#logarithm\n",
    "math.log(16,2)"
   ]
  }
 ],
 "metadata": {
  "kernelspec": {
   "display_name": "Python 3 (ipykernel)",
   "language": "python",
   "name": "python3"
  },
  "language_info": {
   "codemirror_mode": {
    "name": "ipython",
    "version": 3
   },
   "file_extension": ".py",
   "mimetype": "text/x-python",
   "name": "python",
   "nbconvert_exporter": "python",
   "pygments_lexer": "ipython3",
   "version": "3.9.12"
  }
 },
 "nbformat": 4,
 "nbformat_minor": 2
}
