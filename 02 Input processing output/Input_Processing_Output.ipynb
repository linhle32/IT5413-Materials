{
 "cells": [
  {
   "cell_type": "markdown",
   "metadata": {},
   "source": [
    "<h2> Module 2 - Input, Processing, and Output </h2>"
   ]
  },
  {
   "cell_type": "markdown",
   "metadata": {},
   "source": [
    "<h3>Functions</h3>\n",
    "\n",
    "Remember in high schools (or middle schools, I don't know), a math function can be something like  \n",
    "$f(x) = x + 1$  \n",
    "And we can use it for different inputs to get different outputs, however, the processing of inputs is always the same: any input is added with 1 when given to the function  \n",
    "$f(1) = 2$  \n",
    "$f(5) = 6$  \n",
    "...\n",
    "\n",
    "A Python function is somewhat similar. In Python, a function is pre-written codes that do a particular task on any input given to it (however, input is optional)\n",
    "\n",
    "We can use a function by referring to its names. Functions' names must be followed by a pair of open-close parentheses <b>()</b>. This action is named \"<b>calling a function</b>\", or a \"<b>function call</b>\"\n",
    "\n",
    "A function may or may not have input parameters. Input parameters must be inside the parentheses. Functions without input parameters still need the parentheses however there is nothing in between them. \n",
    "\n",
    "A function that we've been using from the first day is <b>print()</b>. <b>print()</b> is used to output the <b>values, or content,</b> of inputs we give it. A <b>print()</b> without input parameters will output an empty line"
   ]
  },
  {
   "cell_type": "code",
   "execution_count": 1,
   "metadata": {},
   "outputs": [
    {
     "name": "stdout",
     "output_type": "stream",
     "text": [
      "1\n",
      "6\n",
      "100\n",
      "\n",
      "\n",
      "25\n",
      "70\n"
     ]
    }
   ],
   "source": [
    "print(1)\n",
    "print(1+5)\n",
    "print(10*10)\n",
    "print()\n",
    "print()\n",
    "print(5*5)\n",
    "print(10*7)"
   ]
  },
  {
   "cell_type": "markdown",
   "metadata": {},
   "source": [
    "Another useful function is <b>type()</b>. <b>type()</b> output the type of its input, e.g. a number, a function... In the cell below, notice the use of parentheses. Each function needs its own pair of parentheses. To breakdown the first line:\n",
    "1. \"print\" makes the call the the function \"print\"\n",
    "2. The \"(\" right after \"print\" indicates the input for \"print\" begins\n",
    "3. \"type: makes the call to the function \"type\"\n",
    "4. The \"(\" right after \"type\" indicates the input for \"type\" begins\n",
    "5. 10 comes after the \"(\" of type, meaning it is the input of the function \"type\"\n",
    "6. The \")\" after \"10\" indicates input for \"type\" has ended, return to input for \"print\"\n",
    "7. The last \")\" indicates input for \"print\" ends\n",
    "\n",
    "Overall, first, type() is used to get the type of 10, which is 'int' (integer). type(10) is then used as input for print(), which instructs the interpreter to print out the type of 10"
   ]
  },
  {
   "cell_type": "code",
   "execution_count": 1,
   "metadata": {},
   "outputs": [
    {
     "data": {
      "text/plain": [
       "int"
      ]
     },
     "execution_count": 1,
     "metadata": {},
     "output_type": "execute_result"
    }
   ],
   "source": [
    "type(10)"
   ]
  },
  {
   "cell_type": "code",
   "execution_count": 2,
   "metadata": {},
   "outputs": [
    {
     "data": {
      "text/plain": [
       "float"
      ]
     },
     "execution_count": 2,
     "metadata": {},
     "output_type": "execute_result"
    }
   ],
   "source": [
    "type(1.6)"
   ]
  },
  {
   "cell_type": "code",
   "execution_count": 3,
   "metadata": {},
   "outputs": [
    {
     "data": {
      "text/plain": [
       "str"
      ]
     },
     "execution_count": 3,
     "metadata": {},
     "output_type": "execute_result"
    }
   ],
   "source": [
    "type('hello')"
   ]
  },
  {
   "cell_type": "code",
   "execution_count": 8,
   "metadata": {},
   "outputs": [
    {
     "data": {
      "text/plain": [
       "int"
      ]
     },
     "execution_count": 8,
     "metadata": {},
     "output_type": "execute_result"
    }
   ],
   "source": [
    "num = 12345\n",
    "type(num)"
   ]
  },
  {
   "cell_type": "code",
   "execution_count": 4,
   "metadata": {
    "scrolled": true
   },
   "outputs": [
    {
     "name": "stdout",
     "output_type": "stream",
     "text": [
      "<class 'int'>\n",
      "<class 'str'>\n",
      "<class 'float'>\n"
     ]
    }
   ],
   "source": [
    "print(type(10))\n",
    "print(type('hello'))\n",
    "print(type(1.7))"
   ]
  },
  {
   "cell_type": "code",
   "execution_count": 5,
   "metadata": {},
   "outputs": [
    {
     "data": {
      "text/plain": [
       "5"
      ]
     },
     "execution_count": 5,
     "metadata": {},
     "output_type": "execute_result"
    }
   ],
   "source": [
    "int(5.7)"
   ]
  },
  {
   "cell_type": "code",
   "execution_count": 6,
   "metadata": {},
   "outputs": [
    {
     "data": {
      "text/plain": [
       "1.0"
      ]
     },
     "execution_count": 6,
     "metadata": {},
     "output_type": "execute_result"
    }
   ],
   "source": [
    "float(1)"
   ]
  },
  {
   "cell_type": "code",
   "execution_count": 7,
   "metadata": {},
   "outputs": [
    {
     "data": {
      "text/plain": [
       "'15'"
      ]
     },
     "execution_count": 7,
     "metadata": {},
     "output_type": "execute_result"
    }
   ],
   "source": [
    "str(15)"
   ]
  },
  {
   "cell_type": "code",
   "execution_count": 23,
   "metadata": {},
   "outputs": [
    {
     "data": {
      "text/plain": [
       "100"
      ]
     },
     "execution_count": 23,
     "metadata": {},
     "output_type": "execute_result"
    }
   ],
   "source": [
    "int('100')"
   ]
  },
  {
   "cell_type": "code",
   "execution_count": 24,
   "metadata": {},
   "outputs": [
    {
     "ename": "ValueError",
     "evalue": "invalid literal for int() with base 10: 'abcxyz'",
     "output_type": "error",
     "traceback": [
      "\u001b[1;31m---------------------------------------------------------------------------\u001b[0m",
      "\u001b[1;31mValueError\u001b[0m                                Traceback (most recent call last)",
      "Input \u001b[1;32mIn [24]\u001b[0m, in \u001b[0;36m<cell line: 1>\u001b[1;34m()\u001b[0m\n\u001b[1;32m----> 1\u001b[0m \u001b[38;5;28;43mint\u001b[39;49m\u001b[43m(\u001b[49m\u001b[38;5;124;43m'\u001b[39;49m\u001b[38;5;124;43mabcxyz\u001b[39;49m\u001b[38;5;124;43m'\u001b[39;49m\u001b[43m)\u001b[49m\n",
      "\u001b[1;31mValueError\u001b[0m: invalid literal for int() with base 10: 'abcxyz'"
     ]
    }
   ],
   "source": [
    "int('abcxyz')"
   ]
  },
  {
   "cell_type": "code",
   "execution_count": 11,
   "metadata": {},
   "outputs": [],
   "source": [
    "import math"
   ]
  },
  {
   "cell_type": "code",
   "execution_count": 18,
   "metadata": {},
   "outputs": [
    {
     "data": {
      "text/plain": [
       "5040"
      ]
     },
     "execution_count": 18,
     "metadata": {},
     "output_type": "execute_result"
    }
   ],
   "source": [
    "math.factorial(7)"
   ]
  },
  {
   "cell_type": "code",
   "execution_count": 16,
   "metadata": {},
   "outputs": [
    {
     "data": {
      "text/plain": [
       "6.0"
      ]
     },
     "execution_count": 16,
     "metadata": {},
     "output_type": "execute_result"
    }
   ],
   "source": [
    "num2 = 64\n",
    "math.log2(num2)"
   ]
  },
  {
   "cell_type": "code",
   "execution_count": 21,
   "metadata": {},
   "outputs": [
    {
     "data": {
      "text/plain": [
       "1.0"
      ]
     },
     "execution_count": 21,
     "metadata": {},
     "output_type": "execute_result"
    }
   ],
   "source": [
    "angle1 = math.pi / 2\n",
    "math.sin(angle1)"
   ]
  },
  {
   "cell_type": "code",
   "execution_count": null,
   "metadata": {},
   "outputs": [],
   "source": []
  },
  {
   "cell_type": "markdown",
   "metadata": {},
   "source": [
    "<h3>Variables</h3>\n",
    "\n",
    "- Are symbolic names that can be assigned values\n",
    "- Assignments are done with the = operator\n",
    "- After assignment, the variables carried the value, and the interpreter uses those values whenever it encounters the variables\n",
    "\n",
    "In the cell below, first we assign the value 1 to x, and the value 2 to y. When being input to print(), the <b>values</b> given to the variables will be output, not the variables' name"
   ]
  },
  {
   "cell_type": "code",
   "execution_count": 3,
   "metadata": {},
   "outputs": [
    {
     "name": "stdout",
     "output_type": "stream",
     "text": [
      "1\n",
      "2\n"
     ]
    }
   ],
   "source": [
    "x = 1\n",
    "y = 2\n",
    "print(x)\n",
    "print(y)"
   ]
  },
  {
   "cell_type": "markdown",
   "metadata": {},
   "source": [
    "We can use the values assigned to variables by referring to the variables' names. Note: in Jupyter notebook, after a variable is created, it exists for the whole session (basically until you stop Jupyter) unless you manually delete it. All cells in a notebook are in the same session, so you can refer to variables created from a different cell)"
   ]
  },
  {
   "cell_type": "code",
   "execution_count": 4,
   "metadata": {},
   "outputs": [
    {
     "name": "stdout",
     "output_type": "stream",
     "text": [
      "3\n",
      "-1\n",
      "20\n"
     ]
    }
   ],
   "source": [
    "print(x + y)\n",
    "print(x - y)\n",
    "print((x * y) * 10)"
   ]
  },
  {
   "cell_type": "markdown",
   "metadata": {},
   "source": [
    "we can assigned variables or computations on some variables to a new one, again, the assigned values of the variables will be used in such operations"
   ]
  },
  {
   "cell_type": "code",
   "execution_count": 5,
   "metadata": {},
   "outputs": [
    {
     "name": "stdout",
     "output_type": "stream",
     "text": [
      "1\n",
      "3\n"
     ]
    }
   ],
   "source": [
    "z = x\n",
    "print(z)\n",
    "u = x + y\n",
    "print(u)"
   ]
  },
  {
   "cell_type": "markdown",
   "metadata": {},
   "source": [
    "However, you <b> have to assign </b> something to a variable <b>before using </b> it. Referring to a new variable before creating (in programming we use the term \"initializing\") results in error. \n",
    "\n",
    "In the cell below, I am trying to compute something with a variable <b><i>t</i></b> that hasn't been assigned with anything, and thus ending up with a name error. The interpreter will report <b>\"name 't' is not defined\"</b>"
   ]
  },
  {
   "cell_type": "code",
   "execution_count": 6,
   "metadata": {},
   "outputs": [
    {
     "ename": "NameError",
     "evalue": "name 't' is not defined",
     "output_type": "error",
     "traceback": [
      "\u001b[1;31m---------------------------------------------------------------------------\u001b[0m",
      "\u001b[1;31mNameError\u001b[0m                                 Traceback (most recent call last)",
      "\u001b[1;32m<ipython-input-6-69cbde493079>\u001b[0m in \u001b[0;36m<module>\u001b[1;34m\u001b[0m\n\u001b[1;32m----> 1\u001b[1;33m \u001b[0mprint\u001b[0m\u001b[1;33m(\u001b[0m\u001b[0mt\u001b[0m\u001b[1;33m+\u001b[0m\u001b[1;36m10\u001b[0m\u001b[1;33m)\u001b[0m\u001b[1;33m\u001b[0m\u001b[1;33m\u001b[0m\u001b[0m\n\u001b[0m",
      "\u001b[1;31mNameError\u001b[0m: name 't' is not defined"
     ]
    }
   ],
   "source": [
    "print(t+10)"
   ]
  },
  {
   "cell_type": "markdown",
   "metadata": {},
   "source": [
    "<b>Naming syntax</b>:\n",
    "\n",
    "- Keywords (import, for, ...) cannot be used\n",
    "- Names must begin with a alphabet letter or the underline \"_\" symbol\n",
    "- Names can have numbes but cannot start with them\n",
    "- Special characters beside \"_\" are not allowed\n",
    "- Uppercase and lowercase characters are <b>not</b> the same. This is referred to as \"case-sensitive\""
   ]
  },
  {
   "cell_type": "code",
   "execution_count": 7,
   "metadata": {},
   "outputs": [
    {
     "name": "stdout",
     "output_type": "stream",
     "text": [
      "10\n",
      "15\n",
      "17\n",
      "100\n",
      "200\n",
      "500\n"
     ]
    }
   ],
   "source": [
    "variable = 10\n",
    "another_variable = 15\n",
    "_variable = 17\n",
    "x1 = 100\n",
    "x2 = 200\n",
    "Variable = 500\n",
    "\n",
    "print(variable)\n",
    "print(another_variable)\n",
    "print(_variable)\n",
    "print(x1)\n",
    "print(x2)\n",
    "print(Variable)"
   ]
  },
  {
   "cell_type": "markdown",
   "metadata": {},
   "source": [
    "Tips for naming variables\n",
    "\n",
    "- Use descriptive names for your variable. There is nothing wrong with naming your variables \"x\" or \"y\", but as your code grows, you may not be able to remember what are they suppose to do. Such names are considered bad practice, especially when sharing codes in a team\n",
    "- Multiple-word variables can be named with camel case (uppercasing the first letter of each word), or using \"_\" to split the words. In Python, we usually use \"_\" instead of camel case. \n",
    "    - Camel case example: <b>MyVariable</b>, <b>AVariable</b>, <b>AnotherVariable</b>\n",
    "    - \"_\" example: <b>my_variable</b>, <b>a_variable</b>, <b>another_variable</b>"
   ]
  },
  {
   "cell_type": "markdown",
   "metadata": {},
   "source": [
    "In Python, variables can be assigned with anything. The most basic value types are number, and string - groups of text characters\n",
    "\n",
    "- Numbers can be integer (<b>int</b>) or decimal (<b>float</b>). Numerical values are <b>not</b> wrapped with quotations. Any number value with a decimal point \".\" is consider float, even if they are actually integer. We can use the int() function to check the type of a variable\n",
    "- String (<b>str</b>) can be any group of characters. String values <b>must be</b> wrapped in quotations (either single or double are ok with python). Without quotation, the interpreter understands the string as a variable.\n",
    "- As the course progresses, we will see other types that can be assigned to a variable, for example, functions, objects, lists..."
   ]
  },
  {
   "cell_type": "code",
   "execution_count": 8,
   "metadata": {},
   "outputs": [
    {
     "name": "stdout",
     "output_type": "stream",
     "text": [
      "<class 'int'>\n",
      "<class 'float'>\n",
      "<class 'float'>\n",
      "<class 'str'>\n"
     ]
    }
   ],
   "source": [
    "an_integer = 10\n",
    "a_float = 1.5\n",
    "integer_or_float = 5.0\n",
    "a_string = \"HelloWorld\"\n",
    "another_string = 'welcome'\n",
    "print(type(an_integer))\n",
    "print(type(a_float))\n",
    "print(type(integer_or_float))\n",
    "print(type(a_string))"
   ]
  },
  {
   "cell_type": "markdown",
   "metadata": {},
   "source": [
    "If you wrap a number inside quotations, it will be understand as a string, no exception!"
   ]
  },
  {
   "cell_type": "code",
   "execution_count": 9,
   "metadata": {},
   "outputs": [
    {
     "name": "stdout",
     "output_type": "stream",
     "text": [
      "100\n",
      "<class 'str'>\n"
     ]
    }
   ],
   "source": [
    "number_or_string = '100'\n",
    "print(number_or_string)\n",
    "print(type(number_or_string))"
   ]
  },
  {
   "cell_type": "markdown",
   "metadata": {},
   "source": [
    "Trying to mix strings and numbers in operation results in a \"type error\""
   ]
  },
  {
   "cell_type": "code",
   "execution_count": 10,
   "metadata": {},
   "outputs": [
    {
     "ename": "TypeError",
     "evalue": "can only concatenate str (not \"int\") to str",
     "output_type": "error",
     "traceback": [
      "\u001b[1;31m---------------------------------------------------------------------------\u001b[0m",
      "\u001b[1;31mTypeError\u001b[0m                                 Traceback (most recent call last)",
      "\u001b[1;32m<ipython-input-10-3a5416713975>\u001b[0m in \u001b[0;36m<module>\u001b[1;34m\u001b[0m\n\u001b[1;32m----> 1\u001b[1;33m \u001b[0mprint\u001b[0m\u001b[1;33m(\u001b[0m\u001b[0mnumber_or_string\u001b[0m \u001b[1;33m+\u001b[0m \u001b[1;36m100\u001b[0m\u001b[1;33m)\u001b[0m\u001b[1;33m\u001b[0m\u001b[1;33m\u001b[0m\u001b[0m\n\u001b[0m",
      "\u001b[1;31mTypeError\u001b[0m: can only concatenate str (not \"int\") to str"
     ]
    }
   ],
   "source": [
    "print(number_or_string + 100)"
   ]
  },
  {
   "cell_type": "markdown",
   "metadata": {},
   "source": [
    "- Typicall operators for numbers are \"+\", \"-\", \"*\", \"/\", \"**\" as you may have known\n",
    "- For strings, only \"+\" and \"*\" are allowed. \"+\" is used to concatnate two strings (in the order they appear in your code). \"*\" is used to repeat a string a number of times."
   ]
  },
  {
   "cell_type": "code",
   "execution_count": 11,
   "metadata": {},
   "outputs": [
    {
     "name": "stdout",
     "output_type": "stream",
     "text": [
      "HelloWorld\n",
      "WorldHello\n",
      "HelloHelloHelloHelloHello\n",
      "HelloWorldHelloWorldHelloWorldHelloWorldHelloWorld\n"
     ]
    }
   ],
   "source": [
    "string1 = \"Hello\"\n",
    "string2 = \"World\"\n",
    "print(string1 + string2)\n",
    "print(string2 + string1)\n",
    "print(string1 * 5)\n",
    "print((string1 + string2) * 5)"
   ]
  },
  {
   "cell_type": "markdown",
   "metadata": {},
   "source": [
    "- You can use any special character in a string, as long as they appear on your keyboard"
   ]
  },
  {
   "cell_type": "code",
   "execution_count": 12,
   "metadata": {},
   "outputs": [
    {
     "name": "stdout",
     "output_type": "stream",
     "text": [
      "Hello world, this is my first programming lesson. I've been loving it so far!\n",
      "lle13@student.kennesaw.edu\n",
      "#ICanUseAnyCharacter... ~!#$%^&*()_+[]{}\\/<>,.;:''\n"
     ]
    }
   ],
   "source": [
    "sentences = \"Hello world, this is my first programming lesson. I've been loving it so far!\"\n",
    "print(sentences)\n",
    "\n",
    "my_email = \"lle13@student.kennesaw.edu\"\n",
    "print(my_email)\n",
    "\n",
    "a_message = \"#ICanUseAnyCharacter... ~!#$%^&*()_+[]{}\\/<>,.;:''\"\n",
    "print(a_message)"
   ]
  },
  {
   "cell_type": "markdown",
   "metadata": {},
   "source": [
    "- You can even use some out-of-keyboard characters or symbols, but the IDE must support them. CMD or terminal won't recognize the symbols in the cell below, so you won't see them. However, there will be no errors reported"
   ]
  },
  {
   "cell_type": "code",
   "execution_count": 13,
   "metadata": {},
   "outputs": [
    {
     "name": "stdout",
     "output_type": "stream",
     "text": [
      "㋡\n",
      "☝\n"
     ]
    }
   ],
   "source": [
    "a_smiley = \"㋡\"\n",
    "print(a_smiley)\n",
    "\n",
    "a_hand_symbol = \"☝\"\n",
    "print(a_hand_symbol)"
   ]
  },
  {
   "cell_type": "markdown",
   "metadata": {},
   "source": [
    "- The string length can be as large as you can, as long as your system has the memory for it. If you want to type in multiple lines, you can use a pair of three double quotations to wrap the string \"\"\" ... \"\"\""
   ]
  },
  {
   "cell_type": "code",
   "execution_count": 14,
   "metadata": {},
   "outputs": [
    {
     "name": "stdout",
     "output_type": "stream",
     "text": [
      "A paragraph is a component of fictional prose and non-fiction writings. \n",
      "When writing essays, research papers, books, etc., new paragraphs are indented to show their beginnings. \n",
      "Each new paragraph begins with a new indentation.\n",
      "The purpose of a paragraph is to express a speaker’s thoughts on a particular point in a clear way that is unique and specific to that paragraph. \n",
      "In other words, paragraphs shouldn’t be mixing thoughts or ideas. When a new idea is introduced, generally, a writer will introduce a new paragraph.\n",
      "\n",
      "\n"
     ]
    }
   ],
   "source": [
    "a_long_string = \"\"\"A paragraph is a component of fictional prose and non-fiction writings. \n",
    "When writing essays, research papers, books, etc., new paragraphs are indented to show their beginnings. \n",
    "Each new paragraph begins with a new indentation.\n",
    "The purpose of a paragraph is to express a speaker’s thoughts on a particular point in a clear way that is unique and specific to that paragraph. \n",
    "In other words, paragraphs shouldn’t be mixing thoughts or ideas. When a new idea is introduced, generally, a writer will introduce a new paragraph.\n",
    "\n",
    "\"\"\"\n",
    "print(a_long_string)"
   ]
  },
  {
   "cell_type": "markdown",
   "metadata": {},
   "source": [
    "- String literals are what wrapped in the quotations. Similar to numbers, you can use them without assigning to any variable "
   ]
  },
  {
   "cell_type": "code",
   "execution_count": 15,
   "metadata": {},
   "outputs": [
    {
     "name": "stdout",
     "output_type": "stream",
     "text": [
      "this is a string literal\n",
      "I am concatenate three strings\n"
     ]
    }
   ],
   "source": [
    "print(\"this is a string literal\")\n",
    "print(\"I am concatenate \" + \"three \" + \"strings\")"
   ]
  },
  {
   "cell_type": "markdown",
   "metadata": {},
   "source": [
    "Variables <b>can be reassigned</b> with different values as many times as you want. Unlike other languages like C++ or Java, Python allows you to reassign variables to different types (yes, even function type!)"
   ]
  },
  {
   "cell_type": "code",
   "execution_count": 16,
   "metadata": {},
   "outputs": [
    {
     "name": "stdout",
     "output_type": "stream",
     "text": [
      "100\n",
      "500\n",
      "now the variable carries a string\n",
      "<built-in function print>\n",
      "I am printing something using a_variable() instead of print(). This works because I have assigned print to a_variable\n"
     ]
    }
   ],
   "source": [
    "a_variable = 100\n",
    "print(a_variable)\n",
    "\n",
    "a_variable = 500\n",
    "print(a_variable)\n",
    "\n",
    "a_variable = 'now the variable carries a string'\n",
    "print(a_variable)\n",
    "\n",
    "a_variable = print\n",
    "print(a_variable)\n",
    "\n",
    "a_variable('I am printing something using a_variable() instead of print(). This works because I have assigned print to a_variable')"
   ]
  },
  {
   "cell_type": "markdown",
   "metadata": {},
   "source": [
    "In programming, it is fairly common to reassign a variable to something computed from its value. Statement like \"x = x + 1\" doesn't make sense in math, but is totally normal here. It doesn't mean we are declare x is equal to x + 1. It means we are assigning (x+1) to x, or in other words, increment x by 1"
   ]
  },
  {
   "cell_type": "code",
   "execution_count": 17,
   "metadata": {},
   "outputs": [
    {
     "name": "stdout",
     "output_type": "stream",
     "text": [
      "2\n"
     ]
    }
   ],
   "source": [
    "x = 1\n",
    "x = x + 1\n",
    "print(x)"
   ]
  },
  {
   "cell_type": "markdown",
   "metadata": {},
   "source": [
    "x = x + 1 can be written in brief form as x += 1. Similarly, x = x - 1 as x -= 1, x = x * 2 as x *= 2, x = x / 5 as x /= 5"
   ]
  },
  {
   "cell_type": "code",
   "execution_count": 18,
   "metadata": {},
   "outputs": [
    {
     "name": "stdout",
     "output_type": "stream",
     "text": [
      "15\n",
      "5\n",
      "60\n",
      "5.0\n"
     ]
    }
   ],
   "source": [
    "x = 10\n",
    "x += 5\n",
    "print(x)\n",
    "\n",
    "y = 10\n",
    "y -= 5\n",
    "print(y)\n",
    "\n",
    "z = 20\n",
    "z *= 3\n",
    "print(z)\n",
    "\n",
    "t = 50\n",
    "t /= 10\n",
    "print(t)"
   ]
  },
  {
   "cell_type": "markdown",
   "metadata": {},
   "source": [
    "<h3> Input </h3>\n",
    "\n",
    "In programming, input refers to whatever we provide a program to work with. Surely a statement like \"x=3\" means we give the program a value 3, and is also a type of input. But this way of providing data is called <b>hard coding</b>, meaning the value of x cannot be changed without modifying the code. \n",
    "\n",
    "For now, let \"input\" refer to values that we can provide a program <i>after</i> it is executed, and we can rerun the program with different input without modifying the code. To do that, we use the <b>input()</b> function. The syntax is <b>input({message})</b>; {message} will be printed to notify the user to enter something.\n",
    "\n",
    "In the cell below, we use input to ask the user to enter a number and assigned it to the variable x. Notice how x won't have a value until we enter something, and you can rerun the cell to enter different values for x without having to change the code"
   ]
  },
  {
   "cell_type": "code",
   "execution_count": 19,
   "metadata": {},
   "outputs": [
    {
     "name": "stdout",
     "output_type": "stream",
     "text": [
      "please enter something: hello\n",
      "you have just typed in\n",
      "hello\n"
     ]
    }
   ],
   "source": [
    "x = input('please enter something: ')\n",
    "print('you have just typed in')\n",
    "print(x)"
   ]
  },
  {
   "cell_type": "markdown",
   "metadata": {},
   "source": [
    "when using input(), whatever you type in will be stored as a string, even though you may actually have entered a number."
   ]
  },
  {
   "cell_type": "code",
   "execution_count": 20,
   "metadata": {},
   "outputs": [
    {
     "name": "stdout",
     "output_type": "stream",
     "text": [
      "please enter something: 12\n",
      "<class 'str'>\n"
     ]
    }
   ],
   "source": [
    "something = input('please enter something: ')\n",
    "print(type(something))"
   ]
  },
  {
   "cell_type": "markdown",
   "metadata": {},
   "source": [
    "so how to provide numerical input to your program? we can use the <b>int()</b> or <b>float()</b> function to convert string values to integer or float, respectively. In the cell below, notice the type 'str' changes to 'int' after using the int() function. You can achieve similar thing with float()."
   ]
  },
  {
   "cell_type": "code",
   "execution_count": 21,
   "metadata": {},
   "outputs": [
    {
     "name": "stdout",
     "output_type": "stream",
     "text": [
      "please enter an integer12\n",
      "type before conversion: \n",
      "<class 'str'>\n",
      "type after conversion: \n",
      "<class 'int'>\n"
     ]
    }
   ],
   "source": [
    "an_integer = input('please enter an integer')\n",
    "\n",
    "print('type before conversion: ')\n",
    "print(type(an_integer))\n",
    "\n",
    "an_integer_converted = int(an_integer)\n",
    "print('type after conversion: ')\n",
    "print(type(an_integer_converted))"
   ]
  },
  {
   "cell_type": "markdown",
   "metadata": {},
   "source": [
    "A note when using int() and float(), if you are trying to convert something that not a number, you will be promted with value errors"
   ]
  },
  {
   "cell_type": "code",
   "execution_count": 22,
   "metadata": {},
   "outputs": [
    {
     "ename": "ValueError",
     "evalue": "invalid literal for int() with base 10: 'this is not a number, but I am still trying to use int()'",
     "output_type": "error",
     "traceback": [
      "\u001b[1;31m---------------------------------------------------------------------------\u001b[0m",
      "\u001b[1;31mValueError\u001b[0m                                Traceback (most recent call last)",
      "\u001b[1;32m<ipython-input-22-45952c355a45>\u001b[0m in \u001b[0;36m<module>\u001b[1;34m\u001b[0m\n\u001b[1;32m----> 1\u001b[1;33m \u001b[0mint\u001b[0m\u001b[1;33m(\u001b[0m\u001b[1;34m'this is not a number, but I am still trying to use int()'\u001b[0m\u001b[1;33m)\u001b[0m\u001b[1;33m\u001b[0m\u001b[1;33m\u001b[0m\u001b[0m\n\u001b[0m",
      "\u001b[1;31mValueError\u001b[0m: invalid literal for int() with base 10: 'this is not a number, but I am still trying to use int()'"
     ]
    }
   ],
   "source": [
    "int('this is not a number, but I am still trying to use int()')"
   ]
  },
  {
   "cell_type": "markdown",
   "metadata": {},
   "source": [
    "You can also use int() and float() to convert number between integer and float"
   ]
  },
  {
   "cell_type": "code",
   "execution_count": 23,
   "metadata": {},
   "outputs": [
    {
     "name": "stdout",
     "output_type": "stream",
     "text": [
      "2\n",
      "<class 'int'>\n",
      "10.0\n",
      "<class 'float'>\n"
     ]
    }
   ],
   "source": [
    "some_number = int(2.61)\n",
    "print(some_number)\n",
    "print(type(some_number))\n",
    "\n",
    "other_number = float(10)\n",
    "print(other_number)\n",
    "print(type(other_number))"
   ]
  },
  {
   "cell_type": "markdown",
   "metadata": {},
   "source": [
    "At this point, you probably wonder how to force the users to enter a certain type of data (e.g. only integer, only number...). We can't actually do that using only this module's materials. Let's wait until module 4 :)"
   ]
  },
  {
   "cell_type": "markdown",
   "metadata": {},
   "source": [
    "<h3>Output</h3>\n",
    "\n",
    "If input is what we provide the program, then output refers to what the program returns to us. Output can be anything, text, files, images, etc. In this module (and most of this course), most of the outputs we will see is text printed out in our console, notebook, or other IDE. \n",
    "\n",
    "If you still haven't figured out, the print() function is used to prompt outputs to users. As an example, the cell below represents a program that ask the user to enter a number, multiplies it by 5, then print out the result. Recall, we need to convert the entered value to numeric. For simplicity, I'm just using int()."
   ]
  },
  {
   "cell_type": "code",
   "execution_count": 24,
   "metadata": {},
   "outputs": [
    {
     "name": "stdout",
     "output_type": "stream",
     "text": [
      "please enter a number: 12\n",
      "60\n"
     ]
    }
   ],
   "source": [
    "a_number = input('please enter a number: ')\n",
    "a_number = int(a_number)\n",
    "a_number_x_5 = a_number * 5\n",
    "print(a_number_x_5)"
   ]
  },
  {
   "cell_type": "markdown",
   "metadata": {},
   "source": [
    "we can shorten the above codes into fewer statement by combining function calls. Be careful when combining your statements though, the code can become so cryptic that even you would have a hard time understand it some time later"
   ]
  },
  {
   "cell_type": "code",
   "execution_count": 25,
   "metadata": {},
   "outputs": [
    {
     "name": "stdout",
     "output_type": "stream",
     "text": [
      "please enter a number: 12\n",
      "60\n"
     ]
    }
   ],
   "source": [
    "a_number = int(input('please enter a number: '))\n",
    "print(a_number * 5)"
   ]
  },
  {
   "cell_type": "markdown",
   "metadata": {},
   "source": [
    "We can even do that in one line. But I highly recommend against this style of writing code :)"
   ]
  },
  {
   "cell_type": "code",
   "execution_count": 26,
   "metadata": {},
   "outputs": [
    {
     "name": "stdout",
     "output_type": "stream",
     "text": [
      "please enter a number: 12\n",
      "60\n"
     ]
    }
   ],
   "source": [
    "print(int(input('please enter a number: ')) * 5)"
   ]
  },
  {
   "cell_type": "markdown",
   "metadata": {},
   "source": [
    "Let's return to output with print(). You can use print() to output any number of inputs which are then separeted by a comma \",\". Note that the items are not separated by the commas in the output, but by spaces."
   ]
  },
  {
   "cell_type": "code",
   "execution_count": 27,
   "metadata": {},
   "outputs": [
    {
     "name": "stdout",
     "output_type": "stream",
     "text": [
      "1 5 3 6 1\n",
      "a string a number 12 something 100\n",
      "10 12 some text\n"
     ]
    }
   ],
   "source": [
    "print(1,5,3,6,1)\n",
    "\n",
    "print(\"a string\",\"a number\",12,\"something\",100)\n",
    "\n",
    "x = 10\n",
    "y = 12\n",
    "z = \"some text\"\n",
    "print(x,y,z)"
   ]
  },
  {
   "cell_type": "markdown",
   "metadata": {},
   "source": [
    "We can utilize this to have more descriptive output for our program. Let write a program to compute the sum of two numbers"
   ]
  },
  {
   "cell_type": "code",
   "execution_count": 28,
   "metadata": {},
   "outputs": [
    {
     "name": "stdout",
     "output_type": "stream",
     "text": [
      "Please enter the first number: 54\n",
      "Please enter the second number: 32\n",
      "The sum of the two numbers is:  86\n"
     ]
    }
   ],
   "source": [
    "number_1 = int(input('Please enter the first number: '))\n",
    "number_2 = int(input('Please enter the second number: '))\n",
    "print('The sum of the two numbers is: ', number_1 + number_2)"
   ]
  },
  {
   "cell_type": "markdown",
   "metadata": {},
   "source": [
    "what if we want to output several input items mixed with some static text? It is not too convenient to split the message into parts and separte them with commas. A better way is to use <b>placeholders</b> for our variables.\n",
    "\n",
    "Basically, in your string literal, you can use %s as a placeholder for a string, %d for an integer, and %f for a float. You will then provide all the variables in a parenthese pair separated by commas. The message and the input are connected with a %"
   ]
  },
  {
   "cell_type": "code",
   "execution_count": 29,
   "metadata": {},
   "outputs": [
    {
     "name": "stdout",
     "output_type": "stream",
     "text": [
      "what did you buy today? pen\n",
      "how many did you buy? 10\n",
      "how much for each? 1.5\n",
      "Today, you saw some pen. You bought 10 at $ 1.500000 each. Totally, you paid $ 15.000000\n"
     ]
    }
   ],
   "source": [
    "item = input('what did you buy today? ')\n",
    "number = int(input('how many did you buy? '))\n",
    "price = float(input('how much for each? '))\n",
    "print('Today, you saw some %s. You bought %d at $ %f each. Totally, you paid $ %f' % (item,number,price,number*price))"
   ]
  },
  {
   "cell_type": "markdown",
   "metadata": {},
   "source": [
    "The trailing 0's in the float numbers don't look too nice. We can actually further format float number. Notice the syntax of %.2f instead of %f below. It instructs the interpreter that the float number in place should be printed with 2 digits after decimal point. You can change it to how many you want "
   ]
  },
  {
   "cell_type": "code",
   "execution_count": 30,
   "metadata": {},
   "outputs": [
    {
     "name": "stdout",
     "output_type": "stream",
     "text": [
      "what did you buy today? pen\n",
      "how many did you buy? 10\n",
      "how much for each? 1.5\n",
      "Today, you saw some pen. You bought 10 at $ 1.50 each. Totally, you paid $ 15.00\n"
     ]
    }
   ],
   "source": [
    "item = input('what did you buy today? ')\n",
    "number = int(input('how many did you buy? '))\n",
    "price = float(input('how much for each? '))\n",
    "print('Today, you saw some %s. You bought %d at $ %.2f each. Totally, you paid $ %.2f' % (item,number,price,number*price))"
   ]
  },
  {
   "cell_type": "markdown",
   "metadata": {},
   "source": [
    "You can remove the space before or after the placeholder without worrying errors. The message can be formatted to look nicer (and grammatically correct)"
   ]
  },
  {
   "cell_type": "code",
   "execution_count": 31,
   "metadata": {},
   "outputs": [
    {
     "name": "stdout",
     "output_type": "stream",
     "text": [
      "what did you buy today? pen\n",
      "how many did you buy? 10\n",
      "how much for each? 1.5\n",
      "Today, you saw some pens. You bought 10 at $1.50 each. Totally, you paid $15.00\n"
     ]
    }
   ],
   "source": [
    "item = input('what did you buy today? ')\n",
    "number = int(input('how many did you buy? '))\n",
    "price = float(input('how much for each? '))\n",
    "print('Today, you saw some %ss. You bought %d at $%.2f each. Totally, you paid $%.2f' % (item,number,price,number*price))"
   ]
  },
  {
   "cell_type": "markdown",
   "metadata": {},
   "source": [
    "<h3>Math Formulas in Codes</h3>\n",
    "\n",
    "Math operators in Python  \n",
    "- <b>+</b>: addition  \n",
    "- <b>-</b>: subtraction  \n",
    "- <b>*</b>: multiplication  \n",
    "- <b>/</b>: division, the result has type float  \n",
    "- <b>//</b>: integer division, the result has type integer\n",
    "- <b>%</b>: remainder\n",
    "- <b>**</b>: exponent\n",
    "\n",
    "The order of the operators being computed is the same that you learned in math classes.\n",
    "1.  exponentiation ** is done first\n",
    "2.  multiplication, division, and remainders *, /, //, % are done second\n",
    "3.  addition and subtraction are done third\n",
    "\n",
    "And of course, parentheses can be used to higher priority to certain parts of the formula."
   ]
  },
  {
   "cell_type": "markdown",
   "metadata": {},
   "source": [
    "Example:\n",
    "\n",
    "$\\dfrac{10 \\times (5 + 4)^2 - 5}{5^3 + 4^2}$"
   ]
  },
  {
   "cell_type": "code",
   "execution_count": 32,
   "metadata": {},
   "outputs": [
    {
     "data": {
      "text/plain": [
       "5.709219858156028"
      ]
     },
     "execution_count": 32,
     "metadata": {},
     "output_type": "execute_result"
    }
   ],
   "source": [
    "(10 * (5+4)**2 - 5) / (5**3 + 4**2)"
   ]
  },
  {
   "cell_type": "markdown",
   "metadata": {},
   "source": [
    "<h3> Comments </h3>\n",
    "\n",
    "Comments are texts in your codes that are not interpreted during program execution. In Python, comments begin with a <b>#</b>\n",
    "\n",
    "Comments are used to include descriptions in your code, notes to yourself or your team\n",
    "\n",
    "How to put comment? There are no definite rule, but be as descriptive as possible. For example"
   ]
  },
  {
   "cell_type": "code",
   "execution_count": 2,
   "metadata": {},
   "outputs": [
    {
     "name": "stdout",
     "output_type": "stream",
     "text": [
      "Please enter the first number: 10\n",
      "Please enter the second number: 20\n",
      "The sum of the two numbers is:  30\n"
     ]
    }
   ],
   "source": [
    "#this program asks for two numbers from user\n",
    "#then output their sum\n",
    "\n",
    "number_1 = int(input('Please enter the first number: '))      #asking for the first number\n",
    "number_2 = int(input('Please enter the second number: '))     #asking for the second number\n",
    "print('The sum of the two numbers is: ', number_1 + number_2) #outputing the sum of two number"
   ]
  },
  {
   "cell_type": "markdown",
   "metadata": {},
   "source": [
    "However, it is not necessary to put comment for every single line in the code. It is also not necessary to state something too obvious, for example"
   ]
  },
  {
   "cell_type": "code",
   "execution_count": null,
   "metadata": {},
   "outputs": [],
   "source": [
    "x = 1 #assign 1 to x"
   ]
  },
  {
   "cell_type": "markdown",
   "metadata": {},
   "source": [
    "Well... it's quite obvious that <b>x=1</b> means assigning 1 to x, so you probably don't have to note that. It could be more useful to explain why you are assigning 1 to x, or what is the role of x in your program"
   ]
  },
  {
   "cell_type": "code",
   "execution_count": null,
   "metadata": {},
   "outputs": [],
   "source": [
    "#x will be used as the input for function abc\n",
    "#temporary set x to 1\n",
    "x = 1 "
   ]
  },
  {
   "cell_type": "markdown",
   "metadata": {},
   "source": [
    "In general, try to justify which parts of you code need comments (from a teammate, or whoever will read you code, point of view) and what should be explained/described in your comments. Either too many or too few comments can confuse people."
   ]
  }
 ],
 "metadata": {
  "kernelspec": {
   "display_name": "Python 3 (ipykernel)",
   "language": "python",
   "name": "python3"
  },
  "language_info": {
   "codemirror_mode": {
    "name": "ipython",
    "version": 3
   },
   "file_extension": ".py",
   "mimetype": "text/x-python",
   "name": "python",
   "nbconvert_exporter": "python",
   "pygments_lexer": "ipython3",
   "version": "3.9.12"
  }
 },
 "nbformat": 4,
 "nbformat_minor": 4
}
