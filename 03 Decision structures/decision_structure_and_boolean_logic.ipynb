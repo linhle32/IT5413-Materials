{
 "cells": [
  {
   "attachments": {
    "decision.PNG": {
     "image/png": "[encoded data removed]"
    }
   },
   "cell_type": "markdown",
   "metadata": {},
   "source": [
    "<h2>Decision Structure and Boolean Logic</h2>\n",
    "\n",
    "So far, we have been writing codes that are executed line-by-line in the order they appear. This is referred as a <b>sequence structure</b>. Recall, in the previous lecture, we discussed a <b>decision</b> step in flowchart, where the execution of a program is branched based on certain contidions\n",
    "\n",
    "![decision.PNG](attachment:decision.PNG)\n",
    "\n",
    "This is called a <b>Decision Structure</b>, or <b>Selection Structure</b>, a set of statements that is invoked conditionally. In Python, we write this type of structures using the <b>if</b>, <b>if-else</b>, or <b>if-elif-else</b> statements. All decision statements in Python work based on <b>boolean</b> expressions which we will now discuss.\n",
    "\n",
    "<h3> Boolean Expressions </h3>\n",
    "\n",
    "Boolean expressions are expressions that return either <b>True</b> or <b>False</b>\n",
    "\n",
    "- In Python, boolean type is <b>bool</b>. bool type variables and expressions can only have two values: True or False\n",
    "    - You need to enter the exact case - <b>True</b> and <b>False</b>; not TRUE and FALSE, or true and false, or any other combination of upper/lower cases."
   ]
  },
  {
   "cell_type": "code",
   "execution_count": 1,
   "metadata": {},
   "outputs": [
    {
     "name": "stdout",
     "output_type": "stream",
     "text": [
      "True\n",
      "False\n",
      "<class 'bool'>\n",
      "<class 'bool'>\n"
     ]
    }
   ],
   "source": [
    "print(True)\n",
    "print(False)\n",
    "print(type(True))\n",
    "print(type(False))"
   ]
  },
  {
   "cell_type": "markdown",
   "metadata": {},
   "source": [
    "Any variable can be assigned a bool value"
   ]
  },
  {
   "cell_type": "code",
   "execution_count": 2,
   "metadata": {},
   "outputs": [
    {
     "name": "stdout",
     "output_type": "stream",
     "text": [
      "True\n",
      "<class 'bool'>\n",
      "False\n",
      "<class 'bool'>\n"
     ]
    }
   ],
   "source": [
    "x = True\n",
    "y = False\n",
    "print(x)\n",
    "print(type(x))\n",
    "print(y)\n",
    "print(type(y))"
   ]
  },
  {
   "cell_type": "markdown",
   "metadata": {},
   "source": [
    "<b>Comparison expressions</b> always return boolean types. In Python, comparison operators are:\n",
    "\n",
    "|Python Symbol| Operator|\n",
    "|-------------|---------|\n",
    "|<b>&gt; </b>|greater than|\n",
    "|<b>&lt; </b>|less than|\n",
    "|<b>&gt;=</b>|greater than or equal to|\n",
    "|<b>&lt;=</b>|less than or equal to|\n",
    "|<b> ==  </b>|equal to |\n",
    "|<b> !=  </b>|not equal to|\n",
    "\n",
    "<b>Important:</b> please always remember, <b>==</b> is for comparison and <b>=</b> is for assignment. They <b>are not</b> interchangable.\n",
    "\n",
    "If the expression is mathematically <b>correct</b>, for example, 1 < 2, it <b>returns True</b>. If the expression is mathematically <b>incorrect</b>, for example, 5 == 6, it <b>returns False</b>."
   ]
  },
  {
   "cell_type": "code",
   "execution_count": 3,
   "metadata": {},
   "outputs": [
    {
     "data": {
      "text/plain": [
       "True"
      ]
     },
     "execution_count": 3,
     "metadata": {},
     "output_type": "execute_result"
    }
   ],
   "source": [
    "1 < 2"
   ]
  },
  {
   "cell_type": "code",
   "execution_count": 4,
   "metadata": {},
   "outputs": [
    {
     "data": {
      "text/plain": [
       "False"
      ]
     },
     "execution_count": 4,
     "metadata": {},
     "output_type": "execute_result"
    }
   ],
   "source": [
    "5 > 10"
   ]
  },
  {
   "cell_type": "code",
   "execution_count": 8,
   "metadata": {},
   "outputs": [
    {
     "name": "stdout",
     "output_type": "stream",
     "text": [
      "True\n",
      "False\n"
     ]
    }
   ],
   "source": [
    "print(5 == 5)\n",
    "print(5 != 5)"
   ]
  },
  {
   "cell_type": "code",
   "execution_count": 6,
   "metadata": {},
   "outputs": [
    {
     "name": "stdout",
     "output_type": "stream",
     "text": [
      "True\n",
      "True\n",
      "True\n",
      "True\n",
      "True\n",
      "False\n",
      "False\n",
      "True\n"
     ]
    }
   ],
   "source": [
    "print(10 > 5)\n",
    "print(10 < 20)\n",
    "print(2 <= 4)\n",
    "print(5 >= 5)\n",
    "print(10 == 10)\n",
    "print(10 == 20)\n",
    "print(5 != 5)\n",
    "print(5 != 6)"
   ]
  },
  {
   "cell_type": "markdown",
   "metadata": {},
   "source": [
    "Of course, we can also compare variables"
   ]
  },
  {
   "cell_type": "code",
   "execution_count": null,
   "metadata": {},
   "outputs": [],
   "source": [
    "x = 10\n",
    "y = 20\n",
    "\n",
    "print(\"x == y:\", x == y)\n",
    "print(\"x != y:\", x != y)\n",
    "print(\"x < y:\", x < y)\n",
    "print(\"x > y:\", x > y)\n",
    "print(\"x <= y:\", x <= y)\n",
    "print(\"x >= y:\", x >= y)"
   ]
  },
  {
   "cell_type": "markdown",
   "metadata": {},
   "source": [
    "And we can compare math expressions"
   ]
  },
  {
   "cell_type": "code",
   "execution_count": null,
   "metadata": {},
   "outputs": [],
   "source": [
    "x = 10\n",
    "y = 20\n",
    "\n",
    "print('x=10')\n",
    "print('y=20')\n",
    "print('x == (y - 10):', x == y - 10)\n",
    "print('(x + 10) == y:', x + 10 == y)\n",
    "print('(x + 5) == (y - 5):', (x + 5) == (y - 5))\n",
    "print('(x/2 * 6) == (y*3 / 2):', (x/2 * 6) == (y*3 / 2)) #tip: when your expressions get longer, \n",
    "                                                         #use space and () may help with readability\n",
    "print('x*y > 100: ', x*y > 100)\n",
    "print('x/y > 1: ', x/y > 1)"
   ]
  },
  {
   "cell_type": "markdown",
   "metadata": {},
   "source": [
    "We can assign a boolean expression to a variable. In that case, the variable carries the True/False value of the expression"
   ]
  },
  {
   "cell_type": "code",
   "execution_count": null,
   "metadata": {
    "scrolled": true
   },
   "outputs": [],
   "source": [
    "x = (1 < 2)  #parantheses are not necessary, but I think they help clarify the codes\n",
    "print(x)\n",
    "\n",
    "y = (10 == 5)\n",
    "print(y)\n",
    "\n",
    "z = (((7+9)/2) != ((4*4)/2))\n",
    "print(z)"
   ]
  },
  {
   "cell_type": "markdown",
   "metadata": {},
   "source": [
    "We can also compare string values. Most commonly, we use \"==\" and/or \"!=\" to check if two strings are <b>exactly</b> similar. Remember, Python is case-sensitive, so 'a' is <b>not</b> equal to 'A'. Also, spaces are characters, so 'a' is <b>not</b> the same as 'a ' or ' a'."
   ]
  },
  {
   "cell_type": "code",
   "execution_count": 5,
   "metadata": {},
   "outputs": [
    {
     "name": "stdout",
     "output_type": "stream",
     "text": [
      "True\n",
      "False\n",
      "True\n",
      "False\n"
     ]
    }
   ],
   "source": [
    "print('hello' == 'hello')\n",
    "print('Hello' == 'hello')\n",
    "print(('Hello'+'World') == 'HelloWorld') #again, parentheses are not necessary, but it helps the readability\n",
    "print(('Hello'+'World') == 'Hello World')"
   ]
  },
  {
   "cell_type": "markdown",
   "metadata": {},
   "source": [
    "You can also use other boolean operators. In such cases, the strings are compared in <b>lexicographical ordering</b>: first the first two items are compared, and if they differ this determines the outcome of the comparison; if they are equal, the next two items are compared, and so on, until either sequence is exhausted. However, this kind of comparisons is not too common, at least to my knowledge. I personally never do this. I won't ask about this in assignments or exams, just put it here in case you test different things and want to know why you get the result."
   ]
  },
  {
   "cell_type": "code",
   "execution_count": null,
   "metadata": {
    "scrolled": true
   },
   "outputs": [],
   "source": [
    "print('a' < 'b')\n",
    "print('ab' < 'b')\n",
    "print('abc' < 'abd')\n",
    "print('abcdef' > 'abd')\n",
    "print('z' > 'a')\n",
    "print('zabc' > 'zdf')"
   ]
  },
  {
   "cell_type": "markdown",
   "metadata": {},
   "source": []
  },
  {
   "cell_type": "markdown",
   "metadata": {},
   "source": [
    "bool and numeric types are interchangable\n",
    "- True is equal to 1, and False is equal to 0. Any numbers besides 0 and 1 are neither True nor False\n",
    "- There are cases where we may want to use 0 or 1 in places of False or True, but they are quite rare\n",
    "- In general, you should not mix types even though they are allowed, so that your code is as clear as possible"
   ]
  },
  {
   "cell_type": "code",
   "execution_count": null,
   "metadata": {},
   "outputs": [],
   "source": [
    "print(1 == True)\n",
    "print(0 == False)\n",
    "print(1.0 == True)\n",
    "print(0.0 == False)\n",
    "print(1.5 == True)\n",
    "print(1.5 == False)\n",
    "print(0.00001 == True)\n",
    "print(1 + 1 + True + True)\n",
    "print(5 * False)"
   ]
  },
  {
   "attachments": {
    "if.PNG": {
     "image/png": "[encoded data removed]"
    }
   },
   "cell_type": "markdown",
   "metadata": {},
   "source": [
    "<h3> if, if-else, if-elif-else Structures </h3>\n",
    "\n",
    "<h4> The Simple if Statement </h4>\n",
    "With understanding about boolean values and expressions, we can now work with decision structures in Python. The most basic structure is an <b>if</b> statement. The syntax is as <br>\n",
    "\n",
    "<b>\n",
    "if &lt;boolean expression&gt;:<br>\n",
    "&emsp;#block of codes\n",
    "</b>\n",
    "\n",
    "<b>Important: </b>\n",
    "- The colon \"<b>:</b>\" at the end of the statement is <b>required</b>\n",
    "- The <b>indentation</b> at the beginning of the <i>block of code</i> after the if statement is <b>required</b>\n",
    "    - Missing either items results in an error.\n",
    "- The <i>block of codes</i> is only invoked when the <b>final value</b> of the <i>boolean expression</i> is <b>True</b>. If the value is False, the interpreter ignores the <i>block of codes</i> and \"jumps\" to the next statement in the main program\n",
    "- A statement <b>must</b> be indented to be considered belonging to the <i>block of codes</i>. All statements' indentation must be the same, for example, a tab, one space, two spaces...\n",
    "- The <i>block of codes</i> must have at least one statement.\n",
    "- After the first statement in the <i>block of codes</i>, any statement without indentatation/tab belongs to the main program again. Indenting a statement in the main program results in an error\n",
    "\n",
    "The flowchart for the single if statement:\n",
    "\n",
    "![if.PNG](attachment:if.PNG)\n",
    "\n",
    "<h4>Some examples:</h4>"
   ]
  },
  {
   "cell_type": "code",
   "execution_count": null,
   "metadata": {},
   "outputs": [],
   "source": [
    "#the most basic case, we directly provide a boolean value True to the if statement\n",
    "if (True):                #the parentheses () are not required, but recommended for readability\n",
    "    print(\"it's true!\")   #we must indent the print statement, usually with a tab"
   ]
  },
  {
   "cell_type": "code",
   "execution_count": null,
   "metadata": {},
   "outputs": [],
   "source": [
    "#now we give the if statement the value False\n",
    "#notice how the print statement does not generate any output anymore\n",
    "#because it is ignore\n",
    "if (False):\n",
    "    print(\"it's false!\")"
   ]
  },
  {
   "cell_type": "code",
   "execution_count": 17,
   "metadata": {},
   "outputs": [
    {
     "name": "stdout",
     "output_type": "stream",
     "text": [
      "10 is less than 20\n",
      "of course it is\n",
      "we all know that\n",
      "this statement does not depend on the if statement\n"
     ]
    }
   ],
   "source": [
    "#let's have a more complicated example\n",
    "if (10 < 20):                      #now we use an expression that returns True\n",
    "    print('10 is less than 20')    #this statement is indented, it belongs to the if statement\n",
    "    print('of course it is')       #this statement is indented, it belongs to the if statement\n",
    "    print('we all know that')      #this statement is indented, it belongs to the if statement\n",
    "    \n",
    "print('this statement does not depend on the if statement')  #this statement is not indented, it is in the main program"
   ]
  },
  {
   "cell_type": "code",
   "execution_count": 18,
   "metadata": {},
   "outputs": [
    {
     "name": "stdout",
     "output_type": "stream",
     "text": [
      "this statement does not depend on the if statement\n"
     ]
    }
   ],
   "source": [
    "#now let's give the if statement a False expression and see what happen\n",
    "if (10 > 20):                         #now we use an expression that returns False\n",
    "    print('10 is greater than 20')    #this statement is indented, it belongs to the if statement\n",
    "    print('it probably is')           #this statement is indented, it belongs to the if statement\n",
    "    print('is it?')                   #this statement is indented, it belongs to the if statement\n",
    "    \n",
    "print('this statement does not depend on the if statement')  #this statement is not indented, it is in the main program"
   ]
  },
  {
   "cell_type": "markdown",
   "metadata": {},
   "source": [
    "Notice in the output above, the three indented statements after the if statement were not invoked. The last print statement was still executed since without indentation, it does not belong to the if block\n",
    "\n",
    "Any expression that returns a boolean value can be use with an if statement. They can include variables (actually most of the time they include variables!), be as complicated as you want (although you should not do that to yourself)"
   ]
  },
  {
   "cell_type": "code",
   "execution_count": null,
   "metadata": {
    "scrolled": true
   },
   "outputs": [],
   "source": [
    "x = 15\n",
    "\n",
    "if (x > 10):\n",
    "    print('x > 10')\n",
    "    \n",
    "if ((x + 10)/2 * 3 > 15):\n",
    "    print('x > 10')"
   ]
  },
  {
   "cell_type": "markdown",
   "metadata": {},
   "source": [
    "<h5> In-Class Lab 1</h5>\n",
    "\n",
    "Assuming that you have $500 in an account. Write the code that \n",
    "- Ask for how much money to withdraw\n",
    "    - If the withdraw amount is less than account balance then subtract the balance by that amount\n",
    "- Print the balance after withdrawal"
   ]
  },
  {
   "cell_type": "code",
   "execution_count": 34,
   "metadata": {},
   "outputs": [
    {
     "name": "stdout",
     "output_type": "stream",
     "text": [
      "Please enter a number: 11\n"
     ]
    }
   ],
   "source": [
    "a_number = int(input('Please enter a number: '))"
   ]
  },
  {
   "cell_type": "code",
   "execution_count": 40,
   "metadata": {},
   "outputs": [
    {
     "name": "stdout",
     "output_type": "stream",
     "text": [
      "How much money you want to withdraw? 501\n"
     ]
    }
   ],
   "source": [
    "#code\n",
    "withdraw = int(input('How much money you want to withdraw? '))\n",
    "\n",
    "if withdraw < 500:\n",
    "    print('Your current balance is', 500 - withdraw)"
   ]
  },
  {
   "attachments": {
    "ifelse.PNG": {
     "image/png": "[encoded data removed]"
    }
   },
   "cell_type": "markdown",
   "metadata": {},
   "source": [
    "<h3> The if-else Statement</h3>\n",
    "\n",
    "The <b>if-else</b> statement allows us to add actions for the <b>False</b> case of the expression given to if. The syntax is\n",
    "\n",
    "<b>\n",
    "if &lt;boolean expression&gt;: <br>\n",
    "&emsp;#True block <br>\n",
    "else: <br>\n",
    "&emsp;#False block\n",
    "</b>\n",
    "\n",
    "In general, the syntax is the same as the if statement:\n",
    "- You need to have a colon after both if and else \n",
    "- You need to indent the codes for them to belong to the <i>True block</i> or the <i>False block</i>\n",
    "- Each block needs at least one statement\n",
    "- You cannot return to either block after exitting it (i.e. return to the main program by removing indentations)\n",
    "\n",
    "Other notes:\n",
    "- An else statement <b>must</b> have the same indentation with its if statement\n",
    "- An if statement can have <b>at most one</b> else statement\n",
    "- You cannot have an else statement without an if statement\n",
    "\n",
    "The flowchart for an if-else statement:\n",
    "\n",
    "![ifelse.PNG](attachment:ifelse.PNG)\n",
    "\n",
    "This means the <i>True block</i> and the <i>False block</i> are never invoked together in the same run.\n",
    "\n",
    "Some Examples:"
   ]
  },
  {
   "cell_type": "code",
   "execution_count": null,
   "metadata": {},
   "outputs": [],
   "source": [
    "#let's still begin with the simplest case\n",
    "x = True                     #when the expression returns True\n",
    "if (x):                      #can you explain what if (x) means?\n",
    "    print(\"it's true!\")\n",
    "else:\n",
    "    print(\"it's false!\")"
   ]
  },
  {
   "cell_type": "code",
   "execution_count": null,
   "metadata": {},
   "outputs": [],
   "source": [
    "y = False                    #when the expression returns False\n",
    "if (y):\n",
    "    print(\"it's true!\")\n",
    "else:\n",
    "    print(\"it's false!\")"
   ]
  },
  {
   "cell_type": "code",
   "execution_count": null,
   "metadata": {},
   "outputs": [],
   "source": [
    "#again, if a statement is not indented \n",
    "#it is not in either the if block or the else block\n",
    "#and will be invoked no matters what\n",
    "#try changing the value of x and see what happens\n",
    "x = 5\n",
    "\n",
    "if (x > 10):\n",
    "    print(\"x > 10\")\n",
    "    print(\"it really is!\")\n",
    "else:\n",
    "    print(\"x <= 10\")\n",
    "    print(\"well...\")\n",
    "    \n",
    "print(\"this statement is always invoked\")"
   ]
  },
  {
   "cell_type": "markdown",
   "metadata": {},
   "source": [
    "<h5> In-Class Lab 1</h5>\n",
    "\n",
    "Assuming that you have $500 in an account. Write the code that \n",
    "- Ask for how much money to withdraw\n",
    "    - If the withdraw amount is less than account balance then subtract the balance by that amount\n",
    "    - If the withdraw amount is more than account balance then notify the user\n",
    "- Print the balance after withdrawal"
   ]
  },
  {
   "cell_type": "code",
   "execution_count": 42,
   "metadata": {},
   "outputs": [
    {
     "name": "stdout",
     "output_type": "stream",
     "text": [
      "How much money you want to withdraw? 510\n",
      "You do not have enough money\n"
     ]
    }
   ],
   "source": [
    "#code\n",
    "withdraw = int(input('How much money you want to withdraw? '))\n",
    "\n",
    "if withdraw < 500:\n",
    "    print('Your current balance is', 500 - withdraw)\n",
    "else:\n",
    "    print('You do not have enough money')"
   ]
  },
  {
   "cell_type": "markdown",
   "metadata": {},
   "source": [
    "Write a program that asks a user's age then show their age group. The age group is defined as follow:\n",
    "- less than or equal 10: adolesence\n",
    "- 10 - 19: teenager\n",
    "- 19+ - 40: adult\n",
    "- 40+ - 60: middle age\n",
    "- greater than or equal to 60: elderly"
   ]
  },
  {
   "cell_type": "code",
   "execution_count": 56,
   "metadata": {},
   "outputs": [
    {
     "name": "stdout",
     "output_type": "stream",
     "text": [
      "How old are you? 19\n",
      "you are a teenager\n"
     ]
    }
   ],
   "source": [
    "age = float(input('How old are you? '))\n",
    "\n",
    "if age <= 10:\n",
    "    print('you are adolescent')\n",
    "elif age > 10 and age <= 19:\n",
    "    print('you are a teenager')\n",
    "elif age > 19 and age <= 40:\n",
    "    print('you are an adult')\n",
    "elif age > 40 and age <= 60:\n",
    "    print('you are at middle age')\n",
    "else:\n",
    "    print('you are elderly')"
   ]
  },
  {
   "cell_type": "code",
   "execution_count": 61,
   "metadata": {},
   "outputs": [
    {
     "name": "stdout",
     "output_type": "stream",
     "text": [
      "How old are you? 20.1\n",
      "you are an adult\n"
     ]
    }
   ],
   "source": [
    "age = float(input('How old are you? '))\n",
    "\n",
    "if age <= 10:\n",
    "    print('you are adolescent')\n",
    "elif age <= 19:\n",
    "    print('you are a teenager')\n",
    "elif age <= 40:\n",
    "    print('you are an adult')\n",
    "elif age <= 60:\n",
    "    print('you are at middle age')\n",
    "else:\n",
    "    print('you are elderly')"
   ]
  },
  {
   "cell_type": "code",
   "execution_count": 68,
   "metadata": {},
   "outputs": [
    {
     "name": "stdout",
     "output_type": "stream",
     "text": [
      "How old are you? 9\n",
      "you are adolescent\n",
      "you are elderly\n"
     ]
    }
   ],
   "source": [
    "age = float(input('How old are you? '))\n",
    "\n",
    "if age <= 10:\n",
    "    print('you are adolescent')\n",
    "if age > 10 and age <= 19:\n",
    "    print('you are a teenager')\n",
    "if age > 19 and age <= 40:\n",
    "    print('you are an adult')\n",
    "if age > 40 and age <= 60:\n",
    "    print('you are at middle age')\n",
    "else:\n",
    "    print('you are elderly')"
   ]
  },
  {
   "attachments": {
    "elif.PNG": {
     "image/png": "[encoded data removed]"
    }
   },
   "cell_type": "markdown",
   "metadata": {},
   "source": [
    "For cases where conditions can be split linearly like above, we prefer the <b>if-elif-else</b> structure\n",
    "\n",
    "<h3>The if-elif-else Structure</h3>\n",
    "\n",
    "Unlike the if-else statement which only allows two outcomes, and if we want to check for multiple conditions we need to nest statements, the if-elif-else statement can check a chain of conditions without nested structures. The syntax of this statement is\n",
    "\n",
    "<b>\n",
    "if &lt;Expression 1&gt;: <br>\n",
    "&emsp;#Block 1<br>\n",
    "elif &lt;Expression 2&gt;: <br>\n",
    "&emsp;#Block 2<br>\n",
    "elif &lt;Expression 3&gt;: <br>\n",
    "&emsp;#Block 3 <br>\n",
    "    ... <br>\n",
    "else:   #this is optional<br> \n",
    "&emsp;#Else Block <br>    \n",
    "</b>\n",
    "\n",
    "About the if-elif-else statement:\n",
    "- Each elif statement needs a boolean expression\n",
    "- An elif statement is invoked <b>only when</b> the previous if/elif expression returns False\n",
    "- You can have as many elif as you like\n",
    "- Similar to else, all elif statements must have the same indentation with its if statement\n",
    "- Similar to else, all elif statements need at least one statement in its block\n",
    "- Similar to else, you cannot have elif statement without if statement\n",
    "- The else statement at the end is optional\n",
    "- Remember, after reaching a True if/elif expression and executing its block, the interpreter will <b>ignore</b> all the remaining conditions. If there is something you want to be executed no matters what, you need to place it outside the decision block\n",
    "\n",
    "The flowchart for if-elif-else: \n",
    "\n",
    "![elif.PNG](attachment:elif.PNG)\n",
    "\n",
    "An example where the conditions are similar to the nested if-else example (their outputs are different though). You can see it becomes much clearer to write/read (and thus much easier to check for errors)"
   ]
  },
  {
   "cell_type": "code",
   "execution_count": null,
   "metadata": {},
   "outputs": [],
   "source": [
    "x = int(input('please enter a number: '))\n",
    "\n",
    "if (x < 1):\n",
    "    print('x < 1')\n",
    "elif (x < 5):\n",
    "    print('1 <= x < 5')\n",
    "elif (x < 10):\n",
    "    print('5 <= x < 10')\n",
    "elif (x < 15):\n",
    "    print('10 <= x < 15')\n",
    "else:\n",
    "    print(x >= 15)"
   ]
  },
  {
   "cell_type": "markdown",
   "metadata": {},
   "source": [
    "It is important to remember that the if-elif block is different from a chain of equal-level if statements. For example, the cell above is different from the cell below"
   ]
  },
  {
   "cell_type": "code",
   "execution_count": null,
   "metadata": {},
   "outputs": [],
   "source": [
    "x = int(input('please enter a number: '))\n",
    "\n",
    "if (x < 1):\n",
    "    print('x < 1')\n",
    "if (x < 5):\n",
    "    print('1 <= x < 5')\n",
    "if (x < 10):\n",
    "    print('5 <= x < 10')\n",
    "if (x < 15):\n",
    "    print('10 <= x < 15')\n",
    "else:\n",
    "    print(x >= 15)"
   ]
  },
  {
   "cell_type": "markdown",
   "metadata": {},
   "source": [
    "The different is that when seeing a True expression in an if-elif block, the interpreter ignore the remaining cases. This does not happen in a chain of equal-level if's because they are independent of each other. All the if statements are checked and if their expressions return True, their blocks will be invoked. You will need to rewrite the chain of if's to have the correct expressions, for example"
   ]
  },
  {
   "cell_type": "code",
   "execution_count": null,
   "metadata": {},
   "outputs": [],
   "source": [
    "x = int(input('please enter a number: '))\n",
    "\n",
    "if (x < 1):\n",
    "    print('x < 1')\n",
    "if (1 <= x < 5):\n",
    "    print('1 <= x < 5')\n",
    "if (5 <= x < 10):\n",
    "    print('5 <= x < 10')\n",
    "if (10 <= x < 15):\n",
    "    print('10 <= x < 15')\n",
    "if (x >= 15):                       #notice if you use else here, the else statement belongs to the last if statement\n",
    "    print(x >= 15)                  #and will be invoked whenever x < 15"
   ]
  },
  {
   "cell_type": "markdown",
   "metadata": {},
   "source": [
    "But the code is still longer and more confusing than using elif. So, stick with the elif whenever possible."
   ]
  },
  {
   "attachments": {
    "nestedif.PNG": {
     "image/png": "[encoded data removed]"
    }
   },
   "cell_type": "markdown",
   "metadata": {},
   "source": [
    "<h3> Nested Structures </h3>\n",
    "\n",
    "The blocks of code for an if/elif/else can have their own decision structures. We called this <b>nested structures</b>. Nested structures are quite common in programming. For example, you can nest an if statement in another if, which results in the flowchart below \n",
    "\n",
    "![nestedif.PNG](attachment:nestedif.PNG)\n",
    "\n",
    "This is quite similar the flowchart pf if-elif structure, because they can be rewritten in the other format. However, you should always use if-elif-else when possible, since the code is always much clearer. You also need to care more about indentation, since the nested if block needs its own indentation besides the indentation of for the first if"
   ]
  },
  {
   "cell_type": "code",
   "execution_count": 69,
   "metadata": {},
   "outputs": [
    {
     "name": "stdout",
     "output_type": "stream",
     "text": [
      "please enter a number: 11\n",
      "we now return to the main program\n"
     ]
    }
   ],
   "source": [
    "#please try different values of x to see how the print() are invoked\n",
    "\n",
    "x = int(input('please enter a number: '))\n",
    "\n",
    "if (x <= 10):\n",
    "    print('x <= 10')                              #this statement is indented with 1 tab, it belongs to the first if\n",
    "    if (x <= 5):                                  #this statement is indented with 1 tab, it belongs to the first if\n",
    "        print('also, x <= 5')                     #this statement is indented with 2 tabs, it belongs to the second if\n",
    "        if (x <= 1):                              #this statement is indented with 2 tabs, it belongs to the second if\n",
    "            print('also, x <= 1')                 #this statement is indented with 3 tabs, it belongs to the third if\n",
    "            print('x is so small')                #this statement is indented with 3 tabs, it belongs to the third if\n",
    "        print('another statement in the 2nd if')  #this statement is indented with 2 tabs, it belongs to the second if\n",
    "    print('this is a statement in the 1st if')    #this statement is indented with 1 tabs, it belongs to the first if\n",
    "print('we now return to the main program')"
   ]
  },
  {
   "cell_type": "markdown",
   "metadata": {},
   "source": [
    "One important thing to remember when nesting if statements is that you need to make sure the expression of a nested if can be True when the expression of the wrapping if is True.\n",
    "\n",
    "The block of code inside the 2nd if below will never be invoked, because x can not be both < 5 and > 10"
   ]
  },
  {
   "cell_type": "code",
   "execution_count": 70,
   "metadata": {},
   "outputs": [
    {
     "name": "stdout",
     "output_type": "stream",
     "text": [
      "please enter a number: 11\n"
     ]
    }
   ],
   "source": [
    "x = int(input('please enter a number: '))\n",
    "\n",
    "if (x < 5):\n",
    "    print('x < 5')\n",
    "    if (x > 10):\n",
    "        print('this statement can never be invoked')  #can you find any value of x that allows this statement to be run?"
   ]
  },
  {
   "cell_type": "markdown",
   "metadata": {},
   "source": [
    "Another note, you need to be careful when adding else to nested if. As mentioned, else statements must have the same indentation with its if statement, and one if statement can have at most one else statement. The two cells below are totally different"
   ]
  },
  {
   "cell_type": "code",
   "execution_count": null,
   "metadata": {},
   "outputs": [],
   "source": [
    "x = int(input('please enter a number: '))\n",
    "\n",
    "if (x < 10):\n",
    "    print('x < 10')\n",
    "    if (x < 5):\n",
    "        print('x < 5')\n",
    "    else:                            #this else belong to the nested if, it has one indentation\n",
    "        print('5 <= x < 10')"
   ]
  },
  {
   "cell_type": "code",
   "execution_count": null,
   "metadata": {},
   "outputs": [],
   "source": [
    "x = int(input('please enter a number: '))\n",
    "\n",
    "if (x < 10):\n",
    "    print('x < 10')\n",
    "    if (x < 5):\n",
    "        print('x < 5')\n",
    "else:                                #this else belong to the first if, it has no indentation\n",
    "    print('5 <= x < 10')"
   ]
  },
  {
   "cell_type": "markdown",
   "metadata": {},
   "source": [
    "We can surely have expressions of the statements based on different variables"
   ]
  },
  {
   "cell_type": "code",
   "execution_count": null,
   "metadata": {},
   "outputs": [],
   "source": [
    "#can you draw the flowchart for this program?\n",
    "\n",
    "math = int(input('please enter your math grade: '))\n",
    "history = int(input('please enter your history grade: '))\n",
    "\n",
    "if (math > 85):\n",
    "    print('You are good at math')\n",
    "    if (history > 85):\n",
    "        print('You are also good at history')\n",
    "    else:\n",
    "        print('But you are not so good at history')\n",
    "else:\n",
    "    print('You are not so good at math')\n",
    "    if (history > 85):\n",
    "        print('But you are good at history')\n",
    "    else:\n",
    "        print('And you are also not so good at history')"
   ]
  },
  {
   "cell_type": "markdown",
   "metadata": {},
   "source": [
    "Nesting structures can get big and confusing really fast, but sometimes we cannot avoid using them. In such cases, my only advice is to plan them first, e.g. draw a flowchart, or draft some pseudocode. Luckily, we probably won't have to write big nested structures in this course.\n",
    "\n",
    "<h3> Logical Operators </h3>\n",
    "\n",
    "Any nested decision structure can be rewritten in if-elif-else structure. For example, the previous example can be rewritten as"
   ]
  },
  {
   "cell_type": "code",
   "execution_count": null,
   "metadata": {},
   "outputs": [],
   "source": [
    "math = int(input('please enter your math grade: '))\n",
    "history = int(input('please enter your history grade: '))\n",
    "\n",
    "if ((math > 85) and (history > 85)):\n",
    "    print('You are good at both math and history')\n",
    "elif ((math > 85) and (history <= 85)):\n",
    "    print('You are good at math but not so good at history')\n",
    "elif ((math <= 85) and (history > 85)):\n",
    "    print('You are not so good at math but good at history')\n",
    "else:\n",
    "    print('You are good at neither math nor history')"
   ]
  },
  {
   "cell_type": "markdown",
   "metadata": {},
   "source": [
    "It actually becomes quite a lot clearer. Notice the use of the operator <b>and</b>. This is called a <b>logical operator</b> which is used between boolean values to obtain new boolean values. Other logical operators are <b>or</b> and <b>not</b>. <b>and</b> and <b>or</b> are used as operators between two boolean values, whereas <b>not</b> is applied on a single boolean value to obtain its reversed value. The results of these operators are in the three <b>truth tables</b> below\n",
    "    \n",
    "<h4> Truth Table for AND </h4>\n",
    "\n",
    "|v1|v2||v1 <b>and</b> v2|\n",
    "|----|----||--------------------|\n",
    "|True|True||True|\n",
    "|True|False||False|\n",
    "|False|True||False|\n",
    "|False|False||False|\n",
    "\n",
    "<h4> Truth Table for OR </h4>\n",
    "\n",
    "|v1|v2||v1 <b>or</b> v2|\n",
    "|----|----||--------------------|\n",
    "|True|True||True|\n",
    "|True|False||True|\n",
    "|False|True||True|\n",
    "|False|False||False|\n",
    "\n",
    "<h4> Truth Table for NOT </h4>\n",
    "\n",
    "|v1||<b>not</b> v1|\n",
    "|----||----|\n",
    "|True||False|\n",
    "|False||True|\n",
    "\n",
    "In short\n",
    "- (v1 <b>and</b> v2) only returns True when both v1 and v2 are True\n",
    "- (v1 <b>or</b> v2) only returns False when both v1 and v2 are False\n",
    "- (<b>not</b> v1) returns the reversed value of v1\n",
    "\n",
    "Some examples"
   ]
  },
  {
   "cell_type": "code",
   "execution_count": null,
   "metadata": {},
   "outputs": [],
   "source": [
    "print((1 < 2) and (4 > 3))\n",
    "print((1 < 2) and (4 == 3))\n",
    "print((1 > 2) and (4 > 3))\n",
    "print((1 == 2) and (4 == 3))"
   ]
  },
  {
   "cell_type": "code",
   "execution_count": null,
   "metadata": {},
   "outputs": [],
   "source": [
    "print((1 < 2) or (4 > 3))\n",
    "print((1 < 2) or (4 == 3))\n",
    "print((1 > 2) or (4 > 3))\n",
    "print((1 == 2) or (4 == 3))"
   ]
  },
  {
   "cell_type": "code",
   "execution_count": null,
   "metadata": {},
   "outputs": [],
   "source": [
    "print(not True)\n",
    "print(not False)\n",
    "print(not (5 > 10))\n",
    "print(not (5 < 10))"
   ]
  },
  {
   "cell_type": "markdown",
   "metadata": {},
   "source": [
    "Using a combination of if/elif/else and logical operators, a program can be branched very flexibly. However, again, these structures can get really complicated really fast. It is really up to you to organize the statements and operators to have your code both correct and readable.\n",
    "\n",
    "Some problems for you to exercise. The codes are available at the end, however, please try to work on the problems by yourself first to get used to decision structures and boolean expressions in Python\n",
    "\n",
    "1) Solve a linear equation $ax + b = 0$ <br>\n",
    "- if $a = b = 0$, the equation has an infinite of solutions <br>\n",
    "- if $a = 0$ and $b \\neq 0$, the equation has no solutions <br>\n",
    "- if $a \\neq b$, the equation has one solution $x = -b/a$ <br>\n",
    "- you should ask for a and b from keyboard\n",
    "\n",
    "2) Solve a quadratic equation $ax^2 + bx + c = 0$ <br>\n",
    "- if $a = 0$, the equation becomes a linear equation $bx + c = 0$, follow the process in question 1 <br>\n",
    "- if $a \\neq 0$, compute $\\Delta = b^2 - 4ac$ <br>\n",
    "    - if $\\Delta < 0$, the equation has no real solutions <br>\n",
    "    - if $\\Delta = 0$, the equation has one solution $x = -b/(2a)$ <br>\n",
    "    - if $\\Delta > 0$, the equation has two solution $x_1 = (-b-\\sqrt{\\Delta})/(2a)$ and $x_1 = (-b+\\sqrt{\\Delta})/(2a)$\n",
    "    - you can use import math, then use math.sqrt(x) to compute squared root of x, example:"
   ]
  },
  {
   "cell_type": "code",
   "execution_count": null,
   "metadata": {},
   "outputs": [],
   "source": [
    "import math\n",
    "print(math.sqrt(4))\n",
    "print(math.sqrt(9))\n",
    "print(math.sqrt(100))"
   ]
  },
  {
   "cell_type": "markdown",
   "metadata": {},
   "source": [
    "<h4>Code for Exercise 1</h4>"
   ]
  },
  {
   "cell_type": "code",
   "execution_count": null,
   "metadata": {},
   "outputs": [],
   "source": [
    "###this program solves a linear equation ax + b = 0\n",
    "\n",
    "#input a and b\n",
    "print('This program solves for a linear equation ax + b = 0')\n",
    "a = int(input('Please enter a: '))\n",
    "b = int(input('Please enter b: '))\n",
    "\n",
    "#print equation \n",
    "print('Solving equation %dx + %d = 0' % (a,b))\n",
    "\n",
    "#check for each condition and output solutions\n",
    "#there are different ways to setup this decision block\n",
    "#can you find a shorter way?\n",
    "if (a != 0):\n",
    "    print('x = ', -b/a)\n",
    "else:\n",
    "    if (b == 0):\n",
    "        print('The equation has an infinite of solutions')\n",
    "    else:\n",
    "        print('The equation has no solutions')"
   ]
  },
  {
   "cell_type": "markdown",
   "metadata": {},
   "source": [
    "Let's rewrite using elif and logical operator"
   ]
  },
  {
   "cell_type": "code",
   "execution_count": null,
   "metadata": {},
   "outputs": [],
   "source": [
    "###this program solves a linear equation ax + b = 0\n",
    "\n",
    "#input a and b\n",
    "print('This program solves for a linear equation ax + b = 0')\n",
    "a = int(input('Please enter a: '))\n",
    "b = int(input('Please enter b: '))\n",
    "\n",
    "#print equation \n",
    "print('Solving equation %dx + %d = 0' % (a,b))\n",
    "\n",
    "#check for each condition and output solutions\n",
    "#there are different ways to setup this decision block\n",
    "#can you find a shorter way?\n",
    "if ((a == 0) and (b == 0)):\n",
    "    print('The equation has an infinite of solutions')\n",
    "elif ((a == 0) and (b != 0)):\n",
    "    print('The equation has no solutions')    \n",
    "else:\n",
    "    print('x = ', -b/a)"
   ]
  },
  {
   "cell_type": "markdown",
   "metadata": {},
   "source": [
    "Which way do you like better?"
   ]
  },
  {
   "cell_type": "markdown",
   "metadata": {},
   "source": [
    "<h4>Code for Exercise 2</h4>"
   ]
  },
  {
   "cell_type": "code",
   "execution_count": null,
   "metadata": {},
   "outputs": [],
   "source": [
    "###this program solves a quadratic equation ax^2 + bx + c = 0\n",
    "\n",
    "#import math for squared root\n",
    "import math                                                      #if you have imported math from the previous example \n",
    "                                                                 #then it's not necessary to import again\n",
    "                                                                 #the code is here in case you did not\n",
    "\n",
    "#input a, b, and c\n",
    "print('This program solves for a quadratic equation ax^2 + bx + c = 0')\n",
    "a = int(input('Please enter a: '))\n",
    "b = int(input('Please enter b: '))\n",
    "c = int(input('Please enter c: '))\n",
    "\n",
    "#print equation \n",
    "print('Solving equation %dx^2 + %dx + %d = 0' % (a,b,c))\n",
    "\n",
    "if (a == 0):                                                      #the case where a is 0\n",
    "    print('The equation becomes %dx + %d = 0' % (b,c))\n",
    "    if (b != 0):\n",
    "        print('x = ', -c/b)\n",
    "    else:\n",
    "        if (c == 0):\n",
    "            print('The equation has an infinite of solutions')\n",
    "        else:\n",
    "            print('The equation has no solutions')\n",
    "\n",
    "else:                                                             #if a is not 0\n",
    "    delta = b**2 - 4*a*c                                          #compute for delta\n",
    "    \n",
    "    if (delta < 0):\n",
    "        print('The equation has no real solutions')\n",
    "        \n",
    "    elif (delta == 0):\n",
    "        print('x = ', -b/(2*a))\n",
    "        \n",
    "    else:\n",
    "        x1 = (-b - math.sqrt(delta)) / (2*a)\n",
    "        x2 = (-b + math.sqrt(delta)) / (2*a)\n",
    "        print('x1 = %.3f and x2 = %.3f' % (x1, x2))"
   ]
  }
 ],
 "metadata": {
  "kernelspec": {
   "display_name": "Python 3 (ipykernel)",
   "language": "python",
   "name": "python3"
  },
  "language_info": {
   "codemirror_mode": {
    "name": "ipython",
    "version": 3
   },
   "file_extension": ".py",
   "mimetype": "text/x-python",
   "name": "python",
   "nbconvert_exporter": "python",
   "pygments_lexer": "ipython3",
   "version": "3.9.12"
  }
 },
 "nbformat": 4,
 "nbformat_minor": 2
}
