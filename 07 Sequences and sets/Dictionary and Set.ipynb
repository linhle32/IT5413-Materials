{
 "cells": [
  {
   "cell_type": "markdown",
   "metadata": {},
   "source": [
    "<h2>Dictionary and Set</h2>\n",
    "\n",
    "In this module, we discuss Dictionary, Set, and serializing objects.\n",
    "\n",
    "<h3>Dictionary</h3>\n",
    "\n",
    "Is another type of collections in Python (recall, the other two we have discussed are list and tuple). Dictionaries store elements that are called <b>key-value</b> pairs. A key-value pair is similar to a word and its meaning that you can look up in a real dictionary. With Python dictionaries, you can use a key to locate a specific value.\n",
    "\n",
    "Dictionaries are created using the curly brackets <b>{}</b>, the syntax is as\n",
    "\n",
    "<b>\n",
    "    dictionary_name = { <br>\n",
    "        &emsp;key_1 : value_1, <br>\n",
    "        &emsp;key_2 : value_2, <br>\n",
    "        &emsp;#... <br>\n",
    "    }\n",
    "</b>\n",
    "\n",
    "- the \":\" between each key and value pair is mandatory\n",
    "- the \",\" after each key-value pair is mandatory (except the last pair, similar to items in a list)\n",
    "- keys must be immutable, but values can be pretty much anything\n",
    "- you can have as many key-value pairs as you want\n",
    "- new lines are not necessary, but are helpful if you have many items in your dictionary\n",
    "\n",
    "To obtain the value of a key, we use the syntax\n",
    "\n",
    "<b>dictionary_name[key]</b>\n",
    "\n",
    "so, similar to a list, but the index is a key.\n",
    "\n",
    "Some example:\n",
    "\n",
    "- Create a new dictionary"
   ]
  },
  {
   "cell_type": "code",
   "execution_count": 2,
   "metadata": {},
   "outputs": [],
   "source": [
    "state_capitals={\n",
    "    'New York': 'Albany',\n",
    "    'New Jersey': 'Trenton',\n",
    "    'Georgia' : 'Atlanta',\n",
    "    'Texas' : 'Austin'\n",
    "}"
   ]
  },
  {
   "cell_type": "code",
   "execution_count": 11,
   "metadata": {},
   "outputs": [
    {
     "name": "stdout",
     "output_type": "stream",
     "text": [
      "{'New York': 'Albany', 'New Jersey': 'Trenton', 'Georgia': 'Atlanta', 'Texas': 'Austin'}\n"
     ]
    }
   ],
   "source": [
    "print(state_capitals)"
   ]
  },
  {
   "cell_type": "markdown",
   "metadata": {},
   "source": [
    "- then access values by \"looking up\" key"
   ]
  },
  {
   "cell_type": "code",
   "execution_count": 4,
   "metadata": {},
   "outputs": [
    {
     "data": {
      "text/plain": [
       "'Albany'"
      ]
     },
     "execution_count": 4,
     "metadata": {},
     "output_type": "execute_result"
    }
   ],
   "source": [
    "state_capitals['New York']"
   ]
  },
  {
   "cell_type": "code",
   "execution_count": 5,
   "metadata": {},
   "outputs": [
    {
     "data": {
      "text/plain": [
       "'Atlanta'"
      ]
     },
     "execution_count": 5,
     "metadata": {},
     "output_type": "execute_result"
    }
   ],
   "source": [
    "state_capitals['Georgia']"
   ]
  },
  {
   "cell_type": "markdown",
   "metadata": {},
   "source": [
    "We can also assign values of keys to variables, for example"
   ]
  },
  {
   "cell_type": "code",
   "execution_count": 6,
   "metadata": {},
   "outputs": [
    {
     "name": "stdout",
     "output_type": "stream",
     "text": [
      "Albany\n"
     ]
    }
   ],
   "source": [
    "ny_cap = state_capitals['New York']\n",
    "print(ny_cap)"
   ]
  },
  {
   "cell_type": "code",
   "execution_count": 8,
   "metadata": {},
   "outputs": [
    {
     "name": "stdout",
     "output_type": "stream",
     "text": [
      "Atlanta\n"
     ]
    }
   ],
   "source": [
    "ga_cap = state_capitals['Georgia']\n",
    "print(ga_cap)"
   ]
  },
  {
   "cell_type": "markdown",
   "metadata": {},
   "source": [
    "You will get errors when trying to obtain values of a key that is not in the dictionary"
   ]
  },
  {
   "cell_type": "code",
   "execution_count": 10,
   "metadata": {},
   "outputs": [
    {
     "ename": "KeyError",
     "evalue": "'Florida'",
     "output_type": "error",
     "traceback": [
      "\u001b[1;31m---------------------------------------------------------------------------\u001b[0m",
      "\u001b[1;31mKeyError\u001b[0m                                  Traceback (most recent call last)",
      "\u001b[1;32m<ipython-input-10-cd84b841861b>\u001b[0m in \u001b[0;36m<module>\u001b[1;34m\u001b[0m\n\u001b[1;32m----> 1\u001b[1;33m \u001b[0mstate_capitals\u001b[0m\u001b[1;33m[\u001b[0m\u001b[1;34m'Florida'\u001b[0m\u001b[1;33m]\u001b[0m\u001b[1;33m\u001b[0m\u001b[1;33m\u001b[0m\u001b[0m\n\u001b[0m",
      "\u001b[1;31mKeyError\u001b[0m: 'Florida'"
     ]
    }
   ],
   "source": [
    "state_capitals['Florida']"
   ]
  },
  {
   "cell_type": "markdown",
   "metadata": {},
   "source": [
    "We can check if a <b>key</b> is in the dictionary with the operator <b>in</b> and <b>not in</b>. The expression returns True if the key is in the dictionary, False otherwise"
   ]
  },
  {
   "cell_type": "code",
   "execution_count": 21,
   "metadata": {},
   "outputs": [],
   "source": [
    "state_capitals={\n",
    "    'New York': 'Albany',\n",
    "    'New Jersey': 'Trenton',\n",
    "    'Georgia' : 'Atlanta',\n",
    "    'Texas' : 'Austin',\n",
    "    'Washington' : 'Olympia'\n",
    "}"
   ]
  },
  {
   "cell_type": "code",
   "execution_count": 22,
   "metadata": {},
   "outputs": [
    {
     "data": {
      "text/plain": [
       "True"
      ]
     },
     "execution_count": 22,
     "metadata": {},
     "output_type": "execute_result"
    }
   ],
   "source": [
    "'New York' in state_capitals"
   ]
  },
  {
   "cell_type": "code",
   "execution_count": 23,
   "metadata": {},
   "outputs": [
    {
     "data": {
      "text/plain": [
       "True"
      ]
     },
     "execution_count": 23,
     "metadata": {},
     "output_type": "execute_result"
    }
   ],
   "source": [
    "'New Jersey' in state_capitals"
   ]
  },
  {
   "cell_type": "code",
   "execution_count": 24,
   "metadata": {},
   "outputs": [
    {
     "data": {
      "text/plain": [
       "False"
      ]
     },
     "execution_count": 24,
     "metadata": {},
     "output_type": "execute_result"
    }
   ],
   "source": [
    "'Florida' in state_capitals"
   ]
  },
  {
   "cell_type": "code",
   "execution_count": 26,
   "metadata": {},
   "outputs": [
    {
     "data": {
      "text/plain": [
       "True"
      ]
     },
     "execution_count": 26,
     "metadata": {},
     "output_type": "execute_result"
    }
   ],
   "source": [
    "'Florida' not in state_capitals"
   ]
  },
  {
   "cell_type": "markdown",
   "metadata": {},
   "source": [
    "The <b>in</b> operator <b>only</b> check for keys, not values"
   ]
  },
  {
   "cell_type": "code",
   "execution_count": 25,
   "metadata": {},
   "outputs": [
    {
     "data": {
      "text/plain": [
       "False"
      ]
     },
     "execution_count": 25,
     "metadata": {},
     "output_type": "execute_result"
    }
   ],
   "source": [
    "'Albany' in state_capitals"
   ]
  },
  {
   "cell_type": "code",
   "execution_count": 27,
   "metadata": {},
   "outputs": [
    {
     "data": {
      "text/plain": [
       "False"
      ]
     },
     "execution_count": 27,
     "metadata": {},
     "output_type": "execute_result"
    }
   ],
   "source": [
    "'Atlanta' in state_capitals"
   ]
  },
  {
   "cell_type": "markdown",
   "metadata": {},
   "source": [
    "We add new key-value pairs to a dictionary by\n",
    "\n",
    "<b>dictionary_name[new_key] = new_value</b>\n",
    "\n",
    "For example"
   ]
  },
  {
   "cell_type": "code",
   "execution_count": 28,
   "metadata": {},
   "outputs": [],
   "source": [
    "state_capitals['Florida'] = 'Tallahassee'\n",
    "state_capitals['Alabama'] = 'Montgomery'"
   ]
  },
  {
   "cell_type": "code",
   "execution_count": 29,
   "metadata": {},
   "outputs": [
    {
     "name": "stdout",
     "output_type": "stream",
     "text": [
      "{'New York': 'Albany', 'New Jersey': 'Trenton', 'Georgia': 'Atlanta', 'Texas': 'Austin', 'Washington': 'Olympia', 'Florida': 'Tallahassee', 'Alabama': 'Montgomery'}\n"
     ]
    }
   ],
   "source": [
    "print(state_capitals)"
   ]
  },
  {
   "cell_type": "code",
   "execution_count": 30,
   "metadata": {},
   "outputs": [
    {
     "data": {
      "text/plain": [
       "'Tallahassee'"
      ]
     },
     "execution_count": 30,
     "metadata": {},
     "output_type": "execute_result"
    }
   ],
   "source": [
    "state_capitals['Florida'] "
   ]
  },
  {
   "cell_type": "code",
   "execution_count": 31,
   "metadata": {},
   "outputs": [
    {
     "data": {
      "text/plain": [
       "True"
      ]
     },
     "execution_count": 31,
     "metadata": {},
     "output_type": "execute_result"
    }
   ],
   "source": [
    "'Florida' in state_capitals"
   ]
  },
  {
   "cell_type": "markdown",
   "metadata": {},
   "source": [
    "If the key is already in the dictionary, its value <b>will be changed</b>"
   ]
  },
  {
   "cell_type": "code",
   "execution_count": 32,
   "metadata": {},
   "outputs": [],
   "source": [
    "state_capitals['New York'] = \"I don't know!\""
   ]
  },
  {
   "cell_type": "code",
   "execution_count": 33,
   "metadata": {},
   "outputs": [
    {
     "data": {
      "text/plain": [
       "\"I don't know!\""
      ]
     },
     "execution_count": 33,
     "metadata": {},
     "output_type": "execute_result"
    }
   ],
   "source": [
    "state_capitals['New York']"
   ]
  },
  {
   "cell_type": "markdown",
   "metadata": {},
   "source": [
    "We can use the <b>del</b> operator to remove a key-value pair in the dictionary\n",
    "\n",
    "<b>del dictionary_name[key]</b>"
   ]
  },
  {
   "cell_type": "code",
   "execution_count": 34,
   "metadata": {},
   "outputs": [],
   "source": [
    "del state_capitals['Alabama']"
   ]
  },
  {
   "cell_type": "code",
   "execution_count": 35,
   "metadata": {},
   "outputs": [
    {
     "data": {
      "text/plain": [
       "False"
      ]
     },
     "execution_count": 35,
     "metadata": {},
     "output_type": "execute_result"
    }
   ],
   "source": [
    "'Alabama' in state_capitals"
   ]
  },
  {
   "cell_type": "markdown",
   "metadata": {},
   "source": [
    "You will get errors when trying to remove a key that is not in the dictionary"
   ]
  },
  {
   "cell_type": "code",
   "execution_count": 36,
   "metadata": {},
   "outputs": [
    {
     "ename": "KeyError",
     "evalue": "'Alaska'",
     "output_type": "error",
     "traceback": [
      "\u001b[1;31m---------------------------------------------------------------------------\u001b[0m",
      "\u001b[1;31mKeyError\u001b[0m                                  Traceback (most recent call last)",
      "\u001b[1;32m<ipython-input-36-56dca812d9d2>\u001b[0m in \u001b[0;36m<module>\u001b[1;34m\u001b[0m\n\u001b[1;32m----> 1\u001b[1;33m \u001b[1;32mdel\u001b[0m \u001b[0mstate_capitals\u001b[0m\u001b[1;33m[\u001b[0m\u001b[1;34m'Alaska'\u001b[0m\u001b[1;33m]\u001b[0m\u001b[1;33m\u001b[0m\u001b[1;33m\u001b[0m\u001b[0m\n\u001b[0m",
      "\u001b[1;31mKeyError\u001b[0m: 'Alaska'"
     ]
    }
   ],
   "source": [
    "del state_capitals['Alaska']"
   ]
  },
  {
   "cell_type": "markdown",
   "metadata": {},
   "source": [
    "We can use the len() function to get the number of key-value pairs in the dictionary"
   ]
  },
  {
   "cell_type": "code",
   "execution_count": 37,
   "metadata": {},
   "outputs": [
    {
     "data": {
      "text/plain": [
       "6"
      ]
     },
     "execution_count": 37,
     "metadata": {},
     "output_type": "execute_result"
    }
   ],
   "source": [
    "len(state_capitals)"
   ]
  },
  {
   "cell_type": "markdown",
   "metadata": {},
   "source": [
    "Note that a key must be an <b>immutable</b> object, while a value can be pretty much anything (numbers, strings, objects, functions...), for example"
   ]
  },
  {
   "cell_type": "code",
   "execution_count": 38,
   "metadata": {},
   "outputs": [
    {
     "ename": "TypeError",
     "evalue": "unhashable type: 'list'",
     "output_type": "error",
     "traceback": [
      "\u001b[1;31m---------------------------------------------------------------------------\u001b[0m",
      "\u001b[1;31mTypeError\u001b[0m                                 Traceback (most recent call last)",
      "\u001b[1;32m<ipython-input-38-1fe104df27c8>\u001b[0m in \u001b[0;36m<module>\u001b[1;34m\u001b[0m\n\u001b[1;32m----> 1\u001b[1;33m \u001b[0msomedict\u001b[0m \u001b[1;33m=\u001b[0m \u001b[1;33m{\u001b[0m\u001b[1;33m[\u001b[0m\u001b[1;36m1\u001b[0m\u001b[1;33m,\u001b[0m\u001b[1;36m2\u001b[0m\u001b[1;33m]\u001b[0m\u001b[1;33m:\u001b[0m\u001b[1;33m[\u001b[0m\u001b[1;36m1\u001b[0m\u001b[1;33m,\u001b[0m\u001b[1;36m2\u001b[0m\u001b[1;33m,\u001b[0m\u001b[1;36m3\u001b[0m\u001b[1;33m]\u001b[0m\u001b[1;33m}\u001b[0m\u001b[1;33m\u001b[0m\u001b[1;33m\u001b[0m\u001b[0m\n\u001b[0m",
      "\u001b[1;31mTypeError\u001b[0m: unhashable type: 'list'"
     ]
    }
   ],
   "source": [
    "some_dictionary = {\n",
    "    [1,2]:[1,2,3]   #recall, a list is mutable, so we get error\n",
    "} "
   ]
  },
  {
   "cell_type": "code",
   "execution_count": 40,
   "metadata": {},
   "outputs": [],
   "source": [
    "some_dictionary = {\n",
    "    'string' : 'this is a string',       #key is a string, value is a string\n",
    "    'number' : 123456,                   #key is a string, value is a number \n",
    "    100 : 'the number 100',              #key is a number, value is a string\n",
    "    'function' : print,                  #key is a string, value is a function\n",
    "    'some list' : [1,2,3,5,6],           #key is a string, value is a list\n",
    "    (1,2,3) : [1,2,6,3,7]                #key is a tuple (immutable), value is a list\n",
    "} "
   ]
  },
  {
   "cell_type": "code",
   "execution_count": 13,
   "metadata": {},
   "outputs": [
    {
     "data": {
      "text/plain": [
       "'this is a string'"
      ]
     },
     "execution_count": 13,
     "metadata": {},
     "output_type": "execute_result"
    }
   ],
   "source": [
    "some_dictionary['string']"
   ]
  },
  {
   "cell_type": "code",
   "execution_count": 14,
   "metadata": {},
   "outputs": [
    {
     "data": {
      "text/plain": [
       "'the number 100'"
      ]
     },
     "execution_count": 14,
     "metadata": {},
     "output_type": "execute_result"
    }
   ],
   "source": [
    "some_dictionary[100]"
   ]
  },
  {
   "cell_type": "code",
   "execution_count": 15,
   "metadata": {},
   "outputs": [
    {
     "data": {
      "text/plain": [
       "<function print>"
      ]
     },
     "execution_count": 15,
     "metadata": {},
     "output_type": "execute_result"
    }
   ],
   "source": [
    "some_dictionary['function']"
   ]
  },
  {
   "cell_type": "code",
   "execution_count": 20,
   "metadata": {},
   "outputs": [
    {
     "data": {
      "text/plain": [
       "[1, 2, 3, 5, 6]"
      ]
     },
     "execution_count": 20,
     "metadata": {},
     "output_type": "execute_result"
    }
   ],
   "source": [
    "some_dictionary['some list']"
   ]
  },
  {
   "cell_type": "markdown",
   "metadata": {},
   "source": [
    "We can create an empty dictionary with\n",
    "\n",
    "<b>dictionary_name = {}</b>\n",
    "\n",
    "or\n",
    "\n",
    "<b>dictionary_name = dict()</b>\n",
    "\n",
    "And add key-value pairs as the program goes\n",
    "\n",
    "For example, we have a list of employee names, and a list of their salary. We can use a for loop to add the names (as keys) and salaries (as values) to the dictionary"
   ]
  },
  {
   "cell_type": "code",
   "execution_count": 41,
   "metadata": {},
   "outputs": [],
   "source": [
    "names = ['Alice', 'Bob', 'Carol', 'Daniel']\n",
    "salaries = [100000, 89000, 90000, 102000]\n",
    "\n",
    "#empty dictionary\n",
    "salary_dict = {}\n",
    "\n",
    "#loop with index to access both lists\n",
    "for i in range(len(names)):\n",
    "    salary_dict[names[i]] = salaries[i] #names[i] returns the current name, and salaries[i] the current salary"
   ]
  },
  {
   "cell_type": "code",
   "execution_count": 42,
   "metadata": {},
   "outputs": [
    {
     "data": {
      "text/plain": [
       "{'Alice': 100000, 'Bob': 89000, 'Carol': 90000, 'Daniel': 102000}"
      ]
     },
     "execution_count": 42,
     "metadata": {},
     "output_type": "execute_result"
    }
   ],
   "source": [
    "salary_dict"
   ]
  },
  {
   "cell_type": "code",
   "execution_count": 43,
   "metadata": {},
   "outputs": [
    {
     "data": {
      "text/plain": [
       "89000"
      ]
     },
     "execution_count": 43,
     "metadata": {},
     "output_type": "execute_result"
    }
   ],
   "source": [
    "salary_dict['Bob']"
   ]
  },
  {
   "cell_type": "markdown",
   "metadata": {},
   "source": [
    "We can also iterate through a dictionary with a for loop. In that case, the counter variable (the one in the for loop) will be the <b>keys</b> in the dictionary. For example, to give everyone a 4% raise in salary:"
   ]
  },
  {
   "cell_type": "code",
   "execution_count": 46,
   "metadata": {},
   "outputs": [
    {
     "name": "stdout",
     "output_type": "stream",
     "text": [
      "Alice\n",
      "Bob\n",
      "Carol\n",
      "Daniel\n"
     ]
    }
   ],
   "source": [
    "for name in salary_dict:                     #the keys in this dictionary represent names\n",
    "    print(name)                              #so the counter variable \"name\" will be the current name in the dictionary\n",
    "    salary_dict[name] *= 1.04                "
   ]
  },
  {
   "cell_type": "code",
   "execution_count": 45,
   "metadata": {},
   "outputs": [
    {
     "data": {
      "text/plain": [
       "{'Alice': 104000.0, 'Bob': 92560.0, 'Carol': 93600.0, 'Daniel': 106080.0}"
      ]
     },
     "execution_count": 45,
     "metadata": {},
     "output_type": "execute_result"
    }
   ],
   "source": [
    "salary_dict"
   ]
  },
  {
   "cell_type": "code",
   "execution_count": 48,
   "metadata": {},
   "outputs": [
    {
     "name": "stdout",
     "output_type": "stream",
     "text": [
      "The salary of Alice is $108160.00\n",
      "The salary of Bob is $96262.40\n",
      "The salary of Carol is $97344.00\n",
      "The salary of Daniel is $110323.20\n"
     ]
    }
   ],
   "source": [
    "#we can use a loop to print all pairs nicely\n",
    "for name in salary_dict:\n",
    "    print('The salary of %s is $%.2f' % (name, salary_dict[name]))"
   ]
  },
  {
   "cell_type": "markdown",
   "metadata": {},
   "source": [
    "<h4>Dictionary's Method</h4>\n",
    "\n",
    "- clear() - clears the contents of the dictionary\n",
    "- get() - gets the value associated with a specified key\n",
    "- items() - returns all the keys in a dictionary and their associated values as a sequence of tuples\n",
    "- keys() - returns all the keys in a dictionary as a sequence of tuples\n",
    "- pop() - returns the value associated with a specified key and removes that key-value pair from the dictionary\n",
    "- popitem() - returns a randomly selected key-value pair as a tuple from the dictionary and removes that key-value pair from the dictionary\n",
    "- values() - returns all the values in the dictionary as a sequence of tuples"
   ]
  },
  {
   "cell_type": "code",
   "execution_count": 49,
   "metadata": {},
   "outputs": [
    {
     "data": {
      "text/plain": [
       "108160.0"
      ]
     },
     "execution_count": 49,
     "metadata": {},
     "output_type": "execute_result"
    }
   ],
   "source": [
    "salary_dict.get('Alice')"
   ]
  },
  {
   "cell_type": "code",
   "execution_count": 50,
   "metadata": {},
   "outputs": [
    {
     "data": {
      "text/plain": [
       "dict_items([('Alice', 108160.0), ('Bob', 96262.40000000001), ('Carol', 97344.0), ('Daniel', 110323.2)])"
      ]
     },
     "execution_count": 50,
     "metadata": {},
     "output_type": "execute_result"
    }
   ],
   "source": [
    "salary_dict.items()"
   ]
  },
  {
   "cell_type": "code",
   "execution_count": 51,
   "metadata": {},
   "outputs": [
    {
     "data": {
      "text/plain": [
       "dict_keys(['Alice', 'Bob', 'Carol', 'Daniel'])"
      ]
     },
     "execution_count": 51,
     "metadata": {},
     "output_type": "execute_result"
    }
   ],
   "source": [
    "salary_dict.keys()"
   ]
  },
  {
   "cell_type": "code",
   "execution_count": 52,
   "metadata": {},
   "outputs": [
    {
     "data": {
      "text/plain": [
       "dict_values([108160.0, 96262.40000000001, 97344.0, 110323.2])"
      ]
     },
     "execution_count": 52,
     "metadata": {},
     "output_type": "execute_result"
    }
   ],
   "source": [
    "salary_dict.values()"
   ]
  },
  {
   "cell_type": "code",
   "execution_count": 53,
   "metadata": {},
   "outputs": [
    {
     "data": {
      "text/plain": [
       "108160.0"
      ]
     },
     "execution_count": 53,
     "metadata": {},
     "output_type": "execute_result"
    }
   ],
   "source": [
    "#after pop(), we get the salary of 'Alice'\n",
    "salary_dict.pop('Alice')"
   ]
  },
  {
   "cell_type": "code",
   "execution_count": 54,
   "metadata": {},
   "outputs": [
    {
     "data": {
      "text/plain": [
       "{'Bob': 96262.40000000001, 'Carol': 97344.0, 'Daniel': 110323.2}"
      ]
     },
     "execution_count": 54,
     "metadata": {},
     "output_type": "execute_result"
    }
   ],
   "source": [
    "#but 'Alice' is removed from the dictionary\n",
    "salary_dict"
   ]
  },
  {
   "cell_type": "code",
   "execution_count": 55,
   "metadata": {},
   "outputs": [
    {
     "data": {
      "text/plain": [
       "('Daniel', 110323.2)"
      ]
     },
     "execution_count": 55,
     "metadata": {},
     "output_type": "execute_result"
    }
   ],
   "source": [
    "#popitem() get a key-value pair randomly\n",
    "salary_dict.popitem()"
   ]
  },
  {
   "cell_type": "code",
   "execution_count": 56,
   "metadata": {},
   "outputs": [
    {
     "data": {
      "text/plain": [
       "{'Bob': 96262.40000000001, 'Carol': 97344.0}"
      ]
     },
     "execution_count": 56,
     "metadata": {},
     "output_type": "execute_result"
    }
   ],
   "source": [
    "#and remove it from the dictionary\n",
    "salary_dict"
   ]
  },
  {
   "cell_type": "code",
   "execution_count": 57,
   "metadata": {},
   "outputs": [],
   "source": [
    "#finally, clear() remove everything"
   ]
  },
  {
   "cell_type": "code",
   "execution_count": 58,
   "metadata": {},
   "outputs": [
    {
     "data": {
      "text/plain": [
       "{}"
      ]
     },
     "execution_count": 58,
     "metadata": {},
     "output_type": "execute_result"
    }
   ],
   "source": [
    "salary_dict.clear()\n",
    "salary_dict"
   ]
  },
  {
   "cell_type": "markdown",
   "metadata": {},
   "source": [
    "<h3>Set</h3>\n",
    "\n",
    "Set is a collection type that stores <b>unique items</b> \n",
    "\n",
    "We use the set() built-in function to create an empty set\n",
    "\n",
    "<b>set_name = set()</b>\n",
    "\n",
    "Then, we can add items with the add() method.\n",
    "\n",
    "For example:"
   ]
  },
  {
   "cell_type": "code",
   "execution_count": 59,
   "metadata": {},
   "outputs": [],
   "source": [
    "a_set = set()\n",
    "\n",
    "a_set.add(10)\n",
    "a_set.add(100)\n",
    "a_set.add(1000)\n",
    "a_set.add(500)\n",
    "a_set.add(10)"
   ]
  },
  {
   "cell_type": "markdown",
   "metadata": {},
   "source": [
    "Notice how we add 10 to the set twice, but it appears only once. Again, items in set are unique, so duplications are removed"
   ]
  },
  {
   "cell_type": "code",
   "execution_count": 60,
   "metadata": {},
   "outputs": [
    {
     "name": "stdout",
     "output_type": "stream",
     "text": [
      "{1000, 10, 100, 500}\n"
     ]
    }
   ],
   "source": [
    "print(a_set) "
   ]
  },
  {
   "cell_type": "markdown",
   "metadata": {},
   "source": [
    "Similar to other collection types, we can add different data types to a set"
   ]
  },
  {
   "cell_type": "code",
   "execution_count": 62,
   "metadata": {},
   "outputs": [
    {
     "name": "stdout",
     "output_type": "stream",
     "text": [
      "{100, 1000, 10, 500, 'a string'}\n"
     ]
    }
   ],
   "source": [
    "a_set.add('a string')\n",
    "print(a_set)"
   ]
  },
  {
   "cell_type": "markdown",
   "metadata": {},
   "source": [
    "We can quickly create a set with items by providing a list to the set() function"
   ]
  },
  {
   "cell_type": "code",
   "execution_count": 63,
   "metadata": {},
   "outputs": [
    {
     "name": "stdout",
     "output_type": "stream",
     "text": [
      "{'Emma', 'Jack', 'Alice', 'Bob'}\n"
     ]
    }
   ],
   "source": [
    "another_set = set(['Alice','Bob','Emma','Jack'])\n",
    "print(another_set)"
   ]
  },
  {
   "cell_type": "markdown",
   "metadata": {},
   "source": [
    "A quick way to get the unique items from a list is to convert it to set, then convert back to list, for example:"
   ]
  },
  {
   "cell_type": "code",
   "execution_count": 65,
   "metadata": {},
   "outputs": [
    {
     "name": "stdout",
     "output_type": "stream",
     "text": [
      "['Bob', 'Carol', 'Daniel', 'Emma', 'Alice']\n"
     ]
    }
   ],
   "source": [
    "some_list = ['Alice','Bob','Alice','Carol','Bob','Emma','Bob','Daniel']\n",
    "\n",
    "temp_set = set(some_list)\n",
    "\n",
    "some_list_unique = list(temp_set)\n",
    "\n",
    "print(some_list_unique)"
   ]
  },
  {
   "cell_type": "markdown",
   "metadata": {},
   "source": [
    "We can remove item from sets with remove() method. Note that this method makes direct changes to the set"
   ]
  },
  {
   "cell_type": "code",
   "execution_count": 66,
   "metadata": {},
   "outputs": [
    {
     "name": "stdout",
     "output_type": "stream",
     "text": [
      "{'Carol', 'Daniel', 'Emma'}\n"
     ]
    }
   ],
   "source": [
    "name_set = set(['Bob', 'Carol', 'Daniel', 'Emma', 'Alice'])\n",
    "\n",
    "name_set.remove('Alice')\n",
    "name_set.remove('Bob')\n",
    "\n",
    "print(name_set)"
   ]
  },
  {
   "cell_type": "markdown",
   "metadata": {},
   "source": [
    "Similar to other collection types, we can iterate a set with for loop"
   ]
  },
  {
   "cell_type": "code",
   "execution_count": 67,
   "metadata": {},
   "outputs": [
    {
     "name": "stdout",
     "output_type": "stream",
     "text": [
      "Carol\n",
      "Daniel\n",
      "Emma\n"
     ]
    }
   ],
   "source": [
    "for item in name_set:\n",
    "    print(item)"
   ]
  },
  {
   "cell_type": "markdown",
   "metadata": {},
   "source": [
    "And checking if items are in the set with <b>in</b> and <b>not in</b>"
   ]
  },
  {
   "cell_type": "code",
   "execution_count": 68,
   "metadata": {},
   "outputs": [
    {
     "name": "stdout",
     "output_type": "stream",
     "text": [
      "False\n",
      "True\n"
     ]
    }
   ],
   "source": [
    "print('Alice' in name_set)\n",
    "print('Carol' in name_set)"
   ]
  },
  {
   "cell_type": "markdown",
   "metadata": {},
   "source": [
    "<h4>Other Methods with Sets</h4>\n",
    "\n",
    "- union(): get the union of two sets <br>\n",
    "     set1.union(set2)\n",
    "\n",
    "- intersection(): get the intersection of two sets <br>\n",
    "     set1.intersection(set2)\n",
    "\n",
    "- difference(): get the difference of two sets. (elements that appear in set 1 but do not appear in set 2 <br>\n",
    "     set1.difference(set2)\n",
    "\n",
    "- symmetric_difference(): get the symmetric difference of two sets (elements that are not shared by the sets)<br>\n",
    "     set1.symmetric_difference(set2)"
   ]
  },
  {
   "cell_type": "code",
   "execution_count": 70,
   "metadata": {},
   "outputs": [],
   "source": [
    "set1 = set(['Alice','Bob','Carol','Daniel'])\n",
    "set2 = set(['Alice','Jake','Emma','Bob'])"
   ]
  },
  {
   "cell_type": "code",
   "execution_count": 71,
   "metadata": {},
   "outputs": [
    {
     "data": {
      "text/plain": [
       "{'Alice', 'Bob', 'Carol', 'Daniel', 'Emma', 'Jake'}"
      ]
     },
     "execution_count": 71,
     "metadata": {},
     "output_type": "execute_result"
    }
   ],
   "source": [
    "set1.union(set2)"
   ]
  },
  {
   "cell_type": "code",
   "execution_count": 72,
   "metadata": {},
   "outputs": [
    {
     "data": {
      "text/plain": [
       "{'Alice', 'Bob'}"
      ]
     },
     "execution_count": 72,
     "metadata": {},
     "output_type": "execute_result"
    }
   ],
   "source": [
    "set1.intersection(set2)"
   ]
  },
  {
   "cell_type": "code",
   "execution_count": 73,
   "metadata": {},
   "outputs": [
    {
     "data": {
      "text/plain": [
       "{'Carol', 'Daniel'}"
      ]
     },
     "execution_count": 73,
     "metadata": {},
     "output_type": "execute_result"
    }
   ],
   "source": [
    "set1.difference(set2)"
   ]
  },
  {
   "cell_type": "code",
   "execution_count": 74,
   "metadata": {},
   "outputs": [
    {
     "data": {
      "text/plain": [
       "{'Carol', 'Daniel', 'Emma', 'Jake'}"
      ]
     },
     "execution_count": 74,
     "metadata": {},
     "output_type": "execute_result"
    }
   ],
   "source": [
    "set1.symmetric_difference(set2)"
   ]
  },
  {
   "cell_type": "markdown",
   "metadata": {},
   "source": [
    "<h3>Serializing Objects</h3>\n",
    "\n",
    "Remember how we write/read files to save and load objects? Another way is to use the pickle library for this. It is a bit easier since you don't have to manually convert attribute to strings when saving, and convert them back to objects when loading.\n",
    "\n",
    "For example, let's have a simple class"
   ]
  },
  {
   "cell_type": "code",
   "execution_count": 75,
   "metadata": {},
   "outputs": [],
   "source": [
    "class Student:\n",
    "    \n",
    "    def __init__(self,sid,name):\n",
    "        self.__sid = sid\n",
    "        self.__name = name\n",
    "        \n",
    "    #you can add setters/getters if you want, but they are not necessary in this case\n",
    "    #since we are just demonstrating the use of pickle\n",
    "    \n",
    "    def __str__(self):\n",
    "        return self.__sid + ', ' + self.__name"
   ]
  },
  {
   "cell_type": "markdown",
   "metadata": {},
   "source": [
    "Then create some objects and put them into a list"
   ]
  },
  {
   "cell_type": "code",
   "execution_count": 76,
   "metadata": {},
   "outputs": [],
   "source": [
    "alice = Student('0001','Alice')\n",
    "bob = Student('0002','Bob')\n",
    "carol = Student('0003','Carol')\n",
    "daniel = Student('0004','Daniel')\n",
    "\n",
    "student_list = [alice, bob, carol, daniel]"
   ]
  },
  {
   "cell_type": "markdown",
   "metadata": {},
   "source": [
    "Now, import pickle and save the object lists. We use the dump() function to do that; you need to provide the object to save, and the file name. The step:\n",
    "\n",
    "1. Open a file using 'wb' mode (write in binary) - the extension can be anything, but should be easy to understand\n",
    "2. Call pickle.dump(object, file)\n",
    "3. Close the file"
   ]
  },
  {
   "cell_type": "code",
   "execution_count": 77,
   "metadata": {},
   "outputs": [],
   "source": [
    "import pickle\n",
    "\n",
    "#open file as 'wb'\n",
    "out_file = open('student_list.obj', 'wb')\n",
    "\n",
    "#write\n",
    "pickle.dump(student_list, out_file)\n",
    "\n",
    "#close file\n",
    "out_file.close()"
   ]
  },
  {
   "cell_type": "markdown",
   "metadata": {},
   "source": [
    "After running the previous cell, you should see a student_list.obj file in the same directory of your program. To load, we can use pickle.load(). Note that you still need to open and close the file"
   ]
  },
  {
   "cell_type": "code",
   "execution_count": 80,
   "metadata": {},
   "outputs": [],
   "source": [
    "from_file = open('student_list.obj', 'rb')\n",
    "\n",
    "loaded_list = pickle.load(from_file)\n",
    "\n",
    "from_file.close()"
   ]
  },
  {
   "cell_type": "code",
   "execution_count": 82,
   "metadata": {},
   "outputs": [
    {
     "data": {
      "text/plain": [
       "[<__main__.Student at 0x24a02533d08>,\n",
       " <__main__.Student at 0x24a026bd348>,\n",
       " <__main__.Student at 0x24a02499648>,\n",
       " <__main__.Student at 0x24a02533988>]"
      ]
     },
     "execution_count": 82,
     "metadata": {},
     "output_type": "execute_result"
    }
   ],
   "source": [
    "#now, the loaded_list will contains all four students we created previously\n",
    "loaded_list"
   ]
  },
  {
   "cell_type": "code",
   "execution_count": 83,
   "metadata": {},
   "outputs": [
    {
     "name": "stdout",
     "output_type": "stream",
     "text": [
      "0001, Alice\n",
      "0002, Bob\n",
      "0003, Carol\n",
      "0004, Daniel\n"
     ]
    }
   ],
   "source": [
    "for student in loaded_list:\n",
    "    print(student)"
   ]
  }
 ],
 "metadata": {
  "kernelspec": {
   "display_name": "Python 3 (ipykernel)",
   "language": "python",
   "name": "python3"
  },
  "language_info": {
   "codemirror_mode": {
    "name": "ipython",
    "version": 3
   },
   "file_extension": ".py",
   "mimetype": "text/x-python",
   "name": "python",
   "nbconvert_exporter": "python",
   "pygments_lexer": "ipython3",
   "version": "3.9.12"
  }
 },
 "nbformat": 4,
 "nbformat_minor": 2
}
