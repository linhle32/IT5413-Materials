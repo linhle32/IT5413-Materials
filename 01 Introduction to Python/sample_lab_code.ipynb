{
 "cells": [
  {
   "cell_type": "code",
   "execution_count": 2,
   "metadata": {},
   "outputs": [
    {
     "name": "stdout",
     "output_type": "stream",
     "text": [
      "Please enter the first number: 10\n",
      "Please enter the second number: 20\n",
      "\n",
      "The sum of the two numbers is:\n",
      "10 + 20 = 30\n",
      "\n"
     ]
    }
   ],
   "source": [
    "###this program asks for two numbers from keyboard\n",
    "###then output the sum of the two numbers\n",
    "\n",
    "#input the two numbers\n",
    "number_1 = int(input('Please enter the first number: '))\n",
    "number_2 = int(input('Please enter the second number: '))\n",
    "\n",
    "#compute the sum\n",
    "output = number_1 + number_2\n",
    "\n",
    "#output the sum as an equation\n",
    "print(\"\"\"\n",
    "The sum of the two numbers is:\n",
    "%d + %d = %d\n",
    "\"\"\" % (number_1, number_2, output))\n",
    "###"
   ]
  },
  {
   "cell_type": "code",
   "execution_count": null,
   "metadata": {},
   "outputs": [],
   "source": []
  }
 ],
 "metadata": {
  "kernelspec": {
   "display_name": "Python 3",
   "language": "python",
   "name": "python3"
  },
  "language_info": {
   "codemirror_mode": {
    "name": "ipython",
    "version": 3
   },
   "file_extension": ".py",
   "mimetype": "text/x-python",
   "name": "python",
   "nbconvert_exporter": "python",
   "pygments_lexer": "ipython3",
   "version": "3.7.6"
  }
 },
 "nbformat": 4,
 "nbformat_minor": 2
}
